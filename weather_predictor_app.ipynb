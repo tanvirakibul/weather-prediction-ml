{
  "nbformat": 4,
  "nbformat_minor": 0,
  "metadata": {
    "kernelspec": {
      "display_name": "Python 3",
      "language": "python",
      "name": "python3"
    },
    "language_info": {
      "codemirror_mode": {
        "name": "ipython",
        "version": 3
      },
      "file_extension": ".py",
      "mimetype": "text/x-python",
      "name": "python",
      "nbconvert_exporter": "python",
      "pygments_lexer": "ipython3",
      "version": "3.8.3"
    },
    "colab": {
      "name": "Part 01 of weather-predictor-app.ipynb",
      "provenance": [],
      "collapsed_sections": [],
      "toc_visible": true
    }
  },
  "cells": [
    {
      "cell_type": "code",
      "metadata": {
        "scrolled": false,
        "id": "kxI_JeIcnkzL"
      },
      "source": [
        "# Regular EDA (exploratory data analysis) and plotting libraries\n",
        "import pandas as pd\n",
        "import numpy as np\n",
        "import matplotlib.pyplot as plt\n",
        "import seaborn as sns\n",
        "\n",
        "# we want our plots to appear inside the notebook\n",
        "%matplotlib inline"
      ],
      "execution_count": 5,
      "outputs": []
    },
    {
      "cell_type": "code",
      "metadata": {
        "colab": {
          "base_uri": "https://localhost:8080/"
        },
        "id": "bP06VFKhVjam",
        "outputId": "b92b9024-a102-4463-c7d3-70d96cd55cec"
      },
      "source": [
        "from google.colab import drive\r\n",
        "drive.mount('/content/drive')"
      ],
      "execution_count": 6,
      "outputs": [
        {
          "output_type": "stream",
          "text": [
            "Drive already mounted at /content/drive; to attempt to forcibly remount, call drive.mount(\"/content/drive\", force_remount=True).\n"
          ],
          "name": "stdout"
        }
      ]
    },
    {
      "cell_type": "code",
      "metadata": {
        "id": "dzQa9LrRnkzM"
      },
      "source": [
        "# Import training and validation sets\n",
        "df = pd.read_csv(\"/content/drive/MyDrive/ml/data/weather.csv\",\n",
        "                low_memory=False)"
      ],
      "execution_count": 7,
      "outputs": []
    },
    {
      "cell_type": "code",
      "metadata": {
        "colab": {
          "base_uri": "https://localhost:8080/"
        },
        "id": "JzmXwdE6nkzN",
        "outputId": "ecc0a333-9f68-45c3-ede3-c38959a29ccc"
      },
      "source": [
        "df.info()"
      ],
      "execution_count": 8,
      "outputs": [
        {
          "output_type": "stream",
          "text": [
            "<class 'pandas.core.frame.DataFrame'>\n",
            "RangeIndex: 4546 entries, 0 to 4545\n",
            "Data columns (total 7 columns):\n",
            " #   Column    Non-Null Count  Dtype  \n",
            "---  ------    --------------  -----  \n",
            " 0   DATE      4546 non-null   object \n",
            " 1   TMAX      4546 non-null   int64  \n",
            " 2   TMIN      4546 non-null   int64  \n",
            " 3   HUMIDITY  4546 non-null   int64  \n",
            " 4   PRCP      4546 non-null   float64\n",
            " 5   PRESSURE  4546 non-null   int64  \n",
            " 6   RAIN      4546 non-null   bool   \n",
            "dtypes: bool(1), float64(1), int64(4), object(1)\n",
            "memory usage: 217.7+ KB\n"
          ],
          "name": "stdout"
        }
      ]
    },
    {
      "cell_type": "code",
      "metadata": {
        "colab": {
          "base_uri": "https://localhost:8080/"
        },
        "id": "HMcx2C1enkzO",
        "outputId": "358eb19e-9223-4782-e17b-11b62d35d2b7"
      },
      "source": [
        "# Finding how many missing values are there\n",
        "df.isna().sum()"
      ],
      "execution_count": 9,
      "outputs": [
        {
          "output_type": "execute_result",
          "data": {
            "text/plain": [
              "DATE        0\n",
              "TMAX        0\n",
              "TMIN        0\n",
              "HUMIDITY    0\n",
              "PRCP        0\n",
              "PRESSURE    0\n",
              "RAIN        0\n",
              "dtype: int64"
            ]
          },
          "metadata": {
            "tags": []
          },
          "execution_count": 9
        }
      ]
    },
    {
      "cell_type": "markdown",
      "metadata": {
        "id": "3N5lLl9-uwIz"
      },
      "source": [
        "**NB**: NO MISSING VALUES"
      ]
    },
    {
      "cell_type": "code",
      "metadata": {
        "colab": {
          "base_uri": "https://localhost:8080/"
        },
        "id": "wiw-8SXMnkzP",
        "outputId": "7acbd9d4-4182-4395-e3fa-bb5dca0c1f8e"
      },
      "source": [
        "# Columns of the data set\n",
        "df.columns"
      ],
      "execution_count": 10,
      "outputs": [
        {
          "output_type": "execute_result",
          "data": {
            "text/plain": [
              "Index(['DATE', 'TMAX', 'TMIN', 'HUMIDITY', 'PRCP', 'PRESSURE', 'RAIN'], dtype='object')"
            ]
          },
          "metadata": {
            "tags": []
          },
          "execution_count": 10
        }
      ]
    },
    {
      "cell_type": "code",
      "metadata": {
        "colab": {
          "base_uri": "https://localhost:8080/",
          "height": 483
        },
        "id": "_vegJXzYnkzQ",
        "outputId": "952ea2d6-75a5-49d5-8c2a-235ee11a9e03"
      },
      "source": [
        "# Plotting saledate vs SalePrice for the first 100 samples\n",
        "fig, ax = plt.subplots(figsize=(10,8))\n",
        "ax.scatter(df[\"DATE\"][:1000], df[\"PRCP\"][:1000]);"
      ],
      "execution_count": 11,
      "outputs": [
        {
          "output_type": "display_data",
          "data": {
            "image/png": "[encoded data removed]",
            "text/plain": [
              "<Figure size 720x576 with 1 Axes>"
            ]
          },
          "metadata": {
            "tags": [],
            "needs_background": "light"
          }
        }
      ]
    },
    {
      "cell_type": "code",
      "metadata": {
        "colab": {
          "base_uri": "https://localhost:8080/"
        },
        "id": "3ZrD6gp9nkzQ",
        "outputId": "2471a1d2-9fd9-48d7-f267-4c4b776a4630"
      },
      "source": [
        "df.DATE[:1000]"
      ],
      "execution_count": 12,
      "outputs": [
        {
          "output_type": "execute_result",
          "data": {
            "text/plain": [
              "0       7/1/2008\n",
              "1       7/2/2008\n",
              "2       7/3/2008\n",
              "3       7/4/2008\n",
              "4       7/5/2008\n",
              "         ...    \n",
              "995    3/23/2011\n",
              "996    3/24/2011\n",
              "997    3/25/2011\n",
              "998    3/26/2011\n",
              "999    3/27/2011\n",
              "Name: DATE, Length: 1000, dtype: object"
            ]
          },
          "metadata": {
            "tags": []
          },
          "execution_count": 12
        }
      ]
    },
    {
      "cell_type": "code",
      "metadata": {
        "colab": {
          "base_uri": "https://localhost:8080/",
          "height": 265
        },
        "id": "liks3wQankzR",
        "outputId": "484af5c6-1af5-4c7e-d845-2e6a18712c70"
      },
      "source": [
        "# Plotting PRCP in histogram\n",
        "df.PRCP.plot.hist();"
      ],
      "execution_count": 13,
      "outputs": [
        {
          "output_type": "display_data",
          "data": {
            "image/png": "[encoded data removed]",
            "text/plain": [
              "<Figure size 432x288 with 1 Axes>"
            ]
          },
          "metadata": {
            "tags": [],
            "needs_background": "light"
          }
        }
      ]
    },
    {
      "cell_type": "markdown",
      "metadata": {
        "id": "1k936hzMnkzR"
      },
      "source": [
        "### Parsing dates\n",
        "\n",
        "When we work with time series data, we want to enrich the time & date component as much as possible.\n",
        "\n",
        "We can do that by telling pandas which of our columns has dates in it using the parse_dates parameter."
      ]
    },
    {
      "cell_type": "code",
      "metadata": {
        "id": "8y849VeBnkzS"
      },
      "source": [
        "# Import data again but this time parse dates\n",
        "df = pd.read_csv(\"/content/drive/MyDrive/ml/data/weather.csv\",\n",
        "                low_memory=False,\n",
        "                parse_dates=[\"DATE\"])"
      ],
      "execution_count": 14,
      "outputs": []
    },
    {
      "cell_type": "code",
      "metadata": {
        "colab": {
          "base_uri": "https://localhost:8080/"
        },
        "id": "1shRMJSLnkzS",
        "outputId": "7df985f4-80c1-4d32-c6c5-fc7801bac111"
      },
      "source": [
        "df.DATE.dtype"
      ],
      "execution_count": 15,
      "outputs": [
        {
          "output_type": "execute_result",
          "data": {
            "text/plain": [
              "dtype('<M8[ns]')"
            ]
          },
          "metadata": {
            "tags": []
          },
          "execution_count": 15
        }
      ]
    },
    {
      "cell_type": "code",
      "metadata": {
        "colab": {
          "base_uri": "https://localhost:8080/"
        },
        "id": "hZNQP0TGnkzT",
        "outputId": "0c69bf8c-483c-479f-d2e6-9ef6b15b8fd8"
      },
      "source": [
        "df.DATE[:1000]"
      ],
      "execution_count": 16,
      "outputs": [
        {
          "output_type": "execute_result",
          "data": {
            "text/plain": [
              "0     2008-07-01\n",
              "1     2008-07-02\n",
              "2     2008-07-03\n",
              "3     2008-07-04\n",
              "4     2008-07-05\n",
              "         ...    \n",
              "995   2011-03-23\n",
              "996   2011-03-24\n",
              "997   2011-03-25\n",
              "998   2011-03-26\n",
              "999   2011-03-27\n",
              "Name: DATE, Length: 1000, dtype: datetime64[ns]"
            ]
          },
          "metadata": {
            "tags": []
          },
          "execution_count": 16
        }
      ]
    },
    {
      "cell_type": "code",
      "metadata": {
        "colab": {
          "base_uri": "https://localhost:8080/",
          "height": 483
        },
        "id": "ywykYLe0nkzU",
        "outputId": "b408e467-07b2-4ebe-97ab-150612558df8"
      },
      "source": [
        "fig, ax = plt.subplots(figsize=(10,8))\n",
        "ax.scatter(df[\"DATE\"][:1000], df[\"PRCP\"][:1000]);"
      ],
      "execution_count": 17,
      "outputs": [
        {
          "output_type": "display_data",
          "data": {
            "image/png": "[encoded data removed]",
            "text/plain": [
              "<Figure size 720x576 with 1 Axes>"
            ]
          },
          "metadata": {
            "tags": [],
            "needs_background": "light"
          }
        }
      ]
    },
    {
      "cell_type": "code",
      "metadata": {
        "colab": {
          "base_uri": "https://localhost:8080/",
          "height": 195
        },
        "id": "ULIVcSdXnkzU",
        "outputId": "e4953875-0988-4755-f489-16855e10c4f6"
      },
      "source": [
        "df.head()"
      ],
      "execution_count": 18,
      "outputs": [
        {
          "output_type": "execute_result",
          "data": {
            "text/html": [
              "<div>\n",
              "<style scoped>\n",
              "    .dataframe tbody tr th:only-of-type {\n",
              "        vertical-align: middle;\n",
              "    }\n",
              "\n",
              "    .dataframe tbody tr th {\n",
              "        vertical-align: top;\n",
              "    }\n",
              "\n",
              "    .dataframe thead th {\n",
              "        text-align: right;\n",
              "    }\n",
              "</style>\n",
              "<table border=\"1\" class=\"dataframe\">\n",
              "  <thead>\n",
              "    <tr style=\"text-align: right;\">\n",
              "      <th></th>\n",
              "      <th>DATE</th>\n",
              "      <th>TMAX</th>\n",
              "      <th>TMIN</th>\n",
              "      <th>HUMIDITY</th>\n",
              "      <th>PRCP</th>\n",
              "      <th>PRESSURE</th>\n",
              "      <th>RAIN</th>\n",
              "    </tr>\n",
              "  </thead>\n",
              "  <tbody>\n",
              "    <tr>\n",
              "      <th>0</th>\n",
              "      <td>2008-07-01</td>\n",
              "      <td>30</td>\n",
              "      <td>26</td>\n",
              "      <td>94</td>\n",
              "      <td>1.6</td>\n",
              "      <td>1001</td>\n",
              "      <td>True</td>\n",
              "    </tr>\n",
              "    <tr>\n",
              "      <th>1</th>\n",
              "      <td>2008-07-02</td>\n",
              "      <td>31</td>\n",
              "      <td>26</td>\n",
              "      <td>93</td>\n",
              "      <td>0.8</td>\n",
              "      <td>1001</td>\n",
              "      <td>True</td>\n",
              "    </tr>\n",
              "    <tr>\n",
              "      <th>2</th>\n",
              "      <td>2008-07-03</td>\n",
              "      <td>29</td>\n",
              "      <td>26</td>\n",
              "      <td>95</td>\n",
              "      <td>0.0</td>\n",
              "      <td>1001</td>\n",
              "      <td>False</td>\n",
              "    </tr>\n",
              "    <tr>\n",
              "      <th>3</th>\n",
              "      <td>2008-07-04</td>\n",
              "      <td>32</td>\n",
              "      <td>26</td>\n",
              "      <td>91</td>\n",
              "      <td>0.0</td>\n",
              "      <td>1001</td>\n",
              "      <td>False</td>\n",
              "    </tr>\n",
              "    <tr>\n",
              "      <th>4</th>\n",
              "      <td>2008-07-05</td>\n",
              "      <td>31</td>\n",
              "      <td>26</td>\n",
              "      <td>93</td>\n",
              "      <td>0.0</td>\n",
              "      <td>1000</td>\n",
              "      <td>False</td>\n",
              "    </tr>\n",
              "  </tbody>\n",
              "</table>\n",
              "</div>"
            ],
            "text/plain": [
              "        DATE  TMAX  TMIN  HUMIDITY  PRCP  PRESSURE   RAIN\n",
              "0 2008-07-01    30    26        94   1.6      1001   True\n",
              "1 2008-07-02    31    26        93   0.8      1001   True\n",
              "2 2008-07-03    29    26        95   0.0      1001  False\n",
              "3 2008-07-04    32    26        91   0.0      1001  False\n",
              "4 2008-07-05    31    26        93   0.0      1000  False"
            ]
          },
          "metadata": {
            "tags": []
          },
          "execution_count": 18
        }
      ]
    },
    {
      "cell_type": "code",
      "metadata": {
        "colab": {
          "base_uri": "https://localhost:8080/",
          "height": 254
        },
        "id": "3jOAuXRtnkzV",
        "outputId": "f3fe6103-e3d6-460b-dc9c-b8e0fbcbbc31"
      },
      "source": [
        "df.head().T"
      ],
      "execution_count": 19,
      "outputs": [
        {
          "output_type": "execute_result",
          "data": {
            "text/html": [
              "<div>\n",
              "<style scoped>\n",
              "    .dataframe tbody tr th:only-of-type {\n",
              "        vertical-align: middle;\n",
              "    }\n",
              "\n",
              "    .dataframe tbody tr th {\n",
              "        vertical-align: top;\n",
              "    }\n",
              "\n",
              "    .dataframe thead th {\n",
              "        text-align: right;\n",
              "    }\n",
              "</style>\n",
              "<table border=\"1\" class=\"dataframe\">\n",
              "  <thead>\n",
              "    <tr style=\"text-align: right;\">\n",
              "      <th></th>\n",
              "      <th>0</th>\n",
              "      <th>1</th>\n",
              "      <th>2</th>\n",
              "      <th>3</th>\n",
              "      <th>4</th>\n",
              "    </tr>\n",
              "  </thead>\n",
              "  <tbody>\n",
              "    <tr>\n",
              "      <th>DATE</th>\n",
              "      <td>2008-07-01 00:00:00</td>\n",
              "      <td>2008-07-02 00:00:00</td>\n",
              "      <td>2008-07-03 00:00:00</td>\n",
              "      <td>2008-07-04 00:00:00</td>\n",
              "      <td>2008-07-05 00:00:00</td>\n",
              "    </tr>\n",
              "    <tr>\n",
              "      <th>TMAX</th>\n",
              "      <td>30</td>\n",
              "      <td>31</td>\n",
              "      <td>29</td>\n",
              "      <td>32</td>\n",
              "      <td>31</td>\n",
              "    </tr>\n",
              "    <tr>\n",
              "      <th>TMIN</th>\n",
              "      <td>26</td>\n",
              "      <td>26</td>\n",
              "      <td>26</td>\n",
              "      <td>26</td>\n",
              "      <td>26</td>\n",
              "    </tr>\n",
              "    <tr>\n",
              "      <th>HUMIDITY</th>\n",
              "      <td>94</td>\n",
              "      <td>93</td>\n",
              "      <td>95</td>\n",
              "      <td>91</td>\n",
              "      <td>93</td>\n",
              "    </tr>\n",
              "    <tr>\n",
              "      <th>PRCP</th>\n",
              "      <td>1.6</td>\n",
              "      <td>0.8</td>\n",
              "      <td>0</td>\n",
              "      <td>0</td>\n",
              "      <td>0</td>\n",
              "    </tr>\n",
              "    <tr>\n",
              "      <th>PRESSURE</th>\n",
              "      <td>1001</td>\n",
              "      <td>1001</td>\n",
              "      <td>1001</td>\n",
              "      <td>1001</td>\n",
              "      <td>1000</td>\n",
              "    </tr>\n",
              "    <tr>\n",
              "      <th>RAIN</th>\n",
              "      <td>True</td>\n",
              "      <td>True</td>\n",
              "      <td>False</td>\n",
              "      <td>False</td>\n",
              "      <td>False</td>\n",
              "    </tr>\n",
              "  </tbody>\n",
              "</table>\n",
              "</div>"
            ],
            "text/plain": [
              "                            0  ...                    4\n",
              "DATE      2008-07-01 00:00:00  ...  2008-07-05 00:00:00\n",
              "TMAX                       30  ...                   31\n",
              "TMIN                       26  ...                   26\n",
              "HUMIDITY                   94  ...                   93\n",
              "PRCP                      1.6  ...                    0\n",
              "PRESSURE                 1001  ...                 1000\n",
              "RAIN                     True  ...                False\n",
              "\n",
              "[7 rows x 5 columns]"
            ]
          },
          "metadata": {
            "tags": []
          },
          "execution_count": 19
        }
      ]
    },
    {
      "cell_type": "code",
      "metadata": {
        "colab": {
          "base_uri": "https://localhost:8080/"
        },
        "id": "c7esU9uWnkzV",
        "outputId": "8755cda7-4b30-4cd3-d341-701b9057df40"
      },
      "source": [
        "df.DATE.head(20)"
      ],
      "execution_count": 20,
      "outputs": [
        {
          "output_type": "execute_result",
          "data": {
            "text/plain": [
              "0    2008-07-01\n",
              "1    2008-07-02\n",
              "2    2008-07-03\n",
              "3    2008-07-04\n",
              "4    2008-07-05\n",
              "5    2008-07-06\n",
              "6    2008-07-07\n",
              "7    2008-07-08\n",
              "8    2008-07-09\n",
              "9    2008-07-10\n",
              "10   2008-07-11\n",
              "11   2008-07-12\n",
              "12   2008-07-13\n",
              "13   2008-07-14\n",
              "14   2008-07-15\n",
              "15   2008-07-16\n",
              "16   2008-07-17\n",
              "17   2008-07-18\n",
              "18   2008-07-19\n",
              "19   2008-07-20\n",
              "Name: DATE, dtype: datetime64[ns]"
            ]
          },
          "metadata": {
            "tags": []
          },
          "execution_count": 20
        }
      ]
    },
    {
      "cell_type": "markdown",
      "metadata": {
        "id": "346UuceqnkzV"
      },
      "source": [
        "### Sort DataFrame by Date\n",
        "\n",
        "When working with time series data, it's good to sort it by date"
      ]
    },
    {
      "cell_type": "code",
      "metadata": {
        "colab": {
          "base_uri": "https://localhost:8080/"
        },
        "id": "UOl8D0BtnkzW",
        "outputId": "30f933ef-3677-490d-c327-ea2d2adc8966"
      },
      "source": [
        "# Sort DataFrame in date order\n",
        "df.sort_values(by=[\"DATE\"], inplace=True, ascending=True)\n",
        "df.DATE.head(20)"
      ],
      "execution_count": 21,
      "outputs": [
        {
          "output_type": "execute_result",
          "data": {
            "text/plain": [
              "0    2008-07-01\n",
              "1    2008-07-02\n",
              "2    2008-07-03\n",
              "3    2008-07-04\n",
              "4    2008-07-05\n",
              "5    2008-07-06\n",
              "6    2008-07-07\n",
              "7    2008-07-08\n",
              "8    2008-07-09\n",
              "9    2008-07-10\n",
              "10   2008-07-11\n",
              "11   2008-07-12\n",
              "12   2008-07-13\n",
              "13   2008-07-14\n",
              "14   2008-07-15\n",
              "15   2008-07-16\n",
              "16   2008-07-17\n",
              "17   2008-07-18\n",
              "18   2008-07-19\n",
              "19   2008-07-20\n",
              "Name: DATE, dtype: datetime64[ns]"
            ]
          },
          "metadata": {
            "tags": []
          },
          "execution_count": 21
        }
      ]
    },
    {
      "cell_type": "markdown",
      "metadata": {
        "id": "21cFo-JbnkzW"
      },
      "source": [
        "### Make a copy of the original DataFrame\n",
        "\n",
        "We make a copy of the original dataframe so when we manipulate the copy, we've still got our original data."
      ]
    },
    {
      "cell_type": "code",
      "metadata": {
        "id": "HPknQ6RCnkzX"
      },
      "source": [
        "# Make a copy of the original DataFrame to perform edits on\n",
        "\n",
        "df_tmax = df.copy()"
      ],
      "execution_count": 22,
      "outputs": []
    },
    {
      "cell_type": "markdown",
      "metadata": {
        "id": "fxZ-yxPPZ1hl"
      },
      "source": [
        "# Predicting TMAX"
      ]
    },
    {
      "cell_type": "markdown",
      "metadata": {
        "id": "ebOR1hNQnkzX"
      },
      "source": [
        "### Add datetime parameters for date column"
      ]
    },
    {
      "cell_type": "code",
      "metadata": {
        "id": "aBc-VbfVnkzX"
      },
      "source": [
        "df_tmax[\"Year\"] = df_tmax.DATE.dt.year\n",
        "df_tmax[\"Month\"] = df_tmax.DATE.dt.month\n",
        "df_tmax[\"Day\"] = df_tmax.DATE.dt.day"
      ],
      "execution_count": 23,
      "outputs": []
    },
    {
      "cell_type": "code",
      "metadata": {
        "colab": {
          "base_uri": "https://localhost:8080/",
          "height": 343
        },
        "id": "0o1YuEc8nkzX",
        "outputId": "1e0017c3-1185-45cb-df1e-f92f457ebea6"
      },
      "source": [
        "df_tmax.head().T"
      ],
      "execution_count": 24,
      "outputs": [
        {
          "output_type": "execute_result",
          "data": {
            "text/html": [
              "<div>\n",
              "<style scoped>\n",
              "    .dataframe tbody tr th:only-of-type {\n",
              "        vertical-align: middle;\n",
              "    }\n",
              "\n",
              "    .dataframe tbody tr th {\n",
              "        vertical-align: top;\n",
              "    }\n",
              "\n",
              "    .dataframe thead th {\n",
              "        text-align: right;\n",
              "    }\n",
              "</style>\n",
              "<table border=\"1\" class=\"dataframe\">\n",
              "  <thead>\n",
              "    <tr style=\"text-align: right;\">\n",
              "      <th></th>\n",
              "      <th>0</th>\n",
              "      <th>1</th>\n",
              "      <th>2</th>\n",
              "      <th>3</th>\n",
              "      <th>4</th>\n",
              "    </tr>\n",
              "  </thead>\n",
              "  <tbody>\n",
              "    <tr>\n",
              "      <th>DATE</th>\n",
              "      <td>2008-07-01 00:00:00</td>\n",
              "      <td>2008-07-02 00:00:00</td>\n",
              "      <td>2008-07-03 00:00:00</td>\n",
              "      <td>2008-07-04 00:00:00</td>\n",
              "      <td>2008-07-05 00:00:00</td>\n",
              "    </tr>\n",
              "    <tr>\n",
              "      <th>TMAX</th>\n",
              "      <td>30</td>\n",
              "      <td>31</td>\n",
              "      <td>29</td>\n",
              "      <td>32</td>\n",
              "      <td>31</td>\n",
              "    </tr>\n",
              "    <tr>\n",
              "      <th>TMIN</th>\n",
              "      <td>26</td>\n",
              "      <td>26</td>\n",
              "      <td>26</td>\n",
              "      <td>26</td>\n",
              "      <td>26</td>\n",
              "    </tr>\n",
              "    <tr>\n",
              "      <th>HUMIDITY</th>\n",
              "      <td>94</td>\n",
              "      <td>93</td>\n",
              "      <td>95</td>\n",
              "      <td>91</td>\n",
              "      <td>93</td>\n",
              "    </tr>\n",
              "    <tr>\n",
              "      <th>PRCP</th>\n",
              "      <td>1.6</td>\n",
              "      <td>0.8</td>\n",
              "      <td>0</td>\n",
              "      <td>0</td>\n",
              "      <td>0</td>\n",
              "    </tr>\n",
              "    <tr>\n",
              "      <th>PRESSURE</th>\n",
              "      <td>1001</td>\n",
              "      <td>1001</td>\n",
              "      <td>1001</td>\n",
              "      <td>1001</td>\n",
              "      <td>1000</td>\n",
              "    </tr>\n",
              "    <tr>\n",
              "      <th>RAIN</th>\n",
              "      <td>True</td>\n",
              "      <td>True</td>\n",
              "      <td>False</td>\n",
              "      <td>False</td>\n",
              "      <td>False</td>\n",
              "    </tr>\n",
              "    <tr>\n",
              "      <th>Year</th>\n",
              "      <td>2008</td>\n",
              "      <td>2008</td>\n",
              "      <td>2008</td>\n",
              "      <td>2008</td>\n",
              "      <td>2008</td>\n",
              "    </tr>\n",
              "    <tr>\n",
              "      <th>Month</th>\n",
              "      <td>7</td>\n",
              "      <td>7</td>\n",
              "      <td>7</td>\n",
              "      <td>7</td>\n",
              "      <td>7</td>\n",
              "    </tr>\n",
              "    <tr>\n",
              "      <th>Day</th>\n",
              "      <td>1</td>\n",
              "      <td>2</td>\n",
              "      <td>3</td>\n",
              "      <td>4</td>\n",
              "      <td>5</td>\n",
              "    </tr>\n",
              "  </tbody>\n",
              "</table>\n",
              "</div>"
            ],
            "text/plain": [
              "                            0  ...                    4\n",
              "DATE      2008-07-01 00:00:00  ...  2008-07-05 00:00:00\n",
              "TMAX                       30  ...                   31\n",
              "TMIN                       26  ...                   26\n",
              "HUMIDITY                   94  ...                   93\n",
              "PRCP                      1.6  ...                    0\n",
              "PRESSURE                 1001  ...                 1000\n",
              "RAIN                     True  ...                False\n",
              "Year                     2008  ...                 2008\n",
              "Month                       7  ...                    7\n",
              "Day                         1  ...                    5\n",
              "\n",
              "[10 rows x 5 columns]"
            ]
          },
          "metadata": {
            "tags": []
          },
          "execution_count": 24
        }
      ]
    },
    {
      "cell_type": "code",
      "metadata": {
        "id": "QfGKOL9bnkzY"
      },
      "source": [
        "# Now that we've enriched our DataFrame with date time features, we can remove DATE and RAIN column\n",
        "\n",
        "df_tmax.drop(\"DATE\", axis=1, inplace=True)"
      ],
      "execution_count": 25,
      "outputs": []
    },
    {
      "cell_type": "code",
      "metadata": {
        "id": "3FKEWUGjsxgy"
      },
      "source": [
        "df_tmax.drop(\"RAIN\", axis=1, inplace=True)"
      ],
      "execution_count": 26,
      "outputs": []
    },
    {
      "cell_type": "code",
      "metadata": {
        "colab": {
          "base_uri": "https://localhost:8080/",
          "height": 402
        },
        "id": "4aOibCoQnkzY",
        "outputId": "6e6918d3-f47e-47fa-93c7-d2fb9e53e643"
      },
      "source": [
        "# Check the values of different columns\n",
        "df_tmax"
      ],
      "execution_count": 27,
      "outputs": [
        {
          "output_type": "execute_result",
          "data": {
            "text/html": [
              "<div>\n",
              "<style scoped>\n",
              "    .dataframe tbody tr th:only-of-type {\n",
              "        vertical-align: middle;\n",
              "    }\n",
              "\n",
              "    .dataframe tbody tr th {\n",
              "        vertical-align: top;\n",
              "    }\n",
              "\n",
              "    .dataframe thead th {\n",
              "        text-align: right;\n",
              "    }\n",
              "</style>\n",
              "<table border=\"1\" class=\"dataframe\">\n",
              "  <thead>\n",
              "    <tr style=\"text-align: right;\">\n",
              "      <th></th>\n",
              "      <th>TMAX</th>\n",
              "      <th>TMIN</th>\n",
              "      <th>HUMIDITY</th>\n",
              "      <th>PRCP</th>\n",
              "      <th>PRESSURE</th>\n",
              "      <th>Year</th>\n",
              "      <th>Month</th>\n",
              "      <th>Day</th>\n",
              "    </tr>\n",
              "  </thead>\n",
              "  <tbody>\n",
              "    <tr>\n",
              "      <th>0</th>\n",
              "      <td>30</td>\n",
              "      <td>26</td>\n",
              "      <td>94</td>\n",
              "      <td>1.6</td>\n",
              "      <td>1001</td>\n",
              "      <td>2008</td>\n",
              "      <td>7</td>\n",
              "      <td>1</td>\n",
              "    </tr>\n",
              "    <tr>\n",
              "      <th>1</th>\n",
              "      <td>31</td>\n",
              "      <td>26</td>\n",
              "      <td>93</td>\n",
              "      <td>0.8</td>\n",
              "      <td>1001</td>\n",
              "      <td>2008</td>\n",
              "      <td>7</td>\n",
              "      <td>2</td>\n",
              "    </tr>\n",
              "    <tr>\n",
              "      <th>2</th>\n",
              "      <td>29</td>\n",
              "      <td>26</td>\n",
              "      <td>95</td>\n",
              "      <td>0.0</td>\n",
              "      <td>1001</td>\n",
              "      <td>2008</td>\n",
              "      <td>7</td>\n",
              "      <td>3</td>\n",
              "    </tr>\n",
              "    <tr>\n",
              "      <th>3</th>\n",
              "      <td>32</td>\n",
              "      <td>26</td>\n",
              "      <td>91</td>\n",
              "      <td>0.0</td>\n",
              "      <td>1001</td>\n",
              "      <td>2008</td>\n",
              "      <td>7</td>\n",
              "      <td>4</td>\n",
              "    </tr>\n",
              "    <tr>\n",
              "      <th>4</th>\n",
              "      <td>31</td>\n",
              "      <td>26</td>\n",
              "      <td>93</td>\n",
              "      <td>0.0</td>\n",
              "      <td>1000</td>\n",
              "      <td>2008</td>\n",
              "      <td>7</td>\n",
              "      <td>5</td>\n",
              "    </tr>\n",
              "    <tr>\n",
              "      <th>...</th>\n",
              "      <td>...</td>\n",
              "      <td>...</td>\n",
              "      <td>...</td>\n",
              "      <td>...</td>\n",
              "      <td>...</td>\n",
              "      <td>...</td>\n",
              "      <td>...</td>\n",
              "      <td>...</td>\n",
              "    </tr>\n",
              "    <tr>\n",
              "      <th>4541</th>\n",
              "      <td>31</td>\n",
              "      <td>21</td>\n",
              "      <td>50</td>\n",
              "      <td>0.0</td>\n",
              "      <td>1014</td>\n",
              "      <td>2020</td>\n",
              "      <td>12</td>\n",
              "      <td>6</td>\n",
              "    </tr>\n",
              "    <tr>\n",
              "      <th>4542</th>\n",
              "      <td>29</td>\n",
              "      <td>21</td>\n",
              "      <td>49</td>\n",
              "      <td>0.0</td>\n",
              "      <td>1015</td>\n",
              "      <td>2020</td>\n",
              "      <td>12</td>\n",
              "      <td>7</td>\n",
              "    </tr>\n",
              "    <tr>\n",
              "      <th>4543</th>\n",
              "      <td>30</td>\n",
              "      <td>23</td>\n",
              "      <td>51</td>\n",
              "      <td>0.0</td>\n",
              "      <td>1014</td>\n",
              "      <td>2020</td>\n",
              "      <td>12</td>\n",
              "      <td>8</td>\n",
              "    </tr>\n",
              "    <tr>\n",
              "      <th>4544</th>\n",
              "      <td>30</td>\n",
              "      <td>22</td>\n",
              "      <td>51</td>\n",
              "      <td>0.0</td>\n",
              "      <td>1013</td>\n",
              "      <td>2020</td>\n",
              "      <td>12</td>\n",
              "      <td>9</td>\n",
              "    </tr>\n",
              "    <tr>\n",
              "      <th>4545</th>\n",
              "      <td>29</td>\n",
              "      <td>23</td>\n",
              "      <td>52</td>\n",
              "      <td>0.0</td>\n",
              "      <td>1013</td>\n",
              "      <td>2020</td>\n",
              "      <td>12</td>\n",
              "      <td>10</td>\n",
              "    </tr>\n",
              "  </tbody>\n",
              "</table>\n",
              "<p>4546 rows × 8 columns</p>\n",
              "</div>"
            ],
            "text/plain": [
              "      TMAX  TMIN  HUMIDITY  PRCP  PRESSURE  Year  Month  Day\n",
              "0       30    26        94   1.6      1001  2008      7    1\n",
              "1       31    26        93   0.8      1001  2008      7    2\n",
              "2       29    26        95   0.0      1001  2008      7    3\n",
              "3       32    26        91   0.0      1001  2008      7    4\n",
              "4       31    26        93   0.0      1000  2008      7    5\n",
              "...    ...   ...       ...   ...       ...   ...    ...  ...\n",
              "4541    31    21        50   0.0      1014  2020     12    6\n",
              "4542    29    21        49   0.0      1015  2020     12    7\n",
              "4543    30    23        51   0.0      1014  2020     12    8\n",
              "4544    30    22        51   0.0      1013  2020     12    9\n",
              "4545    29    23        52   0.0      1013  2020     12   10\n",
              "\n",
              "[4546 rows x 8 columns]"
            ]
          },
          "metadata": {
            "tags": []
          },
          "execution_count": 27
        }
      ]
    },
    {
      "cell_type": "code",
      "metadata": {
        "colab": {
          "base_uri": "https://localhost:8080/",
          "height": 195
        },
        "id": "GWmmo4iDnkzZ",
        "outputId": "46d6285d-f54b-4906-849a-cf5af7e9d090"
      },
      "source": [
        "df_tmax.head()"
      ],
      "execution_count": 28,
      "outputs": [
        {
          "output_type": "execute_result",
          "data": {
            "text/html": [
              "<div>\n",
              "<style scoped>\n",
              "    .dataframe tbody tr th:only-of-type {\n",
              "        vertical-align: middle;\n",
              "    }\n",
              "\n",
              "    .dataframe tbody tr th {\n",
              "        vertical-align: top;\n",
              "    }\n",
              "\n",
              "    .dataframe thead th {\n",
              "        text-align: right;\n",
              "    }\n",
              "</style>\n",
              "<table border=\"1\" class=\"dataframe\">\n",
              "  <thead>\n",
              "    <tr style=\"text-align: right;\">\n",
              "      <th></th>\n",
              "      <th>TMAX</th>\n",
              "      <th>TMIN</th>\n",
              "      <th>HUMIDITY</th>\n",
              "      <th>PRCP</th>\n",
              "      <th>PRESSURE</th>\n",
              "      <th>Year</th>\n",
              "      <th>Month</th>\n",
              "      <th>Day</th>\n",
              "    </tr>\n",
              "  </thead>\n",
              "  <tbody>\n",
              "    <tr>\n",
              "      <th>0</th>\n",
              "      <td>30</td>\n",
              "      <td>26</td>\n",
              "      <td>94</td>\n",
              "      <td>1.6</td>\n",
              "      <td>1001</td>\n",
              "      <td>2008</td>\n",
              "      <td>7</td>\n",
              "      <td>1</td>\n",
              "    </tr>\n",
              "    <tr>\n",
              "      <th>1</th>\n",
              "      <td>31</td>\n",
              "      <td>26</td>\n",
              "      <td>93</td>\n",
              "      <td>0.8</td>\n",
              "      <td>1001</td>\n",
              "      <td>2008</td>\n",
              "      <td>7</td>\n",
              "      <td>2</td>\n",
              "    </tr>\n",
              "    <tr>\n",
              "      <th>2</th>\n",
              "      <td>29</td>\n",
              "      <td>26</td>\n",
              "      <td>95</td>\n",
              "      <td>0.0</td>\n",
              "      <td>1001</td>\n",
              "      <td>2008</td>\n",
              "      <td>7</td>\n",
              "      <td>3</td>\n",
              "    </tr>\n",
              "    <tr>\n",
              "      <th>3</th>\n",
              "      <td>32</td>\n",
              "      <td>26</td>\n",
              "      <td>91</td>\n",
              "      <td>0.0</td>\n",
              "      <td>1001</td>\n",
              "      <td>2008</td>\n",
              "      <td>7</td>\n",
              "      <td>4</td>\n",
              "    </tr>\n",
              "    <tr>\n",
              "      <th>4</th>\n",
              "      <td>31</td>\n",
              "      <td>26</td>\n",
              "      <td>93</td>\n",
              "      <td>0.0</td>\n",
              "      <td>1000</td>\n",
              "      <td>2008</td>\n",
              "      <td>7</td>\n",
              "      <td>5</td>\n",
              "    </tr>\n",
              "  </tbody>\n",
              "</table>\n",
              "</div>"
            ],
            "text/plain": [
              "   TMAX  TMIN  HUMIDITY  PRCP  PRESSURE  Year  Month  Day\n",
              "0    30    26        94   1.6      1001  2008      7    1\n",
              "1    31    26        93   0.8      1001  2008      7    2\n",
              "2    29    26        95   0.0      1001  2008      7    3\n",
              "3    32    26        91   0.0      1001  2008      7    4\n",
              "4    31    26        93   0.0      1000  2008      7    5"
            ]
          },
          "metadata": {
            "tags": []
          },
          "execution_count": 28
        }
      ]
    },
    {
      "cell_type": "code",
      "metadata": {
        "colab": {
          "base_uri": "https://localhost:8080/"
        },
        "id": "bFxUkQlbnkza",
        "outputId": "6ef8deb8-96bf-4a11-91a6-918794e9d853"
      },
      "source": [
        "len(df_tmax)"
      ],
      "execution_count": 29,
      "outputs": [
        {
          "output_type": "execute_result",
          "data": {
            "text/plain": [
              "4546"
            ]
          },
          "metadata": {
            "tags": []
          },
          "execution_count": 29
        }
      ]
    },
    {
      "cell_type": "code",
      "metadata": {
        "colab": {
          "base_uri": "https://localhost:8080/"
        },
        "id": "fouV629iD6xt",
        "outputId": "671aa383-432b-4a6e-bedb-6b2de3dac9ae"
      },
      "source": [
        "df_tmax.columns"
      ],
      "execution_count": 30,
      "outputs": [
        {
          "output_type": "execute_result",
          "data": {
            "text/plain": [
              "Index(['TMAX', 'TMIN', 'HUMIDITY', 'PRCP', 'PRESSURE', 'Year', 'Month', 'Day'], dtype='object')"
            ]
          },
          "metadata": {
            "tags": []
          },
          "execution_count": 30
        }
      ]
    },
    {
      "cell_type": "code",
      "metadata": {
        "id": "laanHuQ9D3ZU"
      },
      "source": [
        "df_tmax = df_tmax.drop(['TMIN', 'HUMIDITY', 'PRCP', 'PRESSURE'], axis=1)"
      ],
      "execution_count": 31,
      "outputs": []
    },
    {
      "cell_type": "code",
      "metadata": {
        "colab": {
          "base_uri": "https://localhost:8080/",
          "height": 402
        },
        "id": "kdJQ5-iBEIAm",
        "outputId": "69e3816a-ac35-4a0a-9143-c723be5a40f6"
      },
      "source": [
        "df_tmax"
      ],
      "execution_count": 32,
      "outputs": [
        {
          "output_type": "execute_result",
          "data": {
            "text/html": [
              "<div>\n",
              "<style scoped>\n",
              "    .dataframe tbody tr th:only-of-type {\n",
              "        vertical-align: middle;\n",
              "    }\n",
              "\n",
              "    .dataframe tbody tr th {\n",
              "        vertical-align: top;\n",
              "    }\n",
              "\n",
              "    .dataframe thead th {\n",
              "        text-align: right;\n",
              "    }\n",
              "</style>\n",
              "<table border=\"1\" class=\"dataframe\">\n",
              "  <thead>\n",
              "    <tr style=\"text-align: right;\">\n",
              "      <th></th>\n",
              "      <th>TMAX</th>\n",
              "      <th>Year</th>\n",
              "      <th>Month</th>\n",
              "      <th>Day</th>\n",
              "    </tr>\n",
              "  </thead>\n",
              "  <tbody>\n",
              "    <tr>\n",
              "      <th>0</th>\n",
              "      <td>30</td>\n",
              "      <td>2008</td>\n",
              "      <td>7</td>\n",
              "      <td>1</td>\n",
              "    </tr>\n",
              "    <tr>\n",
              "      <th>1</th>\n",
              "      <td>31</td>\n",
              "      <td>2008</td>\n",
              "      <td>7</td>\n",
              "      <td>2</td>\n",
              "    </tr>\n",
              "    <tr>\n",
              "      <th>2</th>\n",
              "      <td>29</td>\n",
              "      <td>2008</td>\n",
              "      <td>7</td>\n",
              "      <td>3</td>\n",
              "    </tr>\n",
              "    <tr>\n",
              "      <th>3</th>\n",
              "      <td>32</td>\n",
              "      <td>2008</td>\n",
              "      <td>7</td>\n",
              "      <td>4</td>\n",
              "    </tr>\n",
              "    <tr>\n",
              "      <th>4</th>\n",
              "      <td>31</td>\n",
              "      <td>2008</td>\n",
              "      <td>7</td>\n",
              "      <td>5</td>\n",
              "    </tr>\n",
              "    <tr>\n",
              "      <th>...</th>\n",
              "      <td>...</td>\n",
              "      <td>...</td>\n",
              "      <td>...</td>\n",
              "      <td>...</td>\n",
              "    </tr>\n",
              "    <tr>\n",
              "      <th>4541</th>\n",
              "      <td>31</td>\n",
              "      <td>2020</td>\n",
              "      <td>12</td>\n",
              "      <td>6</td>\n",
              "    </tr>\n",
              "    <tr>\n",
              "      <th>4542</th>\n",
              "      <td>29</td>\n",
              "      <td>2020</td>\n",
              "      <td>12</td>\n",
              "      <td>7</td>\n",
              "    </tr>\n",
              "    <tr>\n",
              "      <th>4543</th>\n",
              "      <td>30</td>\n",
              "      <td>2020</td>\n",
              "      <td>12</td>\n",
              "      <td>8</td>\n",
              "    </tr>\n",
              "    <tr>\n",
              "      <th>4544</th>\n",
              "      <td>30</td>\n",
              "      <td>2020</td>\n",
              "      <td>12</td>\n",
              "      <td>9</td>\n",
              "    </tr>\n",
              "    <tr>\n",
              "      <th>4545</th>\n",
              "      <td>29</td>\n",
              "      <td>2020</td>\n",
              "      <td>12</td>\n",
              "      <td>10</td>\n",
              "    </tr>\n",
              "  </tbody>\n",
              "</table>\n",
              "<p>4546 rows × 4 columns</p>\n",
              "</div>"
            ],
            "text/plain": [
              "      TMAX  Year  Month  Day\n",
              "0       30  2008      7    1\n",
              "1       31  2008      7    2\n",
              "2       29  2008      7    3\n",
              "3       32  2008      7    4\n",
              "4       31  2008      7    5\n",
              "...    ...   ...    ...  ...\n",
              "4541    31  2020     12    6\n",
              "4542    29  2020     12    7\n",
              "4543    30  2020     12    8\n",
              "4544    30  2020     12    9\n",
              "4545    29  2020     12   10\n",
              "\n",
              "[4546 rows x 4 columns]"
            ]
          },
          "metadata": {
            "tags": []
          },
          "execution_count": 32
        }
      ]
    },
    {
      "cell_type": "markdown",
      "metadata": {
        "id": "hRWXDxNTt3Er"
      },
      "source": [
        "# Model Creation"
      ]
    },
    {
      "cell_type": "code",
      "metadata": {
        "colab": {
          "base_uri": "https://localhost:8080/"
        },
        "id": "yQQX4gaqt8tb",
        "outputId": "db74ff93-1879-4c77-adce-e3d77642a025"
      },
      "source": [
        "# Let's build a machine learning model\r\n",
        "%%time\r\n",
        "from sklearn.ensemble import RandomForestRegressor\r\n",
        "\r\n",
        "model = RandomForestRegressor(n_jobs=-1,\r\n",
        "                             random_state= 42)\r\n",
        "model.fit(df_tmax.drop(\"TMAX\", axis=1), df_tmax[\"TMAX\"])"
      ],
      "execution_count": 33,
      "outputs": [
        {
          "output_type": "stream",
          "text": [
            "CPU times: user 981 ms, sys: 62.8 ms, total: 1.04 s\n",
            "Wall time: 876 ms\n"
          ],
          "name": "stdout"
        }
      ]
    },
    {
      "cell_type": "code",
      "metadata": {
        "colab": {
          "base_uri": "https://localhost:8080/"
        },
        "id": "iB9rqDb3uRcs",
        "outputId": "382222cc-2f51-4177-edb6-fd48b196bec3"
      },
      "source": [
        "# Score the model\r\n",
        "model_score= model.score(df_tmax.drop(\"TMAX\", axis=1), df_tmax[\"TMAX\"])\r\n",
        "print(f'Model score is:  {model_score*100:.2f}')"
      ],
      "execution_count": 34,
      "outputs": [
        {
          "output_type": "stream",
          "text": [
            "Model score is:  98.18\n"
          ],
          "name": "stdout"
        }
      ]
    },
    {
      "cell_type": "markdown",
      "metadata": {
        "id": "C9hENlrQveyC"
      },
      "source": [
        "**Splitting data into train and validation sets**"
      ]
    },
    {
      "cell_type": "code",
      "metadata": {
        "colab": {
          "base_uri": "https://localhost:8080/"
        },
        "id": "HJKNG_06vgWy",
        "outputId": "073e265e-666c-413e-8b7a-1b80fb9f7009"
      },
      "source": [
        "df_tmax.Year"
      ],
      "execution_count": 35,
      "outputs": [
        {
          "output_type": "execute_result",
          "data": {
            "text/plain": [
              "0       2008\n",
              "1       2008\n",
              "2       2008\n",
              "3       2008\n",
              "4       2008\n",
              "        ... \n",
              "4541    2020\n",
              "4542    2020\n",
              "4543    2020\n",
              "4544    2020\n",
              "4545    2020\n",
              "Name: Year, Length: 4546, dtype: int64"
            ]
          },
          "metadata": {
            "tags": []
          },
          "execution_count": 35
        }
      ]
    },
    {
      "cell_type": "code",
      "metadata": {
        "colab": {
          "base_uri": "https://localhost:8080/"
        },
        "id": "gVd9vmx2vmTV",
        "outputId": "a0bcfa67-fb44-4a3e-a7fb-a37d78d0250b"
      },
      "source": [
        "df_tmax.Year.value_counts()\r\n"
      ],
      "execution_count": 36,
      "outputs": [
        {
          "output_type": "execute_result",
          "data": {
            "text/plain": [
              "2016    366\n",
              "2012    366\n",
              "2019    365\n",
              "2015    365\n",
              "2011    365\n",
              "2018    365\n",
              "2014    365\n",
              "2010    365\n",
              "2017    365\n",
              "2013    365\n",
              "2009    365\n",
              "2020    345\n",
              "2008    184\n",
              "Name: Year, dtype: int64"
            ]
          },
          "metadata": {
            "tags": []
          },
          "execution_count": 36
        }
      ]
    },
    {
      "cell_type": "code",
      "metadata": {
        "colab": {
          "base_uri": "https://localhost:8080/"
        },
        "id": "6wD1x5CJvrbq",
        "outputId": "a9bb66bf-9180-4487-8c66-a83ab2094e7a"
      },
      "source": [
        "# Split data into train and validation\r\n",
        "df_val = df_tmax[df_tmax.Year == 2008 ]\r\n",
        "df_train = df_tmax[df_tmax.Year != 2008]\r\n",
        "\r\n",
        "len(df_val), len(df_train)"
      ],
      "execution_count": 37,
      "outputs": [
        {
          "output_type": "execute_result",
          "data": {
            "text/plain": [
              "(184, 4362)"
            ]
          },
          "metadata": {
            "tags": []
          },
          "execution_count": 37
        }
      ]
    },
    {
      "cell_type": "code",
      "metadata": {
        "colab": {
          "base_uri": "https://localhost:8080/"
        },
        "id": "wVxtZnbwwTJS",
        "outputId": "0804e7ae-ef38-4ddc-8dda-68c3bfe7179b"
      },
      "source": [
        "# Splitting data into X and y\r\n",
        "X_train, y_train = df_train.drop(\"TMAX\", axis=1), df_train.TMAX\r\n",
        "X_valid, y_valid = df_val.drop(\"TMAX\", axis=1), df_val.TMAX\r\n",
        "\r\n",
        "X_train.shape, y_train.shape, X_valid.shape, y_valid.shape"
      ],
      "execution_count": 38,
      "outputs": [
        {
          "output_type": "execute_result",
          "data": {
            "text/plain": [
              "((4362, 3), (4362,), (184, 3), (184,))"
            ]
          },
          "metadata": {
            "tags": []
          },
          "execution_count": 38
        }
      ]
    },
    {
      "cell_type": "code",
      "metadata": {
        "colab": {
          "base_uri": "https://localhost:8080/"
        },
        "id": "y9FxJtHjwegZ",
        "outputId": "1b3f8785-4c49-412f-d22b-cf8ab4db844d"
      },
      "source": [
        "y_train"
      ],
      "execution_count": 39,
      "outputs": [
        {
          "output_type": "execute_result",
          "data": {
            "text/plain": [
              "184     26\n",
              "185     25\n",
              "186     25\n",
              "187     25\n",
              "188     25\n",
              "        ..\n",
              "4541    31\n",
              "4542    29\n",
              "4543    30\n",
              "4544    30\n",
              "4545    29\n",
              "Name: TMAX, Length: 4362, dtype: int64"
            ]
          },
          "metadata": {
            "tags": []
          },
          "execution_count": 39
        }
      ]
    },
    {
      "cell_type": "markdown",
      "metadata": {
        "id": "zB2tpNQIwiW5"
      },
      "source": [
        "\r\n",
        "**Building an evaluation function**"
      ]
    },
    {
      "cell_type": "code",
      "metadata": {
        "id": "VHeEmlRhwn6v"
      },
      "source": [
        "# Create evaluation function (the competition uses RMSLE)\r\n",
        "from sklearn.metrics import mean_squared_log_error, mean_absolute_error, r2_score\r\n",
        "\r\n",
        "def rmsle(y_test, y_preds):\r\n",
        "    \"\"\"\r\n",
        "    Calculates root mean squared log error between prediction and true labels\r\n",
        "    \"\"\"\r\n",
        "    return np.sqrt(mean_squared_log_error(y_test, y_preds))\r\n",
        "\r\n",
        "# Create function to evaluate model on a few different Levels\r\n",
        "def show_score(model):\r\n",
        "    train_preds = model.predict(X_train)\r\n",
        "    val_preds = model.predict(X_valid)\r\n",
        "    scores = {\"Training MAE\": mean_absolute_error(y_train, train_preds),\r\n",
        "              \"Valid MAE\": mean_absolute_error(y_valid, val_preds),\r\n",
        "              \"Training RMSLE\": rmsle(y_train, train_preds),\r\n",
        "              \"Valid RMSLE\": rmsle(y_valid, val_preds),\r\n",
        "              \"Training R^2-Score\": r2_score(y_train, train_preds),\r\n",
        "              \"Valid R^2-Score\": r2_score(y_valid, val_preds)}\r\n",
        "    return scores"
      ],
      "execution_count": 40,
      "outputs": []
    },
    {
      "cell_type": "markdown",
      "metadata": {
        "id": "Wm3yFAt3wvnO"
      },
      "source": [
        "\r\n",
        "\r\n",
        "---\r\n",
        "\r\n",
        "\r\n",
        "**Testing our model on a subset(to tune the hyperparameters)** \r\n",
        "\r\n",
        "This process take a long time to complete\r\n",
        "\r\n",
        "* %%time\r\n",
        "* model = RandomForestRegressor(n_jobs=-1,\r\n",
        "                          random_sate=42)\r\n",
        "* model.fit(X_train, y_train)\r\n",
        "\r\n",
        "\r\n",
        "---\r\n",
        "\r\n",
        "---\r\n",
        "\r\n",
        "\r\n",
        "\r\n"
      ]
    },
    {
      "cell_type": "code",
      "metadata": {
        "colab": {
          "base_uri": "https://localhost:8080/"
        },
        "id": "6a00ezxlxKXk",
        "outputId": "0db5d205-50ba-4b52-9a7a-b50d28e33870"
      },
      "source": [
        "# Because the length of the X_train is really high\r\n",
        "\r\n",
        "print(f'Length of the X_train set: {len(X_train)}')"
      ],
      "execution_count": 41,
      "outputs": [
        {
          "output_type": "stream",
          "text": [
            "Length of the X_train set: 4362\n"
          ],
          "name": "stdout"
        }
      ]
    },
    {
      "cell_type": "code",
      "metadata": {
        "id": "wfh6y46gxNB6"
      },
      "source": [
        "\r\n",
        "# Change max_samples value to make the process faster.\r\n",
        "model = RandomForestRegressor(n_jobs=-1,\r\n",
        "                             random_state=42,\r\n",
        "                             max_samples=1000)"
      ],
      "execution_count": 42,
      "outputs": []
    },
    {
      "cell_type": "code",
      "metadata": {
        "colab": {
          "base_uri": "https://localhost:8080/"
        },
        "id": "3xmqnxJlxPmU",
        "outputId": "e3307a9d-f410-4680-b0dc-485b9b43e7a8"
      },
      "source": [
        "%%time\r\n",
        "\r\n",
        "# Cutting down on the maxx number of samples each estimator can see improves training time\r\n",
        "model.fit(X_train, y_train)"
      ],
      "execution_count": 43,
      "outputs": [
        {
          "output_type": "stream",
          "text": [
            "CPU times: user 379 ms, sys: 34.7 ms, total: 413 ms\n",
            "Wall time: 346 ms\n"
          ],
          "name": "stdout"
        },
        {
          "output_type": "execute_result",
          "data": {
            "text/plain": [
              "RandomForestRegressor(bootstrap=True, ccp_alpha=0.0, criterion='mse',\n",
              "                      max_depth=None, max_features='auto', max_leaf_nodes=None,\n",
              "                      max_samples=1000, min_impurity_decrease=0.0,\n",
              "                      min_impurity_split=None, min_samples_leaf=1,\n",
              "                      min_samples_split=2, min_weight_fraction_leaf=0.0,\n",
              "                      n_estimators=100, n_jobs=-1, oob_score=False,\n",
              "                      random_state=42, verbose=0, warm_start=False)"
            ]
          },
          "metadata": {
            "tags": []
          },
          "execution_count": 43
        }
      ]
    },
    {
      "cell_type": "code",
      "metadata": {
        "colab": {
          "base_uri": "https://localhost:8080/"
        },
        "id": "TPeQKwQnxXjO",
        "outputId": "895ef735-4a36-499e-9a7d-a0bf168aad05"
      },
      "source": [
        "print(f'the model is {(X_train.shape[0]) * 100 / 1000000} times faster')"
      ],
      "execution_count": 44,
      "outputs": [
        {
          "output_type": "stream",
          "text": [
            "the model is 0.4362 times faster\n"
          ],
          "name": "stdout"
        }
      ]
    },
    {
      "cell_type": "code",
      "metadata": {
        "colab": {
          "base_uri": "https://localhost:8080/"
        },
        "id": "0aJloiTUxaBT",
        "outputId": "dc7ee7fe-3285-43c3-f120-bdcd910ada91"
      },
      "source": [
        "show_score(model)"
      ],
      "execution_count": 45,
      "outputs": [
        {
          "output_type": "execute_result",
          "data": {
            "text/plain": [
              "{'Training MAE': 0.9295300320953691,\n",
              " 'Training RMSLE': 0.039718947521819425,\n",
              " 'Training R^2-Score': 0.8939103647854143,\n",
              " 'Valid MAE': 1.2155434782608696,\n",
              " 'Valid RMSLE': 0.05696086696762944,\n",
              " 'Valid R^2-Score': 0.4257194755057754}"
            ]
          },
          "metadata": {
            "tags": []
          },
          "execution_count": 45
        }
      ]
    },
    {
      "cell_type": "markdown",
      "metadata": {
        "id": "SwIB-gxLnkz4"
      },
      "source": [
        "### Hyerparameter tuning with RandomizedSearchCV"
      ]
    },
    {
      "cell_type": "code",
      "metadata": {
        "colab": {
          "base_uri": "https://localhost:8080/"
        },
        "id": "wjpuilhTnkz4",
        "outputId": "69e0c7e0-a722-46e2-b665-1321f036e74d"
      },
      "source": [
        "%%time\n",
        "from sklearn.model_selection import RandomizedSearchCV\n",
        "\n",
        "# Different RandomForestRegressor hyperparameters\n",
        "rf_gird = {\"n_estimators\": np.arange(10, 100, 10),\n",
        "           \"max_depth\": [None, 3, 5, 10],\n",
        "           \"min_samples_split\": np.arange(2, 20, 2),\n",
        "           \"min_samples_leaf\": np.arange(1, 20, 2),\n",
        "           \"max_features\": [0.5, 1, \"sqrt\", \"auto\"],\n",
        "           \"max_samples\": [1000]}\n",
        "\n",
        "# Instantiate RandomizedSearchCV model\n",
        "rs_model = RandomizedSearchCV(RandomForestRegressor(n_jobs=-1,\n",
        "                                                   random_state=42),\n",
        "                             param_distributions=rf_gird,\n",
        "                             n_iter=2,\n",
        "                             cv=5,\n",
        "                             verbose=True)\n",
        "\n",
        "# Fit the RandomizedSearchCV model\n",
        "rs_model.fit(X_train, y_train)"
      ],
      "execution_count": 46,
      "outputs": [
        {
          "output_type": "stream",
          "text": [
            "Fitting 5 folds for each of 2 candidates, totalling 10 fits\n"
          ],
          "name": "stdout"
        },
        {
          "output_type": "stream",
          "text": [
            "[Parallel(n_jobs=1)]: Using backend SequentialBackend with 1 concurrent workers.\n",
            "[Parallel(n_jobs=1)]: Done  10 out of  10 | elapsed:    3.6s finished\n"
          ],
          "name": "stderr"
        },
        {
          "output_type": "stream",
          "text": [
            "CPU times: user 1.32 s, sys: 121 ms, total: 1.44 s\n",
            "Wall time: 3.86 s\n"
          ],
          "name": "stdout"
        }
      ]
    },
    {
      "cell_type": "code",
      "metadata": {
        "colab": {
          "base_uri": "https://localhost:8080/"
        },
        "id": "ZVy-Gthenkz5",
        "outputId": "968d1ff7-0d52-4907-bac6-6111c1251093"
      },
      "source": [
        "# Find the best model's hyperparameters\n",
        "rs_model.best_params_"
      ],
      "execution_count": 47,
      "outputs": [
        {
          "output_type": "execute_result",
          "data": {
            "text/plain": [
              "{'max_depth': 5,\n",
              " 'max_features': 'auto',\n",
              " 'max_samples': 1000,\n",
              " 'min_samples_leaf': 9,\n",
              " 'min_samples_split': 14,\n",
              " 'n_estimators': 90}"
            ]
          },
          "metadata": {
            "tags": []
          },
          "execution_count": 47
        }
      ]
    },
    {
      "cell_type": "code",
      "metadata": {
        "colab": {
          "base_uri": "https://localhost:8080/"
        },
        "id": "Pvhb0W7ynkz5",
        "outputId": "2e9a1328-faf7-4bd1-81ca-0364708b0a83"
      },
      "source": [
        "# Evaluate the RandomizedSearchCV model\n",
        "show_score(rs_model)"
      ],
      "execution_count": 48,
      "outputs": [
        {
          "output_type": "execute_result",
          "data": {
            "text/plain": [
              "{'Training MAE': 1.4870765915781148,\n",
              " 'Training RMSLE': 0.06121123547377933,\n",
              " 'Training R^2-Score': 0.7368880222661744,\n",
              " 'Valid MAE': 1.4542923807887487,\n",
              " 'Valid RMSLE': 0.06689137808939061,\n",
              " 'Valid R^2-Score': 0.1843104101048244}"
            ]
          },
          "metadata": {
            "tags": []
          },
          "execution_count": 48
        }
      ]
    },
    {
      "cell_type": "markdown",
      "metadata": {
        "id": "FwX6kEAznkz6"
      },
      "source": [
        "### Train a model with the best hyperparameters\n",
        "\n",
        "**Note:** These were found after 100 iterations of RandomizedSearchCV"
      ]
    },
    {
      "cell_type": "code",
      "metadata": {
        "colab": {
          "base_uri": "https://localhost:8080/"
        },
        "id": "wVniUUKmnkz6",
        "outputId": "d3a5982b-dd86-4a85-a901-df29234d5def"
      },
      "source": [
        "%%time\n",
        "\n",
        "# Model with ideal hyperparameter tuning\n",
        "\n",
        "ideal_model = RandomForestRegressor(n_estimators=40,\n",
        "                                   min_samples_leaf=1,\n",
        "                                   min_samples_split=14,\n",
        "                                   max_features=0.5,\n",
        "                                   n_jobs=-1,\n",
        "                                   max_samples=None,\n",
        "                                   random_state=42)\n",
        "\n",
        "# Fit the model\n",
        "ideal_model.fit(X_train, y_train)"
      ],
      "execution_count": 49,
      "outputs": [
        {
          "output_type": "stream",
          "text": [
            "CPU times: user 160 ms, sys: 12.2 ms, total: 172 ms\n",
            "Wall time: 121 ms\n"
          ],
          "name": "stdout"
        }
      ]
    },
    {
      "cell_type": "code",
      "metadata": {
        "colab": {
          "base_uri": "https://localhost:8080/"
        },
        "id": "xgNaas0Pnkz7",
        "outputId": "2508eb97-702f-4f26-fca1-891ef7b39a14"
      },
      "source": [
        "# Score for idea_model (trained on all the data)\n",
        "show_score(ideal_model)"
      ],
      "execution_count": 50,
      "outputs": [
        {
          "output_type": "execute_result",
          "data": {
            "text/plain": [
              "{'Training MAE': 1.1330180293379004,\n",
              " 'Training RMSLE': 0.04753383878070246,\n",
              " 'Training R^2-Score': 0.843887832488539,\n",
              " 'Valid MAE': 1.3052490708317115,\n",
              " 'Valid RMSLE': 0.06114419917800393,\n",
              " 'Valid R^2-Score': 0.32116556908850147}"
            ]
          },
          "metadata": {
            "tags": []
          },
          "execution_count": 50
        }
      ]
    },
    {
      "cell_type": "code",
      "metadata": {
        "colab": {
          "base_uri": "https://localhost:8080/"
        },
        "id": "p2c9ZHrgnkz8",
        "outputId": "697003dc-6493-4eda-8e75-333ccd4bf772"
      },
      "source": [
        "# Scores on rs_model (Only trained on ~1,000 samples)\n",
        "show_score(rs_model)"
      ],
      "execution_count": 51,
      "outputs": [
        {
          "output_type": "execute_result",
          "data": {
            "text/plain": [
              "{'Training MAE': 1.4870765915781146,\n",
              " 'Training RMSLE': 0.06121123547377933,\n",
              " 'Training R^2-Score': 0.7368880222661744,\n",
              " 'Valid MAE': 1.4542923807887482,\n",
              " 'Valid RMSLE': 0.06689137808939061,\n",
              " 'Valid R^2-Score': 0.1843104101048244}"
            ]
          },
          "metadata": {
            "tags": []
          },
          "execution_count": 51
        }
      ]
    },
    {
      "cell_type": "markdown",
      "metadata": {
        "id": "VdOLEIKinkz8"
      },
      "source": [
        "### Make Prediction on test data"
      ]
    },
    {
      "cell_type": "markdown",
      "metadata": {
        "id": "FoEHgNfonkz9"
      },
      "source": [
        "**Note**: Due to missing value and numerical conversion. The model will not run. We need to fix the issues first to run the model."
      ]
    },
    {
      "cell_type": "code",
      "metadata": {
        "id": "Yk1z5nPn173t"
      },
      "source": [
        "test_preds = ideal_model.predict(X_valid)"
      ],
      "execution_count": 52,
      "outputs": []
    },
    {
      "cell_type": "code",
      "metadata": {
        "colab": {
          "base_uri": "https://localhost:8080/"
        },
        "id": "LfS4gDXY8Hki",
        "outputId": "be7628dc-5b2b-4538-a12a-bd716cc3b2cf"
      },
      "source": [
        "test_preds"
      ],
      "execution_count": 53,
      "outputs": [
        {
          "output_type": "execute_result",
          "data": {
            "text/plain": [
              "array([32.32506382, 31.90614741, 31.73464064, 31.6729485 , 31.92642125,\n",
              "       31.86935039, 31.66541824, 31.65232665, 31.74041771, 31.86731603,\n",
              "       31.66236121, 31.896795  , 32.14187409, 31.91072496, 31.67235745,\n",
              "       31.72510378, 31.8306574 , 31.85116769, 31.88784493, 31.64681399,\n",
              "       30.88712416, 31.36366965, 31.35505953, 31.56788615, 31.83875851,\n",
              "       31.74648171, 31.83825825, 31.76910114, 32.17175902, 32.10420194,\n",
              "       32.14606441, 32.436296  , 32.06710609, 31.78174117, 31.63676976,\n",
              "       31.86277917, 31.87972604, 31.74507529, 31.7029018 , 31.7416084 ,\n",
              "       31.60761314, 31.42616691, 31.51015303, 31.57497754, 31.33729492,\n",
              "       31.08823469, 31.09365993, 31.36806794, 31.33531515, 31.09950929,\n",
              "       30.63122043, 30.06838003, 30.33694849, 30.01888718, 30.6439753 ,\n",
              "       31.47247268, 31.4681427 , 31.584062  , 31.44720801, 32.10664213,\n",
              "       32.05341385, 32.06997184, 32.46140936, 32.15412407, 31.72387403,\n",
              "       31.25478081, 31.45474225, 31.49403256, 31.5893519 , 31.42825709,\n",
              "       31.42007796, 31.50336448, 31.42645216, 31.63282381, 31.76720556,\n",
              "       31.55792444, 31.21685508, 31.16946466, 31.45296131, 31.34291738,\n",
              "       31.12394183, 30.73252832, 30.03119569, 30.19445836, 30.06963298,\n",
              "       30.82924168, 31.60929367, 31.57877672, 31.7580009 , 31.56310057,\n",
              "       31.77194512, 31.87222096, 32.34036969, 31.91539342, 31.49381496,\n",
              "       31.06604611, 31.32068284, 30.95684874, 30.63354266, 30.41519835,\n",
              "       30.77274247, 31.00891774, 30.93771296, 31.21181789, 31.2279279 ,\n",
              "       31.15558762, 30.92267036, 30.94319738, 31.08075206, 31.0429377 ,\n",
              "       30.81222028, 30.53698398, 29.96251753, 30.07656575, 29.50430846,\n",
              "       30.07777603, 30.16224897, 30.06706409, 29.8377572 , 29.70613075,\n",
              "       29.72971595, 30.04189156, 30.35962115, 29.90061799, 29.59166826,\n",
              "       29.66088633, 29.46639064, 29.37559233, 29.65951855, 29.65956789,\n",
              "       29.54891084, 29.6608479 , 29.32135551, 29.09190404, 29.16445479,\n",
              "       28.91121005, 29.18342235, 29.18313555, 28.92566712, 27.85402749,\n",
              "       27.20095775, 27.14044419, 27.13332884, 26.7651418 , 26.63373368,\n",
              "       26.07097552, 26.4045937 , 26.48585398, 26.7827901 , 26.59781324,\n",
              "       26.43059103, 26.71583508, 26.59581524, 28.23538294, 27.82011026,\n",
              "       27.93043284, 27.83682419, 27.77801825, 27.31719058, 26.88911278,\n",
              "       26.5093934 , 26.50306161, 26.41748438, 26.35106361, 26.18767463,\n",
              "       26.05661811, 26.2669613 , 26.24218256, 26.35195924, 26.14014159,\n",
              "       25.85245167, 25.77977218, 25.92385252, 24.95407103, 25.16333182,\n",
              "       24.99577242, 24.96814118, 24.84433059, 25.10321388, 24.97980624,\n",
              "       24.88248846, 25.20644263, 25.52448856, 25.79922948])"
            ]
          },
          "metadata": {
            "tags": []
          },
          "execution_count": 53
        }
      ]
    },
    {
      "cell_type": "code",
      "metadata": {
        "colab": {
          "base_uri": "https://localhost:8080/",
          "height": 391
        },
        "id": "kYliyNYB8WU2",
        "outputId": "6282674a-eead-4934-f700-747d2d3ccbf4"
      },
      "source": [
        "\r\n",
        "plt.figure(figsize=(12,6))\r\n",
        "plt.scatter(y_valid, test_preds)"
      ],
      "execution_count": 54,
      "outputs": [
        {
          "output_type": "execute_result",
          "data": {
            "text/plain": [
              "<matplotlib.collections.PathCollection at 0x7f07d0980940>"
            ]
          },
          "metadata": {
            "tags": []
          },
          "execution_count": 54
        },
        {
          "output_type": "display_data",
          "data": {
            "image/png": "[encoded data removed]",
            "text/plain": [
              "<Figure size 864x432 with 1 Axes>"
            ]
          },
          "metadata": {
            "tags": [],
            "needs_background": "light"
          }
        }
      ]
    },
    {
      "cell_type": "code",
      "metadata": {
        "colab": {
          "base_uri": "https://localhost:8080/",
          "height": 391
        },
        "id": "jc2QKWwf8iVw",
        "outputId": "b80664d3-08dc-47a1-bff8-37835218eb5c"
      },
      "source": [
        "#Make a line\r\n",
        "plt.figure(figsize=(12,6))\r\n",
        "plt.scatter(y_valid, test_preds)\r\n",
        "plt.plot(y_valid, y_valid, 'r')"
      ],
      "execution_count": 55,
      "outputs": [
        {
          "output_type": "execute_result",
          "data": {
            "text/plain": [
              "[<matplotlib.lines.Line2D at 0x7f07cdf11160>]"
            ]
          },
          "metadata": {
            "tags": []
          },
          "execution_count": 55
        },
        {
          "output_type": "display_data",
          "data": {
            "image/png": "[encoded data removed]",
            "text/plain": [
              "<Figure size 864x432 with 1 Axes>"
            ]
          },
          "metadata": {
            "tags": [],
            "needs_background": "light"
          }
        }
      ]
    },
    {
      "cell_type": "markdown",
      "metadata": {
        "id": "opVQZ9f2nk0C"
      },
      "source": [
        "# **Custom Data Predictions**\r\n",
        "\r\n",
        "* We will predict a new TMAX depending upon A new year "
      ]
    },
    {
      "cell_type": "markdown",
      "metadata": {
        "id": "rpcMgFw-hvgm"
      },
      "source": [
        "Put Year, Month and Date below"
      ]
    },
    {
      "cell_type": "code",
      "metadata": {
        "colab": {
          "base_uri": "https://localhost:8080/"
        },
        "id": "ZEWMhdzFgQrR",
        "outputId": "56e9d167-ee61-4c71-b493-a23ccdbedde4"
      },
      "source": [
        "# Here 2020 is the year, 12 is the month and 11 is the day of the date\r\n",
        "New_year_to_predict_tmax = [[2020,12,11]]\r\n",
        "Custom_tmax_preds = ideal_model.predict(New_year_to_predict_tmax)\r\n",
        "print(f' Predicted Maximum Temperature (TMAX) is:  {Custom_tmax_preds[0]:.2f}°C' )"
      ],
      "execution_count": 137,
      "outputs": [
        {
          "output_type": "stream",
          "text": [
            " Predicted Maximum Temperature (TMAX) is:  31.25°C\n"
          ],
          "name": "stdout"
        }
      ]
    },
    {
      "cell_type": "markdown",
      "metadata": {
        "id": "4BmJzWDMi6w_"
      },
      "source": [
        ""
      ]
    },
    {
      "cell_type": "markdown",
      "metadata": {
        "id": "XXF_dNKVjF5f"
      },
      "source": [
        "# Predicting TMIN"
      ]
    },
    {
      "cell_type": "code",
      "metadata": {
        "id": "r3GvaNUIhPK7"
      },
      "source": [
        "df_tmin = df.copy()"
      ],
      "execution_count": 57,
      "outputs": []
    },
    {
      "cell_type": "code",
      "metadata": {
        "colab": {
          "base_uri": "https://localhost:8080/",
          "height": 402
        },
        "id": "FDpEZKw-jOsw",
        "outputId": "b4978a50-9385-483a-bfd1-d4bec393dfe3"
      },
      "source": [
        "df_tmin"
      ],
      "execution_count": 58,
      "outputs": [
        {
          "output_type": "execute_result",
          "data": {
            "text/html": [
              "<div>\n",
              "<style scoped>\n",
              "    .dataframe tbody tr th:only-of-type {\n",
              "        vertical-align: middle;\n",
              "    }\n",
              "\n",
              "    .dataframe tbody tr th {\n",
              "        vertical-align: top;\n",
              "    }\n",
              "\n",
              "    .dataframe thead th {\n",
              "        text-align: right;\n",
              "    }\n",
              "</style>\n",
              "<table border=\"1\" class=\"dataframe\">\n",
              "  <thead>\n",
              "    <tr style=\"text-align: right;\">\n",
              "      <th></th>\n",
              "      <th>DATE</th>\n",
              "      <th>TMAX</th>\n",
              "      <th>TMIN</th>\n",
              "      <th>HUMIDITY</th>\n",
              "      <th>PRCP</th>\n",
              "      <th>PRESSURE</th>\n",
              "      <th>RAIN</th>\n",
              "    </tr>\n",
              "  </thead>\n",
              "  <tbody>\n",
              "    <tr>\n",
              "      <th>0</th>\n",
              "      <td>2008-07-01</td>\n",
              "      <td>30</td>\n",
              "      <td>26</td>\n",
              "      <td>94</td>\n",
              "      <td>1.6</td>\n",
              "      <td>1001</td>\n",
              "      <td>True</td>\n",
              "    </tr>\n",
              "    <tr>\n",
              "      <th>1</th>\n",
              "      <td>2008-07-02</td>\n",
              "      <td>31</td>\n",
              "      <td>26</td>\n",
              "      <td>93</td>\n",
              "      <td>0.8</td>\n",
              "      <td>1001</td>\n",
              "      <td>True</td>\n",
              "    </tr>\n",
              "    <tr>\n",
              "      <th>2</th>\n",
              "      <td>2008-07-03</td>\n",
              "      <td>29</td>\n",
              "      <td>26</td>\n",
              "      <td>95</td>\n",
              "      <td>0.0</td>\n",
              "      <td>1001</td>\n",
              "      <td>False</td>\n",
              "    </tr>\n",
              "    <tr>\n",
              "      <th>3</th>\n",
              "      <td>2008-07-04</td>\n",
              "      <td>32</td>\n",
              "      <td>26</td>\n",
              "      <td>91</td>\n",
              "      <td>0.0</td>\n",
              "      <td>1001</td>\n",
              "      <td>False</td>\n",
              "    </tr>\n",
              "    <tr>\n",
              "      <th>4</th>\n",
              "      <td>2008-07-05</td>\n",
              "      <td>31</td>\n",
              "      <td>26</td>\n",
              "      <td>93</td>\n",
              "      <td>0.0</td>\n",
              "      <td>1000</td>\n",
              "      <td>False</td>\n",
              "    </tr>\n",
              "    <tr>\n",
              "      <th>...</th>\n",
              "      <td>...</td>\n",
              "      <td>...</td>\n",
              "      <td>...</td>\n",
              "      <td>...</td>\n",
              "      <td>...</td>\n",
              "      <td>...</td>\n",
              "      <td>...</td>\n",
              "    </tr>\n",
              "    <tr>\n",
              "      <th>4541</th>\n",
              "      <td>2020-12-06</td>\n",
              "      <td>31</td>\n",
              "      <td>21</td>\n",
              "      <td>50</td>\n",
              "      <td>0.0</td>\n",
              "      <td>1014</td>\n",
              "      <td>False</td>\n",
              "    </tr>\n",
              "    <tr>\n",
              "      <th>4542</th>\n",
              "      <td>2020-12-07</td>\n",
              "      <td>29</td>\n",
              "      <td>21</td>\n",
              "      <td>49</td>\n",
              "      <td>0.0</td>\n",
              "      <td>1015</td>\n",
              "      <td>False</td>\n",
              "    </tr>\n",
              "    <tr>\n",
              "      <th>4543</th>\n",
              "      <td>2020-12-08</td>\n",
              "      <td>30</td>\n",
              "      <td>23</td>\n",
              "      <td>51</td>\n",
              "      <td>0.0</td>\n",
              "      <td>1014</td>\n",
              "      <td>False</td>\n",
              "    </tr>\n",
              "    <tr>\n",
              "      <th>4544</th>\n",
              "      <td>2020-12-09</td>\n",
              "      <td>30</td>\n",
              "      <td>22</td>\n",
              "      <td>51</td>\n",
              "      <td>0.0</td>\n",
              "      <td>1013</td>\n",
              "      <td>False</td>\n",
              "    </tr>\n",
              "    <tr>\n",
              "      <th>4545</th>\n",
              "      <td>2020-12-10</td>\n",
              "      <td>29</td>\n",
              "      <td>23</td>\n",
              "      <td>52</td>\n",
              "      <td>0.0</td>\n",
              "      <td>1013</td>\n",
              "      <td>False</td>\n",
              "    </tr>\n",
              "  </tbody>\n",
              "</table>\n",
              "<p>4546 rows × 7 columns</p>\n",
              "</div>"
            ],
            "text/plain": [
              "           DATE  TMAX  TMIN  HUMIDITY  PRCP  PRESSURE   RAIN\n",
              "0    2008-07-01    30    26        94   1.6      1001   True\n",
              "1    2008-07-02    31    26        93   0.8      1001   True\n",
              "2    2008-07-03    29    26        95   0.0      1001  False\n",
              "3    2008-07-04    32    26        91   0.0      1001  False\n",
              "4    2008-07-05    31    26        93   0.0      1000  False\n",
              "...         ...   ...   ...       ...   ...       ...    ...\n",
              "4541 2020-12-06    31    21        50   0.0      1014  False\n",
              "4542 2020-12-07    29    21        49   0.0      1015  False\n",
              "4543 2020-12-08    30    23        51   0.0      1014  False\n",
              "4544 2020-12-09    30    22        51   0.0      1013  False\n",
              "4545 2020-12-10    29    23        52   0.0      1013  False\n",
              "\n",
              "[4546 rows x 7 columns]"
            ]
          },
          "metadata": {
            "tags": []
          },
          "execution_count": 58
        }
      ]
    },
    {
      "cell_type": "markdown",
      "metadata": {
        "id": "FRnB5mJ8k7wp"
      },
      "source": [
        "## Add datetime parameters for date column"
      ]
    },
    {
      "cell_type": "code",
      "metadata": {
        "id": "mEbR-z89jQF0"
      },
      "source": [
        "df_tmin[\"Year\"] = df_tmin.DATE.dt.year\r\n",
        "df_tmin[\"Month\"] = df_tmin.DATE.dt.month\r\n",
        "df_tmin[\"Day\"] = df_tmin.DATE.dt.day"
      ],
      "execution_count": 59,
      "outputs": []
    },
    {
      "cell_type": "code",
      "metadata": {
        "colab": {
          "base_uri": "https://localhost:8080/",
          "height": 343
        },
        "id": "FoUralLglHPP",
        "outputId": "6eceeb5b-56cb-4a2b-8294-2e59ff3f9847"
      },
      "source": [
        "df_tmin.head().T"
      ],
      "execution_count": 60,
      "outputs": [
        {
          "output_type": "execute_result",
          "data": {
            "text/html": [
              "<div>\n",
              "<style scoped>\n",
              "    .dataframe tbody tr th:only-of-type {\n",
              "        vertical-align: middle;\n",
              "    }\n",
              "\n",
              "    .dataframe tbody tr th {\n",
              "        vertical-align: top;\n",
              "    }\n",
              "\n",
              "    .dataframe thead th {\n",
              "        text-align: right;\n",
              "    }\n",
              "</style>\n",
              "<table border=\"1\" class=\"dataframe\">\n",
              "  <thead>\n",
              "    <tr style=\"text-align: right;\">\n",
              "      <th></th>\n",
              "      <th>0</th>\n",
              "      <th>1</th>\n",
              "      <th>2</th>\n",
              "      <th>3</th>\n",
              "      <th>4</th>\n",
              "    </tr>\n",
              "  </thead>\n",
              "  <tbody>\n",
              "    <tr>\n",
              "      <th>DATE</th>\n",
              "      <td>2008-07-01 00:00:00</td>\n",
              "      <td>2008-07-02 00:00:00</td>\n",
              "      <td>2008-07-03 00:00:00</td>\n",
              "      <td>2008-07-04 00:00:00</td>\n",
              "      <td>2008-07-05 00:00:00</td>\n",
              "    </tr>\n",
              "    <tr>\n",
              "      <th>TMAX</th>\n",
              "      <td>30</td>\n",
              "      <td>31</td>\n",
              "      <td>29</td>\n",
              "      <td>32</td>\n",
              "      <td>31</td>\n",
              "    </tr>\n",
              "    <tr>\n",
              "      <th>TMIN</th>\n",
              "      <td>26</td>\n",
              "      <td>26</td>\n",
              "      <td>26</td>\n",
              "      <td>26</td>\n",
              "      <td>26</td>\n",
              "    </tr>\n",
              "    <tr>\n",
              "      <th>HUMIDITY</th>\n",
              "      <td>94</td>\n",
              "      <td>93</td>\n",
              "      <td>95</td>\n",
              "      <td>91</td>\n",
              "      <td>93</td>\n",
              "    </tr>\n",
              "    <tr>\n",
              "      <th>PRCP</th>\n",
              "      <td>1.6</td>\n",
              "      <td>0.8</td>\n",
              "      <td>0</td>\n",
              "      <td>0</td>\n",
              "      <td>0</td>\n",
              "    </tr>\n",
              "    <tr>\n",
              "      <th>PRESSURE</th>\n",
              "      <td>1001</td>\n",
              "      <td>1001</td>\n",
              "      <td>1001</td>\n",
              "      <td>1001</td>\n",
              "      <td>1000</td>\n",
              "    </tr>\n",
              "    <tr>\n",
              "      <th>RAIN</th>\n",
              "      <td>True</td>\n",
              "      <td>True</td>\n",
              "      <td>False</td>\n",
              "      <td>False</td>\n",
              "      <td>False</td>\n",
              "    </tr>\n",
              "    <tr>\n",
              "      <th>Year</th>\n",
              "      <td>2008</td>\n",
              "      <td>2008</td>\n",
              "      <td>2008</td>\n",
              "      <td>2008</td>\n",
              "      <td>2008</td>\n",
              "    </tr>\n",
              "    <tr>\n",
              "      <th>Month</th>\n",
              "      <td>7</td>\n",
              "      <td>7</td>\n",
              "      <td>7</td>\n",
              "      <td>7</td>\n",
              "      <td>7</td>\n",
              "    </tr>\n",
              "    <tr>\n",
              "      <th>Day</th>\n",
              "      <td>1</td>\n",
              "      <td>2</td>\n",
              "      <td>3</td>\n",
              "      <td>4</td>\n",
              "      <td>5</td>\n",
              "    </tr>\n",
              "  </tbody>\n",
              "</table>\n",
              "</div>"
            ],
            "text/plain": [
              "                            0  ...                    4\n",
              "DATE      2008-07-01 00:00:00  ...  2008-07-05 00:00:00\n",
              "TMAX                       30  ...                   31\n",
              "TMIN                       26  ...                   26\n",
              "HUMIDITY                   94  ...                   93\n",
              "PRCP                      1.6  ...                    0\n",
              "PRESSURE                 1001  ...                 1000\n",
              "RAIN                     True  ...                False\n",
              "Year                     2008  ...                 2008\n",
              "Month                       7  ...                    7\n",
              "Day                         1  ...                    5\n",
              "\n",
              "[10 rows x 5 columns]"
            ]
          },
          "metadata": {
            "tags": []
          },
          "execution_count": 60
        }
      ]
    },
    {
      "cell_type": "code",
      "metadata": {
        "id": "NCNtNMPtlKpe"
      },
      "source": [
        "# Now that we've enriched our DataFrame with date time features, we can remove DATE and RAIN column\r\n",
        "\r\n",
        "df_tmin.drop(\"DATE\", axis=1, inplace=True)"
      ],
      "execution_count": 61,
      "outputs": []
    },
    {
      "cell_type": "code",
      "metadata": {
        "id": "-_BV6ogSlVfO"
      },
      "source": [
        "df_tmin.drop(\"RAIN\", axis=1, inplace=True)"
      ],
      "execution_count": 62,
      "outputs": []
    },
    {
      "cell_type": "code",
      "metadata": {
        "colab": {
          "base_uri": "https://localhost:8080/",
          "height": 402
        },
        "id": "n3uRt3vtlXMh",
        "outputId": "96a12d72-a624-434e-928b-aa1166cf6c4d"
      },
      "source": [
        "# Check the values of different columns\r\n",
        "df_tmin"
      ],
      "execution_count": 63,
      "outputs": [
        {
          "output_type": "execute_result",
          "data": {
            "text/html": [
              "<div>\n",
              "<style scoped>\n",
              "    .dataframe tbody tr th:only-of-type {\n",
              "        vertical-align: middle;\n",
              "    }\n",
              "\n",
              "    .dataframe tbody tr th {\n",
              "        vertical-align: top;\n",
              "    }\n",
              "\n",
              "    .dataframe thead th {\n",
              "        text-align: right;\n",
              "    }\n",
              "</style>\n",
              "<table border=\"1\" class=\"dataframe\">\n",
              "  <thead>\n",
              "    <tr style=\"text-align: right;\">\n",
              "      <th></th>\n",
              "      <th>TMAX</th>\n",
              "      <th>TMIN</th>\n",
              "      <th>HUMIDITY</th>\n",
              "      <th>PRCP</th>\n",
              "      <th>PRESSURE</th>\n",
              "      <th>Year</th>\n",
              "      <th>Month</th>\n",
              "      <th>Day</th>\n",
              "    </tr>\n",
              "  </thead>\n",
              "  <tbody>\n",
              "    <tr>\n",
              "      <th>0</th>\n",
              "      <td>30</td>\n",
              "      <td>26</td>\n",
              "      <td>94</td>\n",
              "      <td>1.6</td>\n",
              "      <td>1001</td>\n",
              "      <td>2008</td>\n",
              "      <td>7</td>\n",
              "      <td>1</td>\n",
              "    </tr>\n",
              "    <tr>\n",
              "      <th>1</th>\n",
              "      <td>31</td>\n",
              "      <td>26</td>\n",
              "      <td>93</td>\n",
              "      <td>0.8</td>\n",
              "      <td>1001</td>\n",
              "      <td>2008</td>\n",
              "      <td>7</td>\n",
              "      <td>2</td>\n",
              "    </tr>\n",
              "    <tr>\n",
              "      <th>2</th>\n",
              "      <td>29</td>\n",
              "      <td>26</td>\n",
              "      <td>95</td>\n",
              "      <td>0.0</td>\n",
              "      <td>1001</td>\n",
              "      <td>2008</td>\n",
              "      <td>7</td>\n",
              "      <td>3</td>\n",
              "    </tr>\n",
              "    <tr>\n",
              "      <th>3</th>\n",
              "      <td>32</td>\n",
              "      <td>26</td>\n",
              "      <td>91</td>\n",
              "      <td>0.0</td>\n",
              "      <td>1001</td>\n",
              "      <td>2008</td>\n",
              "      <td>7</td>\n",
              "      <td>4</td>\n",
              "    </tr>\n",
              "    <tr>\n",
              "      <th>4</th>\n",
              "      <td>31</td>\n",
              "      <td>26</td>\n",
              "      <td>93</td>\n",
              "      <td>0.0</td>\n",
              "      <td>1000</td>\n",
              "      <td>2008</td>\n",
              "      <td>7</td>\n",
              "      <td>5</td>\n",
              "    </tr>\n",
              "    <tr>\n",
              "      <th>...</th>\n",
              "      <td>...</td>\n",
              "      <td>...</td>\n",
              "      <td>...</td>\n",
              "      <td>...</td>\n",
              "      <td>...</td>\n",
              "      <td>...</td>\n",
              "      <td>...</td>\n",
              "      <td>...</td>\n",
              "    </tr>\n",
              "    <tr>\n",
              "      <th>4541</th>\n",
              "      <td>31</td>\n",
              "      <td>21</td>\n",
              "      <td>50</td>\n",
              "      <td>0.0</td>\n",
              "      <td>1014</td>\n",
              "      <td>2020</td>\n",
              "      <td>12</td>\n",
              "      <td>6</td>\n",
              "    </tr>\n",
              "    <tr>\n",
              "      <th>4542</th>\n",
              "      <td>29</td>\n",
              "      <td>21</td>\n",
              "      <td>49</td>\n",
              "      <td>0.0</td>\n",
              "      <td>1015</td>\n",
              "      <td>2020</td>\n",
              "      <td>12</td>\n",
              "      <td>7</td>\n",
              "    </tr>\n",
              "    <tr>\n",
              "      <th>4543</th>\n",
              "      <td>30</td>\n",
              "      <td>23</td>\n",
              "      <td>51</td>\n",
              "      <td>0.0</td>\n",
              "      <td>1014</td>\n",
              "      <td>2020</td>\n",
              "      <td>12</td>\n",
              "      <td>8</td>\n",
              "    </tr>\n",
              "    <tr>\n",
              "      <th>4544</th>\n",
              "      <td>30</td>\n",
              "      <td>22</td>\n",
              "      <td>51</td>\n",
              "      <td>0.0</td>\n",
              "      <td>1013</td>\n",
              "      <td>2020</td>\n",
              "      <td>12</td>\n",
              "      <td>9</td>\n",
              "    </tr>\n",
              "    <tr>\n",
              "      <th>4545</th>\n",
              "      <td>29</td>\n",
              "      <td>23</td>\n",
              "      <td>52</td>\n",
              "      <td>0.0</td>\n",
              "      <td>1013</td>\n",
              "      <td>2020</td>\n",
              "      <td>12</td>\n",
              "      <td>10</td>\n",
              "    </tr>\n",
              "  </tbody>\n",
              "</table>\n",
              "<p>4546 rows × 8 columns</p>\n",
              "</div>"
            ],
            "text/plain": [
              "      TMAX  TMIN  HUMIDITY  PRCP  PRESSURE  Year  Month  Day\n",
              "0       30    26        94   1.6      1001  2008      7    1\n",
              "1       31    26        93   0.8      1001  2008      7    2\n",
              "2       29    26        95   0.0      1001  2008      7    3\n",
              "3       32    26        91   0.0      1001  2008      7    4\n",
              "4       31    26        93   0.0      1000  2008      7    5\n",
              "...    ...   ...       ...   ...       ...   ...    ...  ...\n",
              "4541    31    21        50   0.0      1014  2020     12    6\n",
              "4542    29    21        49   0.0      1015  2020     12    7\n",
              "4543    30    23        51   0.0      1014  2020     12    8\n",
              "4544    30    22        51   0.0      1013  2020     12    9\n",
              "4545    29    23        52   0.0      1013  2020     12   10\n",
              "\n",
              "[4546 rows x 8 columns]"
            ]
          },
          "metadata": {
            "tags": []
          },
          "execution_count": 63
        }
      ]
    },
    {
      "cell_type": "code",
      "metadata": {
        "colab": {
          "base_uri": "https://localhost:8080/",
          "height": 195
        },
        "id": "4nN9PTxolbX3",
        "outputId": "ff85f768-01de-4070-817d-061b1e3663d5"
      },
      "source": [
        "df_tmin.head()"
      ],
      "execution_count": 64,
      "outputs": [
        {
          "output_type": "execute_result",
          "data": {
            "text/html": [
              "<div>\n",
              "<style scoped>\n",
              "    .dataframe tbody tr th:only-of-type {\n",
              "        vertical-align: middle;\n",
              "    }\n",
              "\n",
              "    .dataframe tbody tr th {\n",
              "        vertical-align: top;\n",
              "    }\n",
              "\n",
              "    .dataframe thead th {\n",
              "        text-align: right;\n",
              "    }\n",
              "</style>\n",
              "<table border=\"1\" class=\"dataframe\">\n",
              "  <thead>\n",
              "    <tr style=\"text-align: right;\">\n",
              "      <th></th>\n",
              "      <th>TMAX</th>\n",
              "      <th>TMIN</th>\n",
              "      <th>HUMIDITY</th>\n",
              "      <th>PRCP</th>\n",
              "      <th>PRESSURE</th>\n",
              "      <th>Year</th>\n",
              "      <th>Month</th>\n",
              "      <th>Day</th>\n",
              "    </tr>\n",
              "  </thead>\n",
              "  <tbody>\n",
              "    <tr>\n",
              "      <th>0</th>\n",
              "      <td>30</td>\n",
              "      <td>26</td>\n",
              "      <td>94</td>\n",
              "      <td>1.6</td>\n",
              "      <td>1001</td>\n",
              "      <td>2008</td>\n",
              "      <td>7</td>\n",
              "      <td>1</td>\n",
              "    </tr>\n",
              "    <tr>\n",
              "      <th>1</th>\n",
              "      <td>31</td>\n",
              "      <td>26</td>\n",
              "      <td>93</td>\n",
              "      <td>0.8</td>\n",
              "      <td>1001</td>\n",
              "      <td>2008</td>\n",
              "      <td>7</td>\n",
              "      <td>2</td>\n",
              "    </tr>\n",
              "    <tr>\n",
              "      <th>2</th>\n",
              "      <td>29</td>\n",
              "      <td>26</td>\n",
              "      <td>95</td>\n",
              "      <td>0.0</td>\n",
              "      <td>1001</td>\n",
              "      <td>2008</td>\n",
              "      <td>7</td>\n",
              "      <td>3</td>\n",
              "    </tr>\n",
              "    <tr>\n",
              "      <th>3</th>\n",
              "      <td>32</td>\n",
              "      <td>26</td>\n",
              "      <td>91</td>\n",
              "      <td>0.0</td>\n",
              "      <td>1001</td>\n",
              "      <td>2008</td>\n",
              "      <td>7</td>\n",
              "      <td>4</td>\n",
              "    </tr>\n",
              "    <tr>\n",
              "      <th>4</th>\n",
              "      <td>31</td>\n",
              "      <td>26</td>\n",
              "      <td>93</td>\n",
              "      <td>0.0</td>\n",
              "      <td>1000</td>\n",
              "      <td>2008</td>\n",
              "      <td>7</td>\n",
              "      <td>5</td>\n",
              "    </tr>\n",
              "  </tbody>\n",
              "</table>\n",
              "</div>"
            ],
            "text/plain": [
              "   TMAX  TMIN  HUMIDITY  PRCP  PRESSURE  Year  Month  Day\n",
              "0    30    26        94   1.6      1001  2008      7    1\n",
              "1    31    26        93   0.8      1001  2008      7    2\n",
              "2    29    26        95   0.0      1001  2008      7    3\n",
              "3    32    26        91   0.0      1001  2008      7    4\n",
              "4    31    26        93   0.0      1000  2008      7    5"
            ]
          },
          "metadata": {
            "tags": []
          },
          "execution_count": 64
        }
      ]
    },
    {
      "cell_type": "code",
      "metadata": {
        "colab": {
          "base_uri": "https://localhost:8080/"
        },
        "id": "5AaBz7Qplehe",
        "outputId": "66f52042-756e-4383-cc66-ae524bc7bea0"
      },
      "source": [
        "len(df_tmin)"
      ],
      "execution_count": 65,
      "outputs": [
        {
          "output_type": "execute_result",
          "data": {
            "text/plain": [
              "4546"
            ]
          },
          "metadata": {
            "tags": []
          },
          "execution_count": 65
        }
      ]
    },
    {
      "cell_type": "code",
      "metadata": {
        "colab": {
          "base_uri": "https://localhost:8080/"
        },
        "id": "FEn5spOclgmu",
        "outputId": "8df3d009-2ec1-4eab-e196-7cdfca279fbe"
      },
      "source": [
        "df_tmin.columns"
      ],
      "execution_count": 66,
      "outputs": [
        {
          "output_type": "execute_result",
          "data": {
            "text/plain": [
              "Index(['TMAX', 'TMIN', 'HUMIDITY', 'PRCP', 'PRESSURE', 'Year', 'Month', 'Day'], dtype='object')"
            ]
          },
          "metadata": {
            "tags": []
          },
          "execution_count": 66
        }
      ]
    },
    {
      "cell_type": "code",
      "metadata": {
        "id": "52tGh_4Ulvn_"
      },
      "source": [
        "df_tmin = df_tmin.drop(['TMAX', 'HUMIDITY', 'PRCP', 'PRESSURE'], axis=1)"
      ],
      "execution_count": 67,
      "outputs": []
    },
    {
      "cell_type": "code",
      "metadata": {
        "colab": {
          "base_uri": "https://localhost:8080/",
          "height": 402
        },
        "id": "OZlssbcjl2ic",
        "outputId": "f5ba2e14-7550-45f1-d260-289bd2d8cd81"
      },
      "source": [
        "df_tmin"
      ],
      "execution_count": 68,
      "outputs": [
        {
          "output_type": "execute_result",
          "data": {
            "text/html": [
              "<div>\n",
              "<style scoped>\n",
              "    .dataframe tbody tr th:only-of-type {\n",
              "        vertical-align: middle;\n",
              "    }\n",
              "\n",
              "    .dataframe tbody tr th {\n",
              "        vertical-align: top;\n",
              "    }\n",
              "\n",
              "    .dataframe thead th {\n",
              "        text-align: right;\n",
              "    }\n",
              "</style>\n",
              "<table border=\"1\" class=\"dataframe\">\n",
              "  <thead>\n",
              "    <tr style=\"text-align: right;\">\n",
              "      <th></th>\n",
              "      <th>TMIN</th>\n",
              "      <th>Year</th>\n",
              "      <th>Month</th>\n",
              "      <th>Day</th>\n",
              "    </tr>\n",
              "  </thead>\n",
              "  <tbody>\n",
              "    <tr>\n",
              "      <th>0</th>\n",
              "      <td>26</td>\n",
              "      <td>2008</td>\n",
              "      <td>7</td>\n",
              "      <td>1</td>\n",
              "    </tr>\n",
              "    <tr>\n",
              "      <th>1</th>\n",
              "      <td>26</td>\n",
              "      <td>2008</td>\n",
              "      <td>7</td>\n",
              "      <td>2</td>\n",
              "    </tr>\n",
              "    <tr>\n",
              "      <th>2</th>\n",
              "      <td>26</td>\n",
              "      <td>2008</td>\n",
              "      <td>7</td>\n",
              "      <td>3</td>\n",
              "    </tr>\n",
              "    <tr>\n",
              "      <th>3</th>\n",
              "      <td>26</td>\n",
              "      <td>2008</td>\n",
              "      <td>7</td>\n",
              "      <td>4</td>\n",
              "    </tr>\n",
              "    <tr>\n",
              "      <th>4</th>\n",
              "      <td>26</td>\n",
              "      <td>2008</td>\n",
              "      <td>7</td>\n",
              "      <td>5</td>\n",
              "    </tr>\n",
              "    <tr>\n",
              "      <th>...</th>\n",
              "      <td>...</td>\n",
              "      <td>...</td>\n",
              "      <td>...</td>\n",
              "      <td>...</td>\n",
              "    </tr>\n",
              "    <tr>\n",
              "      <th>4541</th>\n",
              "      <td>21</td>\n",
              "      <td>2020</td>\n",
              "      <td>12</td>\n",
              "      <td>6</td>\n",
              "    </tr>\n",
              "    <tr>\n",
              "      <th>4542</th>\n",
              "      <td>21</td>\n",
              "      <td>2020</td>\n",
              "      <td>12</td>\n",
              "      <td>7</td>\n",
              "    </tr>\n",
              "    <tr>\n",
              "      <th>4543</th>\n",
              "      <td>23</td>\n",
              "      <td>2020</td>\n",
              "      <td>12</td>\n",
              "      <td>8</td>\n",
              "    </tr>\n",
              "    <tr>\n",
              "      <th>4544</th>\n",
              "      <td>22</td>\n",
              "      <td>2020</td>\n",
              "      <td>12</td>\n",
              "      <td>9</td>\n",
              "    </tr>\n",
              "    <tr>\n",
              "      <th>4545</th>\n",
              "      <td>23</td>\n",
              "      <td>2020</td>\n",
              "      <td>12</td>\n",
              "      <td>10</td>\n",
              "    </tr>\n",
              "  </tbody>\n",
              "</table>\n",
              "<p>4546 rows × 4 columns</p>\n",
              "</div>"
            ],
            "text/plain": [
              "      TMIN  Year  Month  Day\n",
              "0       26  2008      7    1\n",
              "1       26  2008      7    2\n",
              "2       26  2008      7    3\n",
              "3       26  2008      7    4\n",
              "4       26  2008      7    5\n",
              "...    ...   ...    ...  ...\n",
              "4541    21  2020     12    6\n",
              "4542    21  2020     12    7\n",
              "4543    23  2020     12    8\n",
              "4544    22  2020     12    9\n",
              "4545    23  2020     12   10\n",
              "\n",
              "[4546 rows x 4 columns]"
            ]
          },
          "metadata": {
            "tags": []
          },
          "execution_count": 68
        }
      ]
    },
    {
      "cell_type": "markdown",
      "metadata": {
        "id": "MAyUgPE9l8Oq"
      },
      "source": [
        "# Model Creation"
      ]
    },
    {
      "cell_type": "code",
      "metadata": {
        "colab": {
          "base_uri": "https://localhost:8080/"
        },
        "id": "UW22LkQGl3t2",
        "outputId": "2c63ae87-d913-4aad-f6e7-0e734766fe70"
      },
      "source": [
        "# Let's build a machine learning model\r\n",
        "%%time\r\n",
        "from sklearn.ensemble import RandomForestRegressor\r\n",
        "\r\n",
        "model = RandomForestRegressor(n_jobs=-1,\r\n",
        "                             random_state= 42)\r\n",
        "model.fit(df_tmin.drop(\"TMIN\", axis=1), df_tmin[\"TMIN\"])"
      ],
      "execution_count": 69,
      "outputs": [
        {
          "output_type": "stream",
          "text": [
            "CPU times: user 907 ms, sys: 27.6 ms, total: 935 ms\n",
            "Wall time: 558 ms\n"
          ],
          "name": "stdout"
        }
      ]
    },
    {
      "cell_type": "code",
      "metadata": {
        "colab": {
          "base_uri": "https://localhost:8080/"
        },
        "id": "AvpS8_rymEd9",
        "outputId": "627eff6b-2a50-42bb-99ca-77f511a98c91"
      },
      "source": [
        "# Score the model\r\n",
        "model_score= model.score(df_tmin.drop(\"TMIN\", axis=1), df_tmin[\"TMIN\"])\r\n",
        "print(f'Model score is:  {model_score*100:.2f}')"
      ],
      "execution_count": 70,
      "outputs": [
        {
          "output_type": "stream",
          "text": [
            "Model score is:  99.32\n"
          ],
          "name": "stdout"
        }
      ]
    },
    {
      "cell_type": "code",
      "metadata": {
        "colab": {
          "base_uri": "https://localhost:8080/"
        },
        "id": "7k5aFgHrmpzP",
        "outputId": "e2a8d4f4-ca4f-4fae-e3f7-7a0083b79db2"
      },
      "source": [
        "df_tmin.Year"
      ],
      "execution_count": 71,
      "outputs": [
        {
          "output_type": "execute_result",
          "data": {
            "text/plain": [
              "0       2008\n",
              "1       2008\n",
              "2       2008\n",
              "3       2008\n",
              "4       2008\n",
              "        ... \n",
              "4541    2020\n",
              "4542    2020\n",
              "4543    2020\n",
              "4544    2020\n",
              "4545    2020\n",
              "Name: Year, Length: 4546, dtype: int64"
            ]
          },
          "metadata": {
            "tags": []
          },
          "execution_count": 71
        }
      ]
    },
    {
      "cell_type": "code",
      "metadata": {
        "colab": {
          "base_uri": "https://localhost:8080/"
        },
        "id": "woyt6E7Nms0n",
        "outputId": "a8ac9130-ffe4-446f-c1d9-b68b4dbc03db"
      },
      "source": [
        "df_tmin.Year.value_counts()\r\n"
      ],
      "execution_count": 72,
      "outputs": [
        {
          "output_type": "execute_result",
          "data": {
            "text/plain": [
              "2016    366\n",
              "2012    366\n",
              "2019    365\n",
              "2015    365\n",
              "2011    365\n",
              "2018    365\n",
              "2014    365\n",
              "2010    365\n",
              "2017    365\n",
              "2013    365\n",
              "2009    365\n",
              "2020    345\n",
              "2008    184\n",
              "Name: Year, dtype: int64"
            ]
          },
          "metadata": {
            "tags": []
          },
          "execution_count": 72
        }
      ]
    },
    {
      "cell_type": "code",
      "metadata": {
        "colab": {
          "base_uri": "https://localhost:8080/"
        },
        "id": "G4qC3hLTmvP1",
        "outputId": "d3b65cde-5473-4510-99b1-c657ea5efafc"
      },
      "source": [
        "# Split data into train and validation\r\n",
        "df_val = df_tmin[df_tmin.Year == 2008 ]\r\n",
        "df_train = df_tmin[df_tmin.Year != 2008]\r\n",
        "\r\n",
        "len(df_val), len(df_train)"
      ],
      "execution_count": 73,
      "outputs": [
        {
          "output_type": "execute_result",
          "data": {
            "text/plain": [
              "(184, 4362)"
            ]
          },
          "metadata": {
            "tags": []
          },
          "execution_count": 73
        }
      ]
    },
    {
      "cell_type": "code",
      "metadata": {
        "colab": {
          "base_uri": "https://localhost:8080/"
        },
        "id": "1Ah0l3cfnCtv",
        "outputId": "2444e7c8-13c7-4e78-fb77-297bbb3c23b7"
      },
      "source": [
        "# Splitting data into X and y\r\n",
        "X_train, y_train = df_train.drop(\"TMIN\", axis=1), df_train.TMIN\r\n",
        "X_valid, y_valid = df_val.drop(\"TMIN\", axis=1), df_val.TMIN\r\n",
        "\r\n",
        "X_train.shape, y_train.shape, X_valid.shape, y_valid.shape"
      ],
      "execution_count": 74,
      "outputs": [
        {
          "output_type": "execute_result",
          "data": {
            "text/plain": [
              "((4362, 3), (4362,), (184, 3), (184,))"
            ]
          },
          "metadata": {
            "tags": []
          },
          "execution_count": 74
        }
      ]
    },
    {
      "cell_type": "code",
      "metadata": {
        "colab": {
          "base_uri": "https://localhost:8080/"
        },
        "id": "E_b1v--znMJA",
        "outputId": "342fda22-e4d2-45c2-a437-992b40d85191"
      },
      "source": [
        "y_train"
      ],
      "execution_count": 75,
      "outputs": [
        {
          "output_type": "execute_result",
          "data": {
            "text/plain": [
              "184     16\n",
              "185     15\n",
              "186     14\n",
              "187     13\n",
              "188     13\n",
              "        ..\n",
              "4541    21\n",
              "4542    21\n",
              "4543    23\n",
              "4544    22\n",
              "4545    23\n",
              "Name: TMIN, Length: 4362, dtype: int64"
            ]
          },
          "metadata": {
            "tags": []
          },
          "execution_count": 75
        }
      ]
    },
    {
      "cell_type": "markdown",
      "metadata": {
        "id": "qlkxyGgznUEC"
      },
      "source": [
        "**Building an evaluation function**"
      ]
    },
    {
      "cell_type": "code",
      "metadata": {
        "id": "YNBjLA-0nP5e"
      },
      "source": [
        "# Create evaluation function (the competition uses RMSLE)\r\n",
        "from sklearn.metrics import mean_squared_log_error, mean_absolute_error, r2_score\r\n",
        "\r\n",
        "def rmsle(y_test, y_preds):\r\n",
        "    \"\"\"\r\n",
        "    Calculates root mean squared log error between prediction and true labels\r\n",
        "    \"\"\"\r\n",
        "    return np.sqrt(mean_squared_log_error(y_test, y_preds))\r\n",
        "\r\n",
        "# Create function to evaluate model on a few different Levels\r\n",
        "def show_score(model):\r\n",
        "    train_preds = model.predict(X_train)\r\n",
        "    val_preds = model.predict(X_valid)\r\n",
        "    scores = {\"Training MAE\": mean_absolute_error(y_train, train_preds),\r\n",
        "              \"Valid MAE\": mean_absolute_error(y_valid, val_preds),\r\n",
        "              \"Training RMSLE\": rmsle(y_train, train_preds),\r\n",
        "              \"Valid RMSLE\": rmsle(y_valid, val_preds),\r\n",
        "              \"Training R^2-Score\": r2_score(y_train, train_preds),\r\n",
        "              \"Valid R^2-Score\": r2_score(y_valid, val_preds)}\r\n",
        "    return scores"
      ],
      "execution_count": 76,
      "outputs": []
    },
    {
      "cell_type": "code",
      "metadata": {
        "colab": {
          "base_uri": "https://localhost:8080/"
        },
        "id": "pg79GmxznV0f",
        "outputId": "9257d2b3-8b74-4846-bac3-ff432d4d0040"
      },
      "source": [
        "# Because the length of the X_train is really high\r\n",
        "\r\n",
        "print(f'Length of the X_train set: {len(X_train)}')"
      ],
      "execution_count": 77,
      "outputs": [
        {
          "output_type": "stream",
          "text": [
            "Length of the X_train set: 4362\n"
          ],
          "name": "stdout"
        }
      ]
    },
    {
      "cell_type": "code",
      "metadata": {
        "id": "R26V_oEUnacD"
      },
      "source": [
        "\r\n",
        "# Change max_samples value to make the process faster.\r\n",
        "model = RandomForestRegressor(n_jobs=-1,\r\n",
        "                             random_state=42,\r\n",
        "                             max_samples=1000)"
      ],
      "execution_count": 78,
      "outputs": []
    },
    {
      "cell_type": "code",
      "metadata": {
        "colab": {
          "base_uri": "https://localhost:8080/"
        },
        "id": "c6kjBvaind6q",
        "outputId": "4b5057c9-60ac-42e6-8cd8-77e7127a9b16"
      },
      "source": [
        "%%time\r\n",
        "\r\n",
        "# Cutting down on the maxx number of samples each estimator can see improves training time\r\n",
        "model.fit(X_train, y_train)"
      ],
      "execution_count": 79,
      "outputs": [
        {
          "output_type": "stream",
          "text": [
            "CPU times: user 411 ms, sys: 18.3 ms, total: 429 ms\n",
            "Wall time: 372 ms\n"
          ],
          "name": "stdout"
        },
        {
          "output_type": "execute_result",
          "data": {
            "text/plain": [
              "RandomForestRegressor(bootstrap=True, ccp_alpha=0.0, criterion='mse',\n",
              "                      max_depth=None, max_features='auto', max_leaf_nodes=None,\n",
              "                      max_samples=1000, min_impurity_decrease=0.0,\n",
              "                      min_impurity_split=None, min_samples_leaf=1,\n",
              "                      min_samples_split=2, min_weight_fraction_leaf=0.0,\n",
              "                      n_estimators=100, n_jobs=-1, oob_score=False,\n",
              "                      random_state=42, verbose=0, warm_start=False)"
            ]
          },
          "metadata": {
            "tags": []
          },
          "execution_count": 79
        }
      ]
    },
    {
      "cell_type": "code",
      "metadata": {
        "colab": {
          "base_uri": "https://localhost:8080/"
        },
        "id": "lZEBAm7bnfQE",
        "outputId": "a98896de-6f63-487a-ca40-854710eb7b84"
      },
      "source": [
        "print(f'the model is {(X_train.shape[0]) * 100 / 1000000} times faster')"
      ],
      "execution_count": 80,
      "outputs": [
        {
          "output_type": "stream",
          "text": [
            "the model is 0.4362 times faster\n"
          ],
          "name": "stdout"
        }
      ]
    },
    {
      "cell_type": "code",
      "metadata": {
        "colab": {
          "base_uri": "https://localhost:8080/"
        },
        "id": "QOozH4qVngz0",
        "outputId": "0b62d8b4-0b4a-417c-c3bd-2dabd0468652"
      },
      "source": [
        "%%time\r\n",
        "\r\n",
        "# Model with ideal hyperparameter tuning\r\n",
        "\r\n",
        "ideal_model_tmin = RandomForestRegressor(n_estimators=40,\r\n",
        "                                   min_samples_leaf=1,\r\n",
        "                                   min_samples_split=14,\r\n",
        "                                   max_features=0.5,\r\n",
        "                                   n_jobs=-1,\r\n",
        "                                   max_samples=None,\r\n",
        "                                   random_state=42)\r\n",
        "\r\n",
        "# Fit the model\r\n",
        "ideal_model_tmin.fit(X_train, y_train)"
      ],
      "execution_count": 81,
      "outputs": [
        {
          "output_type": "stream",
          "text": [
            "CPU times: user 160 ms, sys: 7.89 ms, total: 168 ms\n",
            "Wall time: 126 ms\n"
          ],
          "name": "stdout"
        }
      ]
    },
    {
      "cell_type": "code",
      "metadata": {
        "colab": {
          "base_uri": "https://localhost:8080/"
        },
        "id": "sOB0bSbBnn8J",
        "outputId": "d3ada249-ef06-4acd-b812-f05d6e8b0030"
      },
      "source": [
        "# Score for idea_model (trained on all the data)\r\n",
        "show_score(ideal_model_tmin)"
      ],
      "execution_count": 82,
      "outputs": [
        {
          "output_type": "execute_result",
          "data": {
            "text/plain": [
              "{'Training MAE': 0.8341153970775096,\n",
              " 'Training RMSLE': 0.0557527151899355,\n",
              " 'Training R^2-Score': 0.9429927448159902,\n",
              " 'Valid MAE': 0.8528288456497692,\n",
              " 'Valid RMSLE': 0.057871609051907524,\n",
              " 'Valid R^2-Score': 0.9066184271909903}"
            ]
          },
          "metadata": {
            "tags": []
          },
          "execution_count": 82
        }
      ]
    },
    {
      "cell_type": "markdown",
      "metadata": {
        "id": "8ZI79hiCnzNO"
      },
      "source": [
        "### Make Prediction on test data"
      ]
    },
    {
      "cell_type": "code",
      "metadata": {
        "id": "kfy0C8sInvKg"
      },
      "source": [
        "test_preds_tmin = ideal_model_tmin.predict(X_valid)"
      ],
      "execution_count": 83,
      "outputs": []
    },
    {
      "cell_type": "code",
      "metadata": {
        "colab": {
          "base_uri": "https://localhost:8080/"
        },
        "id": "XWXW7sGon35b",
        "outputId": "ee216a9b-6ec3-48ad-b42d-ea9386ca6a56"
      },
      "source": [
        "test_preds_tmin"
      ],
      "execution_count": 84,
      "outputs": [
        {
          "output_type": "execute_result",
          "data": {
            "text/plain": [
              "array([25.62243429, 25.85023163, 25.94536524, 26.1367503 , 26.10014302,\n",
              "       26.01709838, 26.00662885, 26.11725812, 25.80949299, 25.97581482,\n",
              "       26.04238562, 25.59614792, 25.7786778 , 25.91694338, 25.7440288 ,\n",
              "       25.77570111, 25.9260825 , 26.07486663, 25.86552532, 25.64060733,\n",
              "       25.63866223, 25.88959123, 25.99628482, 25.95357676, 25.90237595,\n",
              "       25.87885904, 25.53525088, 25.8375565 , 25.89248853, 25.87516577,\n",
              "       25.23725635, 25.74373001, 26.00996952, 26.12688267, 26.33858023,\n",
              "       26.30197295, 26.22874974, 26.18860874, 26.30645527, 25.97870387,\n",
              "       26.00353306, 26.02282031, 25.49956545, 25.69931024, 25.66835936,\n",
              "       25.51844949, 25.56808249, 25.60159763, 25.66996966, 25.47287082,\n",
              "       25.18656388, 25.1693229 , 25.33209671, 25.4371427 , 25.38826948,\n",
              "       25.20770935, 25.25825243, 24.85743389, 25.21361116, 25.43905392,\n",
              "       25.5924904 , 24.94889916, 25.48465897, 25.59454262, 25.6929285 ,\n",
              "       25.67573657, 25.69990129, 25.51331378, 25.42929651, 25.57315994,\n",
              "       25.50289716, 25.58918955, 25.63962902, 25.35536357, 25.62419894,\n",
              "       25.58970009, 25.45668439, 25.44911496, 25.52887161, 25.53554649,\n",
              "       25.33461065, 25.1932293 , 25.17915786, 25.19945726, 25.52345931,\n",
              "       25.48025333, 25.15749081, 25.26854976, 24.90675682, 25.27715192,\n",
              "       25.36726439, 25.56201219, 25.06000405, 25.27777853, 25.16525431,\n",
              "       25.02208881, 24.93221535, 24.78056723, 24.54434137, 24.5495932 ,\n",
              "       24.39291689, 24.41610354, 24.37138417, 23.94035866, 23.740084  ,\n",
              "       23.76730899, 23.90538115, 23.86400347, 23.93151205, 23.65639667,\n",
              "       23.01384515, 22.26568859, 21.72817537, 21.9498707 , 21.62590211,\n",
              "       21.44325832, 21.59616644, 21.2224751 , 20.90938   , 21.08105333,\n",
              "       20.70978394, 20.60652596, 20.81806383, 20.86599514, 20.68344699,\n",
              "       20.85749099, 20.97264308, 21.0308457 , 20.86015164, 20.53474701,\n",
              "       20.37300574, 20.15421299, 19.90410876, 19.83944628, 19.78271116,\n",
              "       19.9714326 , 20.0388092 , 20.609553  , 20.668158  , 19.9605167 ,\n",
              "       19.96004957, 20.36279247, 19.54185589, 17.90347583, 16.92877168,\n",
              "       16.65995627, 16.82772836, 16.80735307, 16.99930035, 17.10998139,\n",
              "       16.90846452, 17.03143532, 17.16767744, 18.31366485, 17.82968891,\n",
              "       17.69021497, 17.85100341, 17.88205191, 17.59745387, 17.51502291,\n",
              "       17.1218613 , 16.92802617, 16.71246516, 16.51342432, 16.36183721,\n",
              "       16.09270742, 16.07843665, 16.46012453, 16.42030869, 16.2127007 ,\n",
              "       16.26147211, 16.54039886, 16.65275354, 15.95307802, 15.03967167,\n",
              "       14.87574876, 14.5322722 , 14.13431423, 14.45060887, 14.57255857,\n",
              "       14.52330728, 14.73589195, 14.7734021 , 15.21542128])"
            ]
          },
          "metadata": {
            "tags": []
          },
          "execution_count": 84
        }
      ]
    },
    {
      "cell_type": "code",
      "metadata": {
        "colab": {
          "base_uri": "https://localhost:8080/",
          "height": 391
        },
        "id": "xqTC13cGn5ZR",
        "outputId": "e97af6b5-238f-4137-f944-e68dc41a9b01"
      },
      "source": [
        "\r\n",
        "plt.figure(figsize=(12,6))\r\n",
        "plt.scatter(y_valid, test_preds_tmin)"
      ],
      "execution_count": 85,
      "outputs": [
        {
          "output_type": "execute_result",
          "data": {
            "text/plain": [
              "<matplotlib.collections.PathCollection at 0x7f07d08e80b8>"
            ]
          },
          "metadata": {
            "tags": []
          },
          "execution_count": 85
        },
        {
          "output_type": "display_data",
          "data": {
            "image/png": "[encoded data removed]",
            "text/plain": [
              "<Figure size 864x432 with 1 Axes>"
            ]
          },
          "metadata": {
            "tags": [],
            "needs_background": "light"
          }
        }
      ]
    },
    {
      "cell_type": "code",
      "metadata": {
        "colab": {
          "base_uri": "https://localhost:8080/",
          "height": 391
        },
        "id": "c7-m_PXhn9Ve",
        "outputId": "0be99a2a-9dfc-41ce-d70d-775d77147acb"
      },
      "source": [
        "#Make a line\r\n",
        "plt.figure(figsize=(12,6))\r\n",
        "plt.scatter(y_valid, test_preds_tmin)\r\n",
        "plt.plot(y_valid, y_valid, 'r')"
      ],
      "execution_count": 86,
      "outputs": [
        {
          "output_type": "execute_result",
          "data": {
            "text/plain": [
              "[<matplotlib.lines.Line2D at 0x7f07d089fd30>]"
            ]
          },
          "metadata": {
            "tags": []
          },
          "execution_count": 86
        },
        {
          "output_type": "display_data",
          "data": {
            "image/png": "[encoded data removed]",
            "text/plain": [
              "<Figure size 864x432 with 1 Axes>"
            ]
          },
          "metadata": {
            "tags": [],
            "needs_background": "light"
          }
        }
      ]
    },
    {
      "cell_type": "markdown",
      "metadata": {
        "id": "4ohwQErHoJaK"
      },
      "source": [
        "# **Custom Data Predictions**\r\n",
        "\r\n",
        "* We will predict a new TMIN depending upon A new year "
      ]
    },
    {
      "cell_type": "markdown",
      "metadata": {
        "id": "WyDiBDyHoN2q"
      },
      "source": [
        "Put Year, Month and Date below"
      ]
    },
    {
      "cell_type": "code",
      "metadata": {
        "colab": {
          "base_uri": "https://localhost:8080/"
        },
        "id": "p0INvejyn-zv",
        "outputId": "456463c0-74eb-415a-f357-f20aa48a76c2"
      },
      "source": [
        "# Here 2020 is the year, 12 is the month and 11 is the day of the date\r\n",
        "New_year_to_predict_tmin = [[2020,12,11]]\r\n",
        "Custom_tmin_preds = ideal_model_tmin.predict(New_year_to_predict_tmin)\r\n",
        "print(f' Predicted Minimum Temperature (TMIN) is:  {Custom_tmin_preds[0]:.2f}°C' )"
      ],
      "execution_count": 87,
      "outputs": [
        {
          "output_type": "stream",
          "text": [
            " Predicted Minimum Temperature (TMIN) is:  22.81°C\n"
          ],
          "name": "stdout"
        }
      ]
    },
    {
      "cell_type": "markdown",
      "metadata": {
        "id": "n7fm_SQtpZuf"
      },
      "source": [
        "# Predicting HUMIDITY"
      ]
    },
    {
      "cell_type": "code",
      "metadata": {
        "id": "PknFsTsAoTFP"
      },
      "source": [
        "df_humid = df.copy()"
      ],
      "execution_count": 88,
      "outputs": []
    },
    {
      "cell_type": "code",
      "metadata": {
        "colab": {
          "base_uri": "https://localhost:8080/",
          "height": 402
        },
        "id": "3Yqz5FM1p5k5",
        "outputId": "ec600047-cfc2-4e1c-e78e-5aa7a2ebf673"
      },
      "source": [
        "df_humid"
      ],
      "execution_count": 89,
      "outputs": [
        {
          "output_type": "execute_result",
          "data": {
            "text/html": [
              "<div>\n",
              "<style scoped>\n",
              "    .dataframe tbody tr th:only-of-type {\n",
              "        vertical-align: middle;\n",
              "    }\n",
              "\n",
              "    .dataframe tbody tr th {\n",
              "        vertical-align: top;\n",
              "    }\n",
              "\n",
              "    .dataframe thead th {\n",
              "        text-align: right;\n",
              "    }\n",
              "</style>\n",
              "<table border=\"1\" class=\"dataframe\">\n",
              "  <thead>\n",
              "    <tr style=\"text-align: right;\">\n",
              "      <th></th>\n",
              "      <th>DATE</th>\n",
              "      <th>TMAX</th>\n",
              "      <th>TMIN</th>\n",
              "      <th>HUMIDITY</th>\n",
              "      <th>PRCP</th>\n",
              "      <th>PRESSURE</th>\n",
              "      <th>RAIN</th>\n",
              "    </tr>\n",
              "  </thead>\n",
              "  <tbody>\n",
              "    <tr>\n",
              "      <th>0</th>\n",
              "      <td>2008-07-01</td>\n",
              "      <td>30</td>\n",
              "      <td>26</td>\n",
              "      <td>94</td>\n",
              "      <td>1.6</td>\n",
              "      <td>1001</td>\n",
              "      <td>True</td>\n",
              "    </tr>\n",
              "    <tr>\n",
              "      <th>1</th>\n",
              "      <td>2008-07-02</td>\n",
              "      <td>31</td>\n",
              "      <td>26</td>\n",
              "      <td>93</td>\n",
              "      <td>0.8</td>\n",
              "      <td>1001</td>\n",
              "      <td>True</td>\n",
              "    </tr>\n",
              "    <tr>\n",
              "      <th>2</th>\n",
              "      <td>2008-07-03</td>\n",
              "      <td>29</td>\n",
              "      <td>26</td>\n",
              "      <td>95</td>\n",
              "      <td>0.0</td>\n",
              "      <td>1001</td>\n",
              "      <td>False</td>\n",
              "    </tr>\n",
              "    <tr>\n",
              "      <th>3</th>\n",
              "      <td>2008-07-04</td>\n",
              "      <td>32</td>\n",
              "      <td>26</td>\n",
              "      <td>91</td>\n",
              "      <td>0.0</td>\n",
              "      <td>1001</td>\n",
              "      <td>False</td>\n",
              "    </tr>\n",
              "    <tr>\n",
              "      <th>4</th>\n",
              "      <td>2008-07-05</td>\n",
              "      <td>31</td>\n",
              "      <td>26</td>\n",
              "      <td>93</td>\n",
              "      <td>0.0</td>\n",
              "      <td>1000</td>\n",
              "      <td>False</td>\n",
              "    </tr>\n",
              "    <tr>\n",
              "      <th>...</th>\n",
              "      <td>...</td>\n",
              "      <td>...</td>\n",
              "      <td>...</td>\n",
              "      <td>...</td>\n",
              "      <td>...</td>\n",
              "      <td>...</td>\n",
              "      <td>...</td>\n",
              "    </tr>\n",
              "    <tr>\n",
              "      <th>4541</th>\n",
              "      <td>2020-12-06</td>\n",
              "      <td>31</td>\n",
              "      <td>21</td>\n",
              "      <td>50</td>\n",
              "      <td>0.0</td>\n",
              "      <td>1014</td>\n",
              "      <td>False</td>\n",
              "    </tr>\n",
              "    <tr>\n",
              "      <th>4542</th>\n",
              "      <td>2020-12-07</td>\n",
              "      <td>29</td>\n",
              "      <td>21</td>\n",
              "      <td>49</td>\n",
              "      <td>0.0</td>\n",
              "      <td>1015</td>\n",
              "      <td>False</td>\n",
              "    </tr>\n",
              "    <tr>\n",
              "      <th>4543</th>\n",
              "      <td>2020-12-08</td>\n",
              "      <td>30</td>\n",
              "      <td>23</td>\n",
              "      <td>51</td>\n",
              "      <td>0.0</td>\n",
              "      <td>1014</td>\n",
              "      <td>False</td>\n",
              "    </tr>\n",
              "    <tr>\n",
              "      <th>4544</th>\n",
              "      <td>2020-12-09</td>\n",
              "      <td>30</td>\n",
              "      <td>22</td>\n",
              "      <td>51</td>\n",
              "      <td>0.0</td>\n",
              "      <td>1013</td>\n",
              "      <td>False</td>\n",
              "    </tr>\n",
              "    <tr>\n",
              "      <th>4545</th>\n",
              "      <td>2020-12-10</td>\n",
              "      <td>29</td>\n",
              "      <td>23</td>\n",
              "      <td>52</td>\n",
              "      <td>0.0</td>\n",
              "      <td>1013</td>\n",
              "      <td>False</td>\n",
              "    </tr>\n",
              "  </tbody>\n",
              "</table>\n",
              "<p>4546 rows × 7 columns</p>\n",
              "</div>"
            ],
            "text/plain": [
              "           DATE  TMAX  TMIN  HUMIDITY  PRCP  PRESSURE   RAIN\n",
              "0    2008-07-01    30    26        94   1.6      1001   True\n",
              "1    2008-07-02    31    26        93   0.8      1001   True\n",
              "2    2008-07-03    29    26        95   0.0      1001  False\n",
              "3    2008-07-04    32    26        91   0.0      1001  False\n",
              "4    2008-07-05    31    26        93   0.0      1000  False\n",
              "...         ...   ...   ...       ...   ...       ...    ...\n",
              "4541 2020-12-06    31    21        50   0.0      1014  False\n",
              "4542 2020-12-07    29    21        49   0.0      1015  False\n",
              "4543 2020-12-08    30    23        51   0.0      1014  False\n",
              "4544 2020-12-09    30    22        51   0.0      1013  False\n",
              "4545 2020-12-10    29    23        52   0.0      1013  False\n",
              "\n",
              "[4546 rows x 7 columns]"
            ]
          },
          "metadata": {
            "tags": []
          },
          "execution_count": 89
        }
      ]
    },
    {
      "cell_type": "markdown",
      "metadata": {
        "id": "3_N8AFAtqF8L"
      },
      "source": [
        "## Add datetime parameters for date column"
      ]
    },
    {
      "cell_type": "code",
      "metadata": {
        "id": "7_O8r5VYp8_0"
      },
      "source": [
        "df_humid[\"Year\"] = df_humid.DATE.dt.year\r\n",
        "df_humid[\"Month\"] = df_humid.DATE.dt.month\r\n",
        "df_humid[\"Day\"] = df_humid.DATE.dt.day"
      ],
      "execution_count": 90,
      "outputs": []
    },
    {
      "cell_type": "code",
      "metadata": {
        "colab": {
          "base_uri": "https://localhost:8080/",
          "height": 343
        },
        "id": "IgORVsyrqiK1",
        "outputId": "d7a07b19-1b8e-4d17-ec2a-b2baa559eced"
      },
      "source": [
        "df_humid.head().T"
      ],
      "execution_count": 91,
      "outputs": [
        {
          "output_type": "execute_result",
          "data": {
            "text/html": [
              "<div>\n",
              "<style scoped>\n",
              "    .dataframe tbody tr th:only-of-type {\n",
              "        vertical-align: middle;\n",
              "    }\n",
              "\n",
              "    .dataframe tbody tr th {\n",
              "        vertical-align: top;\n",
              "    }\n",
              "\n",
              "    .dataframe thead th {\n",
              "        text-align: right;\n",
              "    }\n",
              "</style>\n",
              "<table border=\"1\" class=\"dataframe\">\n",
              "  <thead>\n",
              "    <tr style=\"text-align: right;\">\n",
              "      <th></th>\n",
              "      <th>0</th>\n",
              "      <th>1</th>\n",
              "      <th>2</th>\n",
              "      <th>3</th>\n",
              "      <th>4</th>\n",
              "    </tr>\n",
              "  </thead>\n",
              "  <tbody>\n",
              "    <tr>\n",
              "      <th>DATE</th>\n",
              "      <td>2008-07-01 00:00:00</td>\n",
              "      <td>2008-07-02 00:00:00</td>\n",
              "      <td>2008-07-03 00:00:00</td>\n",
              "      <td>2008-07-04 00:00:00</td>\n",
              "      <td>2008-07-05 00:00:00</td>\n",
              "    </tr>\n",
              "    <tr>\n",
              "      <th>TMAX</th>\n",
              "      <td>30</td>\n",
              "      <td>31</td>\n",
              "      <td>29</td>\n",
              "      <td>32</td>\n",
              "      <td>31</td>\n",
              "    </tr>\n",
              "    <tr>\n",
              "      <th>TMIN</th>\n",
              "      <td>26</td>\n",
              "      <td>26</td>\n",
              "      <td>26</td>\n",
              "      <td>26</td>\n",
              "      <td>26</td>\n",
              "    </tr>\n",
              "    <tr>\n",
              "      <th>HUMIDITY</th>\n",
              "      <td>94</td>\n",
              "      <td>93</td>\n",
              "      <td>95</td>\n",
              "      <td>91</td>\n",
              "      <td>93</td>\n",
              "    </tr>\n",
              "    <tr>\n",
              "      <th>PRCP</th>\n",
              "      <td>1.6</td>\n",
              "      <td>0.8</td>\n",
              "      <td>0</td>\n",
              "      <td>0</td>\n",
              "      <td>0</td>\n",
              "    </tr>\n",
              "    <tr>\n",
              "      <th>PRESSURE</th>\n",
              "      <td>1001</td>\n",
              "      <td>1001</td>\n",
              "      <td>1001</td>\n",
              "      <td>1001</td>\n",
              "      <td>1000</td>\n",
              "    </tr>\n",
              "    <tr>\n",
              "      <th>RAIN</th>\n",
              "      <td>True</td>\n",
              "      <td>True</td>\n",
              "      <td>False</td>\n",
              "      <td>False</td>\n",
              "      <td>False</td>\n",
              "    </tr>\n",
              "    <tr>\n",
              "      <th>Year</th>\n",
              "      <td>2008</td>\n",
              "      <td>2008</td>\n",
              "      <td>2008</td>\n",
              "      <td>2008</td>\n",
              "      <td>2008</td>\n",
              "    </tr>\n",
              "    <tr>\n",
              "      <th>Month</th>\n",
              "      <td>7</td>\n",
              "      <td>7</td>\n",
              "      <td>7</td>\n",
              "      <td>7</td>\n",
              "      <td>7</td>\n",
              "    </tr>\n",
              "    <tr>\n",
              "      <th>Day</th>\n",
              "      <td>1</td>\n",
              "      <td>2</td>\n",
              "      <td>3</td>\n",
              "      <td>4</td>\n",
              "      <td>5</td>\n",
              "    </tr>\n",
              "  </tbody>\n",
              "</table>\n",
              "</div>"
            ],
            "text/plain": [
              "                            0  ...                    4\n",
              "DATE      2008-07-01 00:00:00  ...  2008-07-05 00:00:00\n",
              "TMAX                       30  ...                   31\n",
              "TMIN                       26  ...                   26\n",
              "HUMIDITY                   94  ...                   93\n",
              "PRCP                      1.6  ...                    0\n",
              "PRESSURE                 1001  ...                 1000\n",
              "RAIN                     True  ...                False\n",
              "Year                     2008  ...                 2008\n",
              "Month                       7  ...                    7\n",
              "Day                         1  ...                    5\n",
              "\n",
              "[10 rows x 5 columns]"
            ]
          },
          "metadata": {
            "tags": []
          },
          "execution_count": 91
        }
      ]
    },
    {
      "cell_type": "code",
      "metadata": {
        "colab": {
          "base_uri": "https://localhost:8080/"
        },
        "id": "X5lePiSNqjdq",
        "outputId": "b0487bfe-a40c-4f6f-ebb8-198f3c6a6c40"
      },
      "source": [
        "df_humid.columns"
      ],
      "execution_count": 92,
      "outputs": [
        {
          "output_type": "execute_result",
          "data": {
            "text/plain": [
              "Index(['DATE', 'TMAX', 'TMIN', 'HUMIDITY', 'PRCP', 'PRESSURE', 'RAIN', 'Year',\n",
              "       'Month', 'Day'],\n",
              "      dtype='object')"
            ]
          },
          "metadata": {
            "tags": []
          },
          "execution_count": 92
        }
      ]
    },
    {
      "cell_type": "code",
      "metadata": {
        "id": "KBcXZ4Mvr_Ua"
      },
      "source": [
        "df_humid = df_humid.drop(['DATE', 'TMAX', 'TMIN', 'PRCP', 'PRESSURE', 'RAIN'], axis=1)"
      ],
      "execution_count": 93,
      "outputs": []
    },
    {
      "cell_type": "code",
      "metadata": {
        "colab": {
          "base_uri": "https://localhost:8080/",
          "height": 402
        },
        "id": "g2FjxJBqtzPl",
        "outputId": "8ca85e7d-f224-4a8c-a3fb-f63d39e36091"
      },
      "source": [
        "df_humid"
      ],
      "execution_count": 94,
      "outputs": [
        {
          "output_type": "execute_result",
          "data": {
            "text/html": [
              "<div>\n",
              "<style scoped>\n",
              "    .dataframe tbody tr th:only-of-type {\n",
              "        vertical-align: middle;\n",
              "    }\n",
              "\n",
              "    .dataframe tbody tr th {\n",
              "        vertical-align: top;\n",
              "    }\n",
              "\n",
              "    .dataframe thead th {\n",
              "        text-align: right;\n",
              "    }\n",
              "</style>\n",
              "<table border=\"1\" class=\"dataframe\">\n",
              "  <thead>\n",
              "    <tr style=\"text-align: right;\">\n",
              "      <th></th>\n",
              "      <th>HUMIDITY</th>\n",
              "      <th>Year</th>\n",
              "      <th>Month</th>\n",
              "      <th>Day</th>\n",
              "    </tr>\n",
              "  </thead>\n",
              "  <tbody>\n",
              "    <tr>\n",
              "      <th>0</th>\n",
              "      <td>94</td>\n",
              "      <td>2008</td>\n",
              "      <td>7</td>\n",
              "      <td>1</td>\n",
              "    </tr>\n",
              "    <tr>\n",
              "      <th>1</th>\n",
              "      <td>93</td>\n",
              "      <td>2008</td>\n",
              "      <td>7</td>\n",
              "      <td>2</td>\n",
              "    </tr>\n",
              "    <tr>\n",
              "      <th>2</th>\n",
              "      <td>95</td>\n",
              "      <td>2008</td>\n",
              "      <td>7</td>\n",
              "      <td>3</td>\n",
              "    </tr>\n",
              "    <tr>\n",
              "      <th>3</th>\n",
              "      <td>91</td>\n",
              "      <td>2008</td>\n",
              "      <td>7</td>\n",
              "      <td>4</td>\n",
              "    </tr>\n",
              "    <tr>\n",
              "      <th>4</th>\n",
              "      <td>93</td>\n",
              "      <td>2008</td>\n",
              "      <td>7</td>\n",
              "      <td>5</td>\n",
              "    </tr>\n",
              "    <tr>\n",
              "      <th>...</th>\n",
              "      <td>...</td>\n",
              "      <td>...</td>\n",
              "      <td>...</td>\n",
              "      <td>...</td>\n",
              "    </tr>\n",
              "    <tr>\n",
              "      <th>4541</th>\n",
              "      <td>50</td>\n",
              "      <td>2020</td>\n",
              "      <td>12</td>\n",
              "      <td>6</td>\n",
              "    </tr>\n",
              "    <tr>\n",
              "      <th>4542</th>\n",
              "      <td>49</td>\n",
              "      <td>2020</td>\n",
              "      <td>12</td>\n",
              "      <td>7</td>\n",
              "    </tr>\n",
              "    <tr>\n",
              "      <th>4543</th>\n",
              "      <td>51</td>\n",
              "      <td>2020</td>\n",
              "      <td>12</td>\n",
              "      <td>8</td>\n",
              "    </tr>\n",
              "    <tr>\n",
              "      <th>4544</th>\n",
              "      <td>51</td>\n",
              "      <td>2020</td>\n",
              "      <td>12</td>\n",
              "      <td>9</td>\n",
              "    </tr>\n",
              "    <tr>\n",
              "      <th>4545</th>\n",
              "      <td>52</td>\n",
              "      <td>2020</td>\n",
              "      <td>12</td>\n",
              "      <td>10</td>\n",
              "    </tr>\n",
              "  </tbody>\n",
              "</table>\n",
              "<p>4546 rows × 4 columns</p>\n",
              "</div>"
            ],
            "text/plain": [
              "      HUMIDITY  Year  Month  Day\n",
              "0           94  2008      7    1\n",
              "1           93  2008      7    2\n",
              "2           95  2008      7    3\n",
              "3           91  2008      7    4\n",
              "4           93  2008      7    5\n",
              "...        ...   ...    ...  ...\n",
              "4541        50  2020     12    6\n",
              "4542        49  2020     12    7\n",
              "4543        51  2020     12    8\n",
              "4544        51  2020     12    9\n",
              "4545        52  2020     12   10\n",
              "\n",
              "[4546 rows x 4 columns]"
            ]
          },
          "metadata": {
            "tags": []
          },
          "execution_count": 94
        }
      ]
    },
    {
      "cell_type": "markdown",
      "metadata": {
        "id": "zYcRxa9huYAb"
      },
      "source": [
        "# Model Creation"
      ]
    },
    {
      "cell_type": "code",
      "metadata": {
        "colab": {
          "base_uri": "https://localhost:8080/"
        },
        "id": "oHR7CmtZt5GW",
        "outputId": "d48cff3f-9e8d-47d3-a6ca-590594a8f468"
      },
      "source": [
        "# Let's build a machine learning model\r\n",
        "%%time\r\n",
        "from sklearn.ensemble import RandomForestRegressor\r\n",
        "\r\n",
        "model = RandomForestRegressor(n_jobs=-1,\r\n",
        "                             random_state= 42)\r\n",
        "model.fit(df_humid.drop(\"HUMIDITY\", axis=1), df_humid[\"HUMIDITY\"])"
      ],
      "execution_count": 95,
      "outputs": [
        {
          "output_type": "stream",
          "text": [
            "CPU times: user 916 ms, sys: 37.6 ms, total: 954 ms\n",
            "Wall time: 646 ms\n"
          ],
          "name": "stdout"
        }
      ]
    },
    {
      "cell_type": "code",
      "metadata": {
        "colab": {
          "base_uri": "https://localhost:8080/"
        },
        "id": "RqAPzdM0uafT",
        "outputId": "e95853ee-32e7-4cdb-c36e-f7713d62e784"
      },
      "source": [
        "# Score the model\r\n",
        "model_score= model.score(df_humid.drop(\"HUMIDITY\", axis=1), df_humid[\"HUMIDITY\"])\r\n",
        "print(f'Model score is:  {model_score*100:.2f}')"
      ],
      "execution_count": 96,
      "outputs": [
        {
          "output_type": "stream",
          "text": [
            "Model score is:  98.60\n"
          ],
          "name": "stdout"
        }
      ]
    },
    {
      "cell_type": "code",
      "metadata": {
        "colab": {
          "base_uri": "https://localhost:8080/"
        },
        "id": "yDtJb306uwVR",
        "outputId": "0fdd0e19-8094-43d4-d8ed-177e926be27e"
      },
      "source": [
        "# Split data into train and validation\r\n",
        "df_val = df_humid[df_humid.Year == 2008 ]\r\n",
        "df_train = df_humid[df_humid.Year != 2008]\r\n",
        "\r\n",
        "len(df_val), len(df_train)"
      ],
      "execution_count": 97,
      "outputs": [
        {
          "output_type": "execute_result",
          "data": {
            "text/plain": [
              "(184, 4362)"
            ]
          },
          "metadata": {
            "tags": []
          },
          "execution_count": 97
        }
      ]
    },
    {
      "cell_type": "code",
      "metadata": {
        "colab": {
          "base_uri": "https://localhost:8080/"
        },
        "id": "4gsDDYtSu90f",
        "outputId": "d4dd9f8c-c6c6-492d-8368-4aa229fa1535"
      },
      "source": [
        "# Splitting data into X and y\r\n",
        "X_train, y_train = df_train.drop(\"HUMIDITY\", axis=1), df_train.HUMIDITY\r\n",
        "X_valid, y_valid = df_val.drop(\"HUMIDITY\", axis=1), df_val.HUMIDITY\r\n",
        "\r\n",
        "X_train.shape, y_train.shape, X_valid.shape, y_valid.shape"
      ],
      "execution_count": 98,
      "outputs": [
        {
          "output_type": "execute_result",
          "data": {
            "text/plain": [
              "((4362, 3), (4362,), (184, 3), (184,))"
            ]
          },
          "metadata": {
            "tags": []
          },
          "execution_count": 98
        }
      ]
    },
    {
      "cell_type": "markdown",
      "metadata": {
        "id": "5_34KnHIvNVm"
      },
      "source": [
        "### Building an evaluation function"
      ]
    },
    {
      "cell_type": "code",
      "metadata": {
        "id": "ceFQOULGvH_2"
      },
      "source": [
        "# Create evaluation function (the competition uses RMSLE)\r\n",
        "from sklearn.metrics import mean_squared_log_error, mean_absolute_error, r2_score\r\n",
        "\r\n",
        "def rmsle(y_test, y_preds):\r\n",
        "    \"\"\"\r\n",
        "    Calculates root mean squared log error between prediction and true labels\r\n",
        "    \"\"\"\r\n",
        "    return np.sqrt(mean_squared_log_error(y_test, y_preds))\r\n",
        "\r\n",
        "# Create function to evaluate model on a few different Levels\r\n",
        "def show_score(model):\r\n",
        "    train_preds = model.predict(X_train)\r\n",
        "    val_preds = model.predict(X_valid)\r\n",
        "    scores = {\"Training MAE\": mean_absolute_error(y_train, train_preds),\r\n",
        "              \"Valid MAE\": mean_absolute_error(y_valid, val_preds),\r\n",
        "              \"Training RMSLE\": rmsle(y_train, train_preds),\r\n",
        "              \"Valid RMSLE\": rmsle(y_valid, val_preds),\r\n",
        "              \"Training R^2-Score\": r2_score(y_train, train_preds),\r\n",
        "              \"Valid R^2-Score\": r2_score(y_valid, val_preds)}\r\n",
        "    return scores"
      ],
      "execution_count": 99,
      "outputs": []
    },
    {
      "cell_type": "code",
      "metadata": {
        "colab": {
          "base_uri": "https://localhost:8080/"
        },
        "id": "NnJYKDW0vR9-",
        "outputId": "60e4ea72-0230-4cb6-cfb5-ae82816c7b4a"
      },
      "source": [
        "# Because the length of the X_train is really high\r\n",
        "\r\n",
        "print(f'Length of the X_train set: {len(X_train)}')"
      ],
      "execution_count": 100,
      "outputs": [
        {
          "output_type": "stream",
          "text": [
            "Length of the X_train set: 4362\n"
          ],
          "name": "stdout"
        }
      ]
    },
    {
      "cell_type": "code",
      "metadata": {
        "id": "AjigkpQpvXBh"
      },
      "source": [
        "\r\n",
        "# Change max_samples value to make the process faster.\r\n",
        "model = RandomForestRegressor(n_jobs=-1,\r\n",
        "                             random_state=42,\r\n",
        "                             max_samples=1000)"
      ],
      "execution_count": 101,
      "outputs": []
    },
    {
      "cell_type": "code",
      "metadata": {
        "colab": {
          "base_uri": "https://localhost:8080/"
        },
        "id": "Sobz1B7gvd5L",
        "outputId": "75f73eee-c0d2-4ef4-9a3c-641ac6153a63"
      },
      "source": [
        "%%time\r\n",
        "\r\n",
        "# Cutting down on the maxx number of samples each estimator can see improves training time\r\n",
        "model.fit(X_train, y_train)"
      ],
      "execution_count": 102,
      "outputs": [
        {
          "output_type": "stream",
          "text": [
            "CPU times: user 419 ms, sys: 32.7 ms, total: 452 ms\n",
            "Wall time: 366 ms\n"
          ],
          "name": "stdout"
        },
        {
          "output_type": "execute_result",
          "data": {
            "text/plain": [
              "RandomForestRegressor(bootstrap=True, ccp_alpha=0.0, criterion='mse',\n",
              "                      max_depth=None, max_features='auto', max_leaf_nodes=None,\n",
              "                      max_samples=1000, min_impurity_decrease=0.0,\n",
              "                      min_impurity_split=None, min_samples_leaf=1,\n",
              "                      min_samples_split=2, min_weight_fraction_leaf=0.0,\n",
              "                      n_estimators=100, n_jobs=-1, oob_score=False,\n",
              "                      random_state=42, verbose=0, warm_start=False)"
            ]
          },
          "metadata": {
            "tags": []
          },
          "execution_count": 102
        }
      ]
    },
    {
      "cell_type": "code",
      "metadata": {
        "colab": {
          "base_uri": "https://localhost:8080/"
        },
        "id": "AFhgZ4QevhMH",
        "outputId": "2abd23e8-7248-4675-9678-5a32cf54989a"
      },
      "source": [
        "print(f'the model is {(X_train.shape[0]) * 100 / 1000000} times faster')"
      ],
      "execution_count": 103,
      "outputs": [
        {
          "output_type": "stream",
          "text": [
            "the model is 0.4362 times faster\n"
          ],
          "name": "stdout"
        }
      ]
    },
    {
      "cell_type": "code",
      "metadata": {
        "colab": {
          "base_uri": "https://localhost:8080/"
        },
        "id": "gRBwHjRtvk_z",
        "outputId": "5b8e5c86-37f5-40e7-c45b-dbf318f89a0c"
      },
      "source": [
        "%%time\r\n",
        "\r\n",
        "# Model with ideal hyperparameter tuning\r\n",
        "\r\n",
        "ideal_model_humid = RandomForestRegressor(n_estimators=40,\r\n",
        "                                   min_samples_leaf=1,\r\n",
        "                                   min_samples_split=14,\r\n",
        "                                   max_features=0.5,\r\n",
        "                                   n_jobs=-1,\r\n",
        "                                   max_samples=None,\r\n",
        "                                   random_state=42)\r\n",
        "\r\n",
        "# Fit the model\r\n",
        "ideal_model_humid.fit(X_train, y_train)"
      ],
      "execution_count": 104,
      "outputs": [
        {
          "output_type": "stream",
          "text": [
            "CPU times: user 154 ms, sys: 13 ms, total: 167 ms\n",
            "Wall time: 127 ms\n"
          ],
          "name": "stdout"
        }
      ]
    },
    {
      "cell_type": "code",
      "metadata": {
        "colab": {
          "base_uri": "https://localhost:8080/"
        },
        "id": "Qq2y40H0vp5h",
        "outputId": "8fee9df7-dee7-400c-8d0d-875b53371af3"
      },
      "source": [
        "# Score for idea_model (trained on all the data)\r\n",
        "show_score(ideal_model_humid)"
      ],
      "execution_count": 105,
      "outputs": [
        {
          "output_type": "execute_result",
          "data": {
            "text/plain": [
              "{'Training MAE': 4.379102959872693,\n",
              " 'Training RMSLE': 0.10845999779802659,\n",
              " 'Training R^2-Score': 0.8578208534749614,\n",
              " 'Valid MAE': 4.632858872608644,\n",
              " 'Valid RMSLE': 0.06484852597549501,\n",
              " 'Valid R^2-Score': 0.6007873551698576}"
            ]
          },
          "metadata": {
            "tags": []
          },
          "execution_count": 105
        }
      ]
    },
    {
      "cell_type": "markdown",
      "metadata": {
        "id": "yVharwQIv6f8"
      },
      "source": [
        "### Make Prediction on test data"
      ]
    },
    {
      "cell_type": "code",
      "metadata": {
        "id": "vQYZouaSvvhg"
      },
      "source": [
        "test_preds_humid = ideal_model_humid.predict(X_valid)"
      ],
      "execution_count": 106,
      "outputs": []
    },
    {
      "cell_type": "code",
      "metadata": {
        "colab": {
          "base_uri": "https://localhost:8080/"
        },
        "id": "2PrO4CZkwABu",
        "outputId": "79dc5a10-9aa6-44be-da02-0b6f310868db"
      },
      "source": [
        "test_preds_humid"
      ],
      "execution_count": 107,
      "outputs": [
        {
          "output_type": "execute_result",
          "data": {
            "text/plain": [
              "array([83.52956597, 85.81969663, 86.82911423, 88.34798251, 88.15784563,\n",
              "       88.61091235, 87.77570987, 87.42371444, 87.84636266, 86.43266066,\n",
              "       86.1951946 , 86.16819472, 85.58246894, 87.93026259, 88.26019349,\n",
              "       88.99593602, 88.35616667, 88.06020377, 87.51173539, 86.98345151,\n",
              "       87.9531751 , 88.54347283, 88.23256852, 87.61151418, 86.77454748,\n",
              "       86.15504737, 86.11530573, 86.87248876, 85.52550209, 85.84431461,\n",
              "       84.49042546, 83.77317877, 86.30091384, 87.2163061 , 88.74548399,\n",
              "       88.55534711, 88.99254261, 88.23493701, 87.88294158, 88.32940924,\n",
              "       87.35532681, 87.18313853, 87.24173927, 87.00985527, 89.31289281,\n",
              "       89.66549416, 90.67535228, 90.12787689, 89.7836997 , 89.16258022,\n",
              "       88.76912791, 89.77431496, 89.95175968, 89.67312033, 88.99013417,\n",
              "       87.70314926, 86.79923311, 86.68097866, 87.27887953, 85.59879543,\n",
              "       85.87087184, 84.51094102, 83.63015138, 85.89847144, 87.14903616,\n",
              "       88.60194652, 88.30686459, 88.8928322 , 88.19436122, 87.84236578,\n",
              "       88.23201526, 86.98779304, 86.73605931, 86.48594209, 86.25200383,\n",
              "       88.58000665, 89.13409474, 89.80761472, 89.63141909, 89.33137659,\n",
              "       88.71006913, 88.39751365, 89.68477589, 90.03456136, 89.61092201,\n",
              "       88.91424187, 87.67919148, 86.83829585, 86.25097089, 87.26917624,\n",
              "       85.17488445, 85.25367246, 83.75508444, 86.29579094, 87.60678133,\n",
              "       88.6689362 , 88.64534694, 89.28667512, 88.37101397, 87.86433103,\n",
              "       87.95740277, 85.66009435, 85.14502728, 84.93718412, 84.65435697,\n",
              "       86.66047624, 86.82893812, 86.24564097, 86.89121063, 86.36870552,\n",
              "       84.86928381, 84.78141981, 85.53112288, 86.21739055, 84.97094724,\n",
              "       82.92350405, 81.28023374, 81.24306981, 80.8285793 , 81.67989246,\n",
              "       82.02999324, 82.46003125, 81.767344  , 78.99087159, 80.0657255 ,\n",
              "       79.24877306, 80.83167283, 80.41462509, 79.86379018, 78.09282913,\n",
              "       76.7410707 , 75.9154718 , 75.23957581, 73.75917826, 74.0987139 ,\n",
              "       74.33990515, 74.38391607, 74.47493789, 75.55124902, 76.51858535,\n",
              "       75.40884791, 74.32165273, 73.56019712, 71.24345886, 70.61909835,\n",
              "       72.32483506, 70.57510673, 70.77674059, 71.54297169, 69.63008476,\n",
              "       70.70042827, 73.30998137, 73.17831319, 70.47236523, 71.16830473,\n",
              "       69.86267819, 71.0990936 , 71.20551866, 71.54732422, 70.31374684,\n",
              "       70.07799381, 68.79002627, 69.35622631, 68.47300363, 68.18029099,\n",
              "       67.97101973, 67.90867426, 68.04290337, 67.49586486, 67.04371298,\n",
              "       67.23963588, 67.11488024, 67.71786792, 66.30046047, 63.9233852 ,\n",
              "       64.36954587, 61.11168504, 61.31902258, 61.66274091, 60.89442725,\n",
              "       64.39664545, 67.7523196 , 67.78154157, 65.85058088])"
            ]
          },
          "metadata": {
            "tags": []
          },
          "execution_count": 107
        }
      ]
    },
    {
      "cell_type": "code",
      "metadata": {
        "colab": {
          "base_uri": "https://localhost:8080/",
          "height": 391
        },
        "id": "2_XBBkLjwDBn",
        "outputId": "931272e9-3ca0-4c3c-fa04-81346a1a6173"
      },
      "source": [
        "\r\n",
        "plt.figure(figsize=(12,6))\r\n",
        "plt.scatter(y_valid, test_preds_humid)"
      ],
      "execution_count": 108,
      "outputs": [
        {
          "output_type": "execute_result",
          "data": {
            "text/plain": [
              "<matplotlib.collections.PathCollection at 0x7f07d07cfbe0>"
            ]
          },
          "metadata": {
            "tags": []
          },
          "execution_count": 108
        },
        {
          "output_type": "display_data",
          "data": {
            "image/png": "[encoded data removed]",
            "text/plain": [
              "<Figure size 864x432 with 1 Axes>"
            ]
          },
          "metadata": {
            "tags": [],
            "needs_background": "light"
          }
        }
      ]
    },
    {
      "cell_type": "code",
      "metadata": {
        "colab": {
          "base_uri": "https://localhost:8080/",
          "height": 391
        },
        "id": "lxL20D66wI5y",
        "outputId": "4c2be006-9409-4f2e-fb70-32c8d974f67f"
      },
      "source": [
        "#Make a line\r\n",
        "plt.figure(figsize=(12,6))\r\n",
        "plt.scatter(y_valid, test_preds_humid)\r\n",
        "plt.plot(y_valid, y_valid, 'r')"
      ],
      "execution_count": 109,
      "outputs": [
        {
          "output_type": "execute_result",
          "data": {
            "text/plain": [
              "[<matplotlib.lines.Line2D at 0x7f07d079bef0>]"
            ]
          },
          "metadata": {
            "tags": []
          },
          "execution_count": 109
        },
        {
          "output_type": "display_data",
          "data": {
            "image/png": "[encoded data removed]",
            "text/plain": [
              "<Figure size 864x432 with 1 Axes>"
            ]
          },
          "metadata": {
            "tags": [],
            "needs_background": "light"
          }
        }
      ]
    },
    {
      "cell_type": "markdown",
      "metadata": {
        "id": "gfclNptjwYXF"
      },
      "source": [
        "# **Custom Data Predictions**\r\n",
        "\r\n",
        "* We will predict a new HUMIDITY depending upon A new year \r\n",
        "\r\n",
        "\r\n",
        "\r\n",
        "> Put Year, Month and Date below\r\n",
        "\r\n"
      ]
    },
    {
      "cell_type": "code",
      "metadata": {
        "colab": {
          "base_uri": "https://localhost:8080/"
        },
        "id": "h5rScI78wP8e",
        "outputId": "706b9151-5a9e-4216-8ecf-24af536bcd96"
      },
      "source": [
        "# Here 2020 is the year, 12 is the month and 11 is the day of the date\r\n",
        "New_year_to_predict_humid = [[2020,12,11]]\r\n",
        "Custom_humid_preds = ideal_model_humid.predict(New_year_to_predict_humid)\r\n",
        "print(f' Predicted HUMIDITY is:  {Custom_humid_preds[0]:.2f} %')"
      ],
      "execution_count": 110,
      "outputs": [
        {
          "output_type": "stream",
          "text": [
            " Predicted HUMIDITY is:  53.44 %\n"
          ],
          "name": "stdout"
        }
      ]
    },
    {
      "cell_type": "markdown",
      "metadata": {
        "id": "RaMztimTxHio"
      },
      "source": [
        "# Predicting precipitation"
      ]
    },
    {
      "cell_type": "code",
      "metadata": {
        "id": "mjjFgmNewvQD"
      },
      "source": [
        "df_prcp = df.copy()"
      ],
      "execution_count": 111,
      "outputs": []
    },
    {
      "cell_type": "code",
      "metadata": {
        "colab": {
          "base_uri": "https://localhost:8080/",
          "height": 402
        },
        "id": "ralsuKCBzrC1",
        "outputId": "98ecc5b5-782e-47c6-e66e-c8e5eacc0a95"
      },
      "source": [
        "df_prcp"
      ],
      "execution_count": 112,
      "outputs": [
        {
          "output_type": "execute_result",
          "data": {
            "text/html": [
              "<div>\n",
              "<style scoped>\n",
              "    .dataframe tbody tr th:only-of-type {\n",
              "        vertical-align: middle;\n",
              "    }\n",
              "\n",
              "    .dataframe tbody tr th {\n",
              "        vertical-align: top;\n",
              "    }\n",
              "\n",
              "    .dataframe thead th {\n",
              "        text-align: right;\n",
              "    }\n",
              "</style>\n",
              "<table border=\"1\" class=\"dataframe\">\n",
              "  <thead>\n",
              "    <tr style=\"text-align: right;\">\n",
              "      <th></th>\n",
              "      <th>DATE</th>\n",
              "      <th>TMAX</th>\n",
              "      <th>TMIN</th>\n",
              "      <th>HUMIDITY</th>\n",
              "      <th>PRCP</th>\n",
              "      <th>PRESSURE</th>\n",
              "      <th>RAIN</th>\n",
              "    </tr>\n",
              "  </thead>\n",
              "  <tbody>\n",
              "    <tr>\n",
              "      <th>0</th>\n",
              "      <td>2008-07-01</td>\n",
              "      <td>30</td>\n",
              "      <td>26</td>\n",
              "      <td>94</td>\n",
              "      <td>1.6</td>\n",
              "      <td>1001</td>\n",
              "      <td>True</td>\n",
              "    </tr>\n",
              "    <tr>\n",
              "      <th>1</th>\n",
              "      <td>2008-07-02</td>\n",
              "      <td>31</td>\n",
              "      <td>26</td>\n",
              "      <td>93</td>\n",
              "      <td>0.8</td>\n",
              "      <td>1001</td>\n",
              "      <td>True</td>\n",
              "    </tr>\n",
              "    <tr>\n",
              "      <th>2</th>\n",
              "      <td>2008-07-03</td>\n",
              "      <td>29</td>\n",
              "      <td>26</td>\n",
              "      <td>95</td>\n",
              "      <td>0.0</td>\n",
              "      <td>1001</td>\n",
              "      <td>False</td>\n",
              "    </tr>\n",
              "    <tr>\n",
              "      <th>3</th>\n",
              "      <td>2008-07-04</td>\n",
              "      <td>32</td>\n",
              "      <td>26</td>\n",
              "      <td>91</td>\n",
              "      <td>0.0</td>\n",
              "      <td>1001</td>\n",
              "      <td>False</td>\n",
              "    </tr>\n",
              "    <tr>\n",
              "      <th>4</th>\n",
              "      <td>2008-07-05</td>\n",
              "      <td>31</td>\n",
              "      <td>26</td>\n",
              "      <td>93</td>\n",
              "      <td>0.0</td>\n",
              "      <td>1000</td>\n",
              "      <td>False</td>\n",
              "    </tr>\n",
              "    <tr>\n",
              "      <th>...</th>\n",
              "      <td>...</td>\n",
              "      <td>...</td>\n",
              "      <td>...</td>\n",
              "      <td>...</td>\n",
              "      <td>...</td>\n",
              "      <td>...</td>\n",
              "      <td>...</td>\n",
              "    </tr>\n",
              "    <tr>\n",
              "      <th>4541</th>\n",
              "      <td>2020-12-06</td>\n",
              "      <td>31</td>\n",
              "      <td>21</td>\n",
              "      <td>50</td>\n",
              "      <td>0.0</td>\n",
              "      <td>1014</td>\n",
              "      <td>False</td>\n",
              "    </tr>\n",
              "    <tr>\n",
              "      <th>4542</th>\n",
              "      <td>2020-12-07</td>\n",
              "      <td>29</td>\n",
              "      <td>21</td>\n",
              "      <td>49</td>\n",
              "      <td>0.0</td>\n",
              "      <td>1015</td>\n",
              "      <td>False</td>\n",
              "    </tr>\n",
              "    <tr>\n",
              "      <th>4543</th>\n",
              "      <td>2020-12-08</td>\n",
              "      <td>30</td>\n",
              "      <td>23</td>\n",
              "      <td>51</td>\n",
              "      <td>0.0</td>\n",
              "      <td>1014</td>\n",
              "      <td>False</td>\n",
              "    </tr>\n",
              "    <tr>\n",
              "      <th>4544</th>\n",
              "      <td>2020-12-09</td>\n",
              "      <td>30</td>\n",
              "      <td>22</td>\n",
              "      <td>51</td>\n",
              "      <td>0.0</td>\n",
              "      <td>1013</td>\n",
              "      <td>False</td>\n",
              "    </tr>\n",
              "    <tr>\n",
              "      <th>4545</th>\n",
              "      <td>2020-12-10</td>\n",
              "      <td>29</td>\n",
              "      <td>23</td>\n",
              "      <td>52</td>\n",
              "      <td>0.0</td>\n",
              "      <td>1013</td>\n",
              "      <td>False</td>\n",
              "    </tr>\n",
              "  </tbody>\n",
              "</table>\n",
              "<p>4546 rows × 7 columns</p>\n",
              "</div>"
            ],
            "text/plain": [
              "           DATE  TMAX  TMIN  HUMIDITY  PRCP  PRESSURE   RAIN\n",
              "0    2008-07-01    30    26        94   1.6      1001   True\n",
              "1    2008-07-02    31    26        93   0.8      1001   True\n",
              "2    2008-07-03    29    26        95   0.0      1001  False\n",
              "3    2008-07-04    32    26        91   0.0      1001  False\n",
              "4    2008-07-05    31    26        93   0.0      1000  False\n",
              "...         ...   ...   ...       ...   ...       ...    ...\n",
              "4541 2020-12-06    31    21        50   0.0      1014  False\n",
              "4542 2020-12-07    29    21        49   0.0      1015  False\n",
              "4543 2020-12-08    30    23        51   0.0      1014  False\n",
              "4544 2020-12-09    30    22        51   0.0      1013  False\n",
              "4545 2020-12-10    29    23        52   0.0      1013  False\n",
              "\n",
              "[4546 rows x 7 columns]"
            ]
          },
          "metadata": {
            "tags": []
          },
          "execution_count": 112
        }
      ]
    },
    {
      "cell_type": "markdown",
      "metadata": {
        "id": "51v54PD-0J71"
      },
      "source": [
        "## Add datetime parameters for date column"
      ]
    },
    {
      "cell_type": "code",
      "metadata": {
        "id": "6QZFT-sWzsDi"
      },
      "source": [
        "df_prcp[\"Year\"] = df_prcp.DATE.dt.year\r\n",
        "df_prcp[\"Month\"] = df_prcp.DATE.dt.month\r\n",
        "df_prcp[\"Day\"] = df_prcp.DATE.dt.day"
      ],
      "execution_count": 113,
      "outputs": []
    },
    {
      "cell_type": "code",
      "metadata": {
        "colab": {
          "base_uri": "https://localhost:8080/",
          "height": 402
        },
        "id": "goSoCds80Tph",
        "outputId": "c4117f7d-fa3f-4082-ee3e-8f6cf8064f20"
      },
      "source": [
        "df_prcp"
      ],
      "execution_count": 114,
      "outputs": [
        {
          "output_type": "execute_result",
          "data": {
            "text/html": [
              "<div>\n",
              "<style scoped>\n",
              "    .dataframe tbody tr th:only-of-type {\n",
              "        vertical-align: middle;\n",
              "    }\n",
              "\n",
              "    .dataframe tbody tr th {\n",
              "        vertical-align: top;\n",
              "    }\n",
              "\n",
              "    .dataframe thead th {\n",
              "        text-align: right;\n",
              "    }\n",
              "</style>\n",
              "<table border=\"1\" class=\"dataframe\">\n",
              "  <thead>\n",
              "    <tr style=\"text-align: right;\">\n",
              "      <th></th>\n",
              "      <th>DATE</th>\n",
              "      <th>TMAX</th>\n",
              "      <th>TMIN</th>\n",
              "      <th>HUMIDITY</th>\n",
              "      <th>PRCP</th>\n",
              "      <th>PRESSURE</th>\n",
              "      <th>RAIN</th>\n",
              "      <th>Year</th>\n",
              "      <th>Month</th>\n",
              "      <th>Day</th>\n",
              "    </tr>\n",
              "  </thead>\n",
              "  <tbody>\n",
              "    <tr>\n",
              "      <th>0</th>\n",
              "      <td>2008-07-01</td>\n",
              "      <td>30</td>\n",
              "      <td>26</td>\n",
              "      <td>94</td>\n",
              "      <td>1.6</td>\n",
              "      <td>1001</td>\n",
              "      <td>True</td>\n",
              "      <td>2008</td>\n",
              "      <td>7</td>\n",
              "      <td>1</td>\n",
              "    </tr>\n",
              "    <tr>\n",
              "      <th>1</th>\n",
              "      <td>2008-07-02</td>\n",
              "      <td>31</td>\n",
              "      <td>26</td>\n",
              "      <td>93</td>\n",
              "      <td>0.8</td>\n",
              "      <td>1001</td>\n",
              "      <td>True</td>\n",
              "      <td>2008</td>\n",
              "      <td>7</td>\n",
              "      <td>2</td>\n",
              "    </tr>\n",
              "    <tr>\n",
              "      <th>2</th>\n",
              "      <td>2008-07-03</td>\n",
              "      <td>29</td>\n",
              "      <td>26</td>\n",
              "      <td>95</td>\n",
              "      <td>0.0</td>\n",
              "      <td>1001</td>\n",
              "      <td>False</td>\n",
              "      <td>2008</td>\n",
              "      <td>7</td>\n",
              "      <td>3</td>\n",
              "    </tr>\n",
              "    <tr>\n",
              "      <th>3</th>\n",
              "      <td>2008-07-04</td>\n",
              "      <td>32</td>\n",
              "      <td>26</td>\n",
              "      <td>91</td>\n",
              "      <td>0.0</td>\n",
              "      <td>1001</td>\n",
              "      <td>False</td>\n",
              "      <td>2008</td>\n",
              "      <td>7</td>\n",
              "      <td>4</td>\n",
              "    </tr>\n",
              "    <tr>\n",
              "      <th>4</th>\n",
              "      <td>2008-07-05</td>\n",
              "      <td>31</td>\n",
              "      <td>26</td>\n",
              "      <td>93</td>\n",
              "      <td>0.0</td>\n",
              "      <td>1000</td>\n",
              "      <td>False</td>\n",
              "      <td>2008</td>\n",
              "      <td>7</td>\n",
              "      <td>5</td>\n",
              "    </tr>\n",
              "    <tr>\n",
              "      <th>...</th>\n",
              "      <td>...</td>\n",
              "      <td>...</td>\n",
              "      <td>...</td>\n",
              "      <td>...</td>\n",
              "      <td>...</td>\n",
              "      <td>...</td>\n",
              "      <td>...</td>\n",
              "      <td>...</td>\n",
              "      <td>...</td>\n",
              "      <td>...</td>\n",
              "    </tr>\n",
              "    <tr>\n",
              "      <th>4541</th>\n",
              "      <td>2020-12-06</td>\n",
              "      <td>31</td>\n",
              "      <td>21</td>\n",
              "      <td>50</td>\n",
              "      <td>0.0</td>\n",
              "      <td>1014</td>\n",
              "      <td>False</td>\n",
              "      <td>2020</td>\n",
              "      <td>12</td>\n",
              "      <td>6</td>\n",
              "    </tr>\n",
              "    <tr>\n",
              "      <th>4542</th>\n",
              "      <td>2020-12-07</td>\n",
              "      <td>29</td>\n",
              "      <td>21</td>\n",
              "      <td>49</td>\n",
              "      <td>0.0</td>\n",
              "      <td>1015</td>\n",
              "      <td>False</td>\n",
              "      <td>2020</td>\n",
              "      <td>12</td>\n",
              "      <td>7</td>\n",
              "    </tr>\n",
              "    <tr>\n",
              "      <th>4543</th>\n",
              "      <td>2020-12-08</td>\n",
              "      <td>30</td>\n",
              "      <td>23</td>\n",
              "      <td>51</td>\n",
              "      <td>0.0</td>\n",
              "      <td>1014</td>\n",
              "      <td>False</td>\n",
              "      <td>2020</td>\n",
              "      <td>12</td>\n",
              "      <td>8</td>\n",
              "    </tr>\n",
              "    <tr>\n",
              "      <th>4544</th>\n",
              "      <td>2020-12-09</td>\n",
              "      <td>30</td>\n",
              "      <td>22</td>\n",
              "      <td>51</td>\n",
              "      <td>0.0</td>\n",
              "      <td>1013</td>\n",
              "      <td>False</td>\n",
              "      <td>2020</td>\n",
              "      <td>12</td>\n",
              "      <td>9</td>\n",
              "    </tr>\n",
              "    <tr>\n",
              "      <th>4545</th>\n",
              "      <td>2020-12-10</td>\n",
              "      <td>29</td>\n",
              "      <td>23</td>\n",
              "      <td>52</td>\n",
              "      <td>0.0</td>\n",
              "      <td>1013</td>\n",
              "      <td>False</td>\n",
              "      <td>2020</td>\n",
              "      <td>12</td>\n",
              "      <td>10</td>\n",
              "    </tr>\n",
              "  </tbody>\n",
              "</table>\n",
              "<p>4546 rows × 10 columns</p>\n",
              "</div>"
            ],
            "text/plain": [
              "           DATE  TMAX  TMIN  HUMIDITY  PRCP  PRESSURE   RAIN  Year  Month  Day\n",
              "0    2008-07-01    30    26        94   1.6      1001   True  2008      7    1\n",
              "1    2008-07-02    31    26        93   0.8      1001   True  2008      7    2\n",
              "2    2008-07-03    29    26        95   0.0      1001  False  2008      7    3\n",
              "3    2008-07-04    32    26        91   0.0      1001  False  2008      7    4\n",
              "4    2008-07-05    31    26        93   0.0      1000  False  2008      7    5\n",
              "...         ...   ...   ...       ...   ...       ...    ...   ...    ...  ...\n",
              "4541 2020-12-06    31    21        50   0.0      1014  False  2020     12    6\n",
              "4542 2020-12-07    29    21        49   0.0      1015  False  2020     12    7\n",
              "4543 2020-12-08    30    23        51   0.0      1014  False  2020     12    8\n",
              "4544 2020-12-09    30    22        51   0.0      1013  False  2020     12    9\n",
              "4545 2020-12-10    29    23        52   0.0      1013  False  2020     12   10\n",
              "\n",
              "[4546 rows x 10 columns]"
            ]
          },
          "metadata": {
            "tags": []
          },
          "execution_count": 114
        }
      ]
    },
    {
      "cell_type": "code",
      "metadata": {
        "colab": {
          "base_uri": "https://localhost:8080/"
        },
        "id": "KcuLqg1r0Vra",
        "outputId": "df78e3f5-3141-4878-e62a-7dd03709b5be"
      },
      "source": [
        "df_prcp.columns"
      ],
      "execution_count": 115,
      "outputs": [
        {
          "output_type": "execute_result",
          "data": {
            "text/plain": [
              "Index(['DATE', 'TMAX', 'TMIN', 'HUMIDITY', 'PRCP', 'PRESSURE', 'RAIN', 'Year',\n",
              "       'Month', 'Day'],\n",
              "      dtype='object')"
            ]
          },
          "metadata": {
            "tags": []
          },
          "execution_count": 115
        }
      ]
    },
    {
      "cell_type": "code",
      "metadata": {
        "id": "wpx--srR0cQC"
      },
      "source": [
        "df_prcp = df_prcp.drop(['DATE', 'PRESSURE', 'RAIN'], axis=1)"
      ],
      "execution_count": 116,
      "outputs": []
    },
    {
      "cell_type": "code",
      "metadata": {
        "colab": {
          "base_uri": "https://localhost:8080/",
          "height": 402
        },
        "id": "8Z8JLFJr0jzk",
        "outputId": "70bc5bcf-1788-4384-8b28-d2b4c826169f"
      },
      "source": [
        "df_prcp"
      ],
      "execution_count": 117,
      "outputs": [
        {
          "output_type": "execute_result",
          "data": {
            "text/html": [
              "<div>\n",
              "<style scoped>\n",
              "    .dataframe tbody tr th:only-of-type {\n",
              "        vertical-align: middle;\n",
              "    }\n",
              "\n",
              "    .dataframe tbody tr th {\n",
              "        vertical-align: top;\n",
              "    }\n",
              "\n",
              "    .dataframe thead th {\n",
              "        text-align: right;\n",
              "    }\n",
              "</style>\n",
              "<table border=\"1\" class=\"dataframe\">\n",
              "  <thead>\n",
              "    <tr style=\"text-align: right;\">\n",
              "      <th></th>\n",
              "      <th>TMAX</th>\n",
              "      <th>TMIN</th>\n",
              "      <th>HUMIDITY</th>\n",
              "      <th>PRCP</th>\n",
              "      <th>Year</th>\n",
              "      <th>Month</th>\n",
              "      <th>Day</th>\n",
              "    </tr>\n",
              "  </thead>\n",
              "  <tbody>\n",
              "    <tr>\n",
              "      <th>0</th>\n",
              "      <td>30</td>\n",
              "      <td>26</td>\n",
              "      <td>94</td>\n",
              "      <td>1.6</td>\n",
              "      <td>2008</td>\n",
              "      <td>7</td>\n",
              "      <td>1</td>\n",
              "    </tr>\n",
              "    <tr>\n",
              "      <th>1</th>\n",
              "      <td>31</td>\n",
              "      <td>26</td>\n",
              "      <td>93</td>\n",
              "      <td>0.8</td>\n",
              "      <td>2008</td>\n",
              "      <td>7</td>\n",
              "      <td>2</td>\n",
              "    </tr>\n",
              "    <tr>\n",
              "      <th>2</th>\n",
              "      <td>29</td>\n",
              "      <td>26</td>\n",
              "      <td>95</td>\n",
              "      <td>0.0</td>\n",
              "      <td>2008</td>\n",
              "      <td>7</td>\n",
              "      <td>3</td>\n",
              "    </tr>\n",
              "    <tr>\n",
              "      <th>3</th>\n",
              "      <td>32</td>\n",
              "      <td>26</td>\n",
              "      <td>91</td>\n",
              "      <td>0.0</td>\n",
              "      <td>2008</td>\n",
              "      <td>7</td>\n",
              "      <td>4</td>\n",
              "    </tr>\n",
              "    <tr>\n",
              "      <th>4</th>\n",
              "      <td>31</td>\n",
              "      <td>26</td>\n",
              "      <td>93</td>\n",
              "      <td>0.0</td>\n",
              "      <td>2008</td>\n",
              "      <td>7</td>\n",
              "      <td>5</td>\n",
              "    </tr>\n",
              "    <tr>\n",
              "      <th>...</th>\n",
              "      <td>...</td>\n",
              "      <td>...</td>\n",
              "      <td>...</td>\n",
              "      <td>...</td>\n",
              "      <td>...</td>\n",
              "      <td>...</td>\n",
              "      <td>...</td>\n",
              "    </tr>\n",
              "    <tr>\n",
              "      <th>4541</th>\n",
              "      <td>31</td>\n",
              "      <td>21</td>\n",
              "      <td>50</td>\n",
              "      <td>0.0</td>\n",
              "      <td>2020</td>\n",
              "      <td>12</td>\n",
              "      <td>6</td>\n",
              "    </tr>\n",
              "    <tr>\n",
              "      <th>4542</th>\n",
              "      <td>29</td>\n",
              "      <td>21</td>\n",
              "      <td>49</td>\n",
              "      <td>0.0</td>\n",
              "      <td>2020</td>\n",
              "      <td>12</td>\n",
              "      <td>7</td>\n",
              "    </tr>\n",
              "    <tr>\n",
              "      <th>4543</th>\n",
              "      <td>30</td>\n",
              "      <td>23</td>\n",
              "      <td>51</td>\n",
              "      <td>0.0</td>\n",
              "      <td>2020</td>\n",
              "      <td>12</td>\n",
              "      <td>8</td>\n",
              "    </tr>\n",
              "    <tr>\n",
              "      <th>4544</th>\n",
              "      <td>30</td>\n",
              "      <td>22</td>\n",
              "      <td>51</td>\n",
              "      <td>0.0</td>\n",
              "      <td>2020</td>\n",
              "      <td>12</td>\n",
              "      <td>9</td>\n",
              "    </tr>\n",
              "    <tr>\n",
              "      <th>4545</th>\n",
              "      <td>29</td>\n",
              "      <td>23</td>\n",
              "      <td>52</td>\n",
              "      <td>0.0</td>\n",
              "      <td>2020</td>\n",
              "      <td>12</td>\n",
              "      <td>10</td>\n",
              "    </tr>\n",
              "  </tbody>\n",
              "</table>\n",
              "<p>4546 rows × 7 columns</p>\n",
              "</div>"
            ],
            "text/plain": [
              "      TMAX  TMIN  HUMIDITY  PRCP  Year  Month  Day\n",
              "0       30    26        94   1.6  2008      7    1\n",
              "1       31    26        93   0.8  2008      7    2\n",
              "2       29    26        95   0.0  2008      7    3\n",
              "3       32    26        91   0.0  2008      7    4\n",
              "4       31    26        93   0.0  2008      7    5\n",
              "...    ...   ...       ...   ...   ...    ...  ...\n",
              "4541    31    21        50   0.0  2020     12    6\n",
              "4542    29    21        49   0.0  2020     12    7\n",
              "4543    30    23        51   0.0  2020     12    8\n",
              "4544    30    22        51   0.0  2020     12    9\n",
              "4545    29    23        52   0.0  2020     12   10\n",
              "\n",
              "[4546 rows x 7 columns]"
            ]
          },
          "metadata": {
            "tags": []
          },
          "execution_count": 117
        }
      ]
    },
    {
      "cell_type": "markdown",
      "metadata": {
        "id": "Mc3aVdmW1LzC"
      },
      "source": [
        "Lets reformat colums to make it look good"
      ]
    },
    {
      "cell_type": "code",
      "metadata": {
        "colab": {
          "base_uri": "https://localhost:8080/",
          "height": 195
        },
        "id": "-fdq1nLQ0zGt",
        "outputId": "561492df-f887-4e66-8c6b-e15592e39f2f"
      },
      "source": [
        "#now 'age' will appear at the end of our df\r\n",
        "df_prcp_ref = df_prcp[['Day','Month','Year','TMAX','TMIN','HUMIDITY','PRCP']]\r\n",
        "df_prcp_ref.head()"
      ],
      "execution_count": 118,
      "outputs": [
        {
          "output_type": "execute_result",
          "data": {
            "text/html": [
              "<div>\n",
              "<style scoped>\n",
              "    .dataframe tbody tr th:only-of-type {\n",
              "        vertical-align: middle;\n",
              "    }\n",
              "\n",
              "    .dataframe tbody tr th {\n",
              "        vertical-align: top;\n",
              "    }\n",
              "\n",
              "    .dataframe thead th {\n",
              "        text-align: right;\n",
              "    }\n",
              "</style>\n",
              "<table border=\"1\" class=\"dataframe\">\n",
              "  <thead>\n",
              "    <tr style=\"text-align: right;\">\n",
              "      <th></th>\n",
              "      <th>Day</th>\n",
              "      <th>Month</th>\n",
              "      <th>Year</th>\n",
              "      <th>TMAX</th>\n",
              "      <th>TMIN</th>\n",
              "      <th>HUMIDITY</th>\n",
              "      <th>PRCP</th>\n",
              "    </tr>\n",
              "  </thead>\n",
              "  <tbody>\n",
              "    <tr>\n",
              "      <th>0</th>\n",
              "      <td>1</td>\n",
              "      <td>7</td>\n",
              "      <td>2008</td>\n",
              "      <td>30</td>\n",
              "      <td>26</td>\n",
              "      <td>94</td>\n",
              "      <td>1.6</td>\n",
              "    </tr>\n",
              "    <tr>\n",
              "      <th>1</th>\n",
              "      <td>2</td>\n",
              "      <td>7</td>\n",
              "      <td>2008</td>\n",
              "      <td>31</td>\n",
              "      <td>26</td>\n",
              "      <td>93</td>\n",
              "      <td>0.8</td>\n",
              "    </tr>\n",
              "    <tr>\n",
              "      <th>2</th>\n",
              "      <td>3</td>\n",
              "      <td>7</td>\n",
              "      <td>2008</td>\n",
              "      <td>29</td>\n",
              "      <td>26</td>\n",
              "      <td>95</td>\n",
              "      <td>0.0</td>\n",
              "    </tr>\n",
              "    <tr>\n",
              "      <th>3</th>\n",
              "      <td>4</td>\n",
              "      <td>7</td>\n",
              "      <td>2008</td>\n",
              "      <td>32</td>\n",
              "      <td>26</td>\n",
              "      <td>91</td>\n",
              "      <td>0.0</td>\n",
              "    </tr>\n",
              "    <tr>\n",
              "      <th>4</th>\n",
              "      <td>5</td>\n",
              "      <td>7</td>\n",
              "      <td>2008</td>\n",
              "      <td>31</td>\n",
              "      <td>26</td>\n",
              "      <td>93</td>\n",
              "      <td>0.0</td>\n",
              "    </tr>\n",
              "  </tbody>\n",
              "</table>\n",
              "</div>"
            ],
            "text/plain": [
              "   Day  Month  Year  TMAX  TMIN  HUMIDITY  PRCP\n",
              "0    1      7  2008    30    26        94   1.6\n",
              "1    2      7  2008    31    26        93   0.8\n",
              "2    3      7  2008    29    26        95   0.0\n",
              "3    4      7  2008    32    26        91   0.0\n",
              "4    5      7  2008    31    26        93   0.0"
            ]
          },
          "metadata": {
            "tags": []
          },
          "execution_count": 118
        }
      ]
    },
    {
      "cell_type": "markdown",
      "metadata": {
        "id": "fxjTTt3S1y1f"
      },
      "source": [
        "# Model Creation"
      ]
    },
    {
      "cell_type": "code",
      "metadata": {
        "colab": {
          "base_uri": "https://localhost:8080/"
        },
        "id": "AJvCgyyn1lnS",
        "outputId": "76cca5a4-15ec-4073-d88b-ce7df50c4ee0"
      },
      "source": [
        "# Let's build a machine learning model\r\n",
        "%%time\r\n",
        "from sklearn.ensemble import RandomForestRegressor\r\n",
        "\r\n",
        "model = RandomForestRegressor(n_jobs=-1,\r\n",
        "                             random_state= 42)\r\n",
        "model.fit(df_prcp_ref.drop(\"PRCP\", axis=1), df_prcp_ref[\"PRCP\"])"
      ],
      "execution_count": 119,
      "outputs": [
        {
          "output_type": "stream",
          "text": [
            "CPU times: user 1.59 s, sys: 20.7 ms, total: 1.61 s\n",
            "Wall time: 950 ms\n"
          ],
          "name": "stdout"
        }
      ]
    },
    {
      "cell_type": "code",
      "metadata": {
        "colab": {
          "base_uri": "https://localhost:8080/"
        },
        "id": "mTRHYO0w1-Rg",
        "outputId": "296d6428-4e66-4db7-801e-fad67bae99c8"
      },
      "source": [
        "# Score the model\r\n",
        "model_score= model.score(df_prcp_ref.drop(\"PRCP\", axis=1), df_prcp_ref[\"PRCP\"])\r\n",
        "print(f'Model score is:  {model_score*100:.2f}')"
      ],
      "execution_count": 120,
      "outputs": [
        {
          "output_type": "stream",
          "text": [
            "Model score is:  89.97\n"
          ],
          "name": "stdout"
        }
      ]
    },
    {
      "cell_type": "code",
      "metadata": {
        "colab": {
          "base_uri": "https://localhost:8080/"
        },
        "id": "xE3Hr8hc2H9J",
        "outputId": "a0b2ff80-2be0-4356-ac9f-7986aded5348"
      },
      "source": [
        "# Split data into train and validation\r\n",
        "df_val = df_prcp_ref[df_prcp_ref.Year == 2008 ]\r\n",
        "df_train = df_prcp_ref[df_prcp_ref.Year != 2008]\r\n",
        "\r\n",
        "len(df_val), len(df_train)"
      ],
      "execution_count": 121,
      "outputs": [
        {
          "output_type": "execute_result",
          "data": {
            "text/plain": [
              "(184, 4362)"
            ]
          },
          "metadata": {
            "tags": []
          },
          "execution_count": 121
        }
      ]
    },
    {
      "cell_type": "code",
      "metadata": {
        "colab": {
          "base_uri": "https://localhost:8080/"
        },
        "id": "x7PDwpO-2TRR",
        "outputId": "03cfb96e-2011-412e-c638-6e463a3e35a8"
      },
      "source": [
        "# Splitting data into X and y\r\n",
        "X_train, y_train = df_train.drop(\"PRCP\", axis=1), df_train.PRCP\r\n",
        "X_valid, y_valid = df_val.drop(\"PRCP\", axis=1), df_val.PRCP\r\n",
        "\r\n",
        "X_train.shape, y_train.shape, X_valid.shape, y_valid.shape"
      ],
      "execution_count": 122,
      "outputs": [
        {
          "output_type": "execute_result",
          "data": {
            "text/plain": [
              "((4362, 6), (4362,), (184, 6), (184,))"
            ]
          },
          "metadata": {
            "tags": []
          },
          "execution_count": 122
        }
      ]
    },
    {
      "cell_type": "markdown",
      "metadata": {
        "id": "VXtka9pB2hWe"
      },
      "source": [
        "### Building an evaluation function"
      ]
    },
    {
      "cell_type": "code",
      "metadata": {
        "id": "DnAWDUQ92duU"
      },
      "source": [
        "# Create evaluation function (the competition uses RMSLE)\r\n",
        "from sklearn.metrics import mean_squared_log_error, mean_absolute_error, r2_score\r\n",
        "\r\n",
        "def rmsle(y_test, y_preds):\r\n",
        "    \"\"\"\r\n",
        "    Calculates root mean squared log error between prediction and true labels\r\n",
        "    \"\"\"\r\n",
        "    return np.sqrt(mean_squared_log_error(y_test, y_preds))\r\n",
        "\r\n",
        "# Create function to evaluate model on a few different Levels\r\n",
        "def show_score(model):\r\n",
        "    train_preds = model.predict(X_train)\r\n",
        "    val_preds = model.predict(X_valid)\r\n",
        "    scores = {\"Training MAE\": mean_absolute_error(y_train, train_preds),\r\n",
        "              \"Valid MAE\": mean_absolute_error(y_valid, val_preds),\r\n",
        "              \"Training RMSLE\": rmsle(y_train, train_preds),\r\n",
        "              \"Valid RMSLE\": rmsle(y_valid, val_preds),\r\n",
        "              \"Training R^2-Score\": r2_score(y_train, train_preds),\r\n",
        "              \"Valid R^2-Score\": r2_score(y_valid, val_preds)}\r\n",
        "    return scores"
      ],
      "execution_count": 123,
      "outputs": []
    },
    {
      "cell_type": "code",
      "metadata": {
        "colab": {
          "base_uri": "https://localhost:8080/"
        },
        "id": "4DxpHLs52k8W",
        "outputId": "091bb617-9eb4-467c-d9b8-fe4fa93f4bc7"
      },
      "source": [
        "# Because the length of the X_train is really high\r\n",
        "\r\n",
        "print(f'Length of the X_train set: {len(X_train)}')"
      ],
      "execution_count": 124,
      "outputs": [
        {
          "output_type": "stream",
          "text": [
            "Length of the X_train set: 4362\n"
          ],
          "name": "stdout"
        }
      ]
    },
    {
      "cell_type": "code",
      "metadata": {
        "id": "2yyNWCuo2nKR"
      },
      "source": [
        "\r\n",
        "# Change max_samples value to make the process faster.\r\n",
        "model = RandomForestRegressor(n_jobs=-1,\r\n",
        "                             random_state=42,\r\n",
        "                             max_samples=1000)"
      ],
      "execution_count": 125,
      "outputs": []
    },
    {
      "cell_type": "code",
      "metadata": {
        "colab": {
          "base_uri": "https://localhost:8080/"
        },
        "id": "PG3cp4_Z2qJ0",
        "outputId": "e8e916e8-8891-4caf-f2c6-321e2dee7125"
      },
      "source": [
        "%%time\r\n",
        "\r\n",
        "# Cutting down on the maxx number of samples each estimator can see improves training time\r\n",
        "model.fit(X_train, y_train)"
      ],
      "execution_count": 126,
      "outputs": [
        {
          "output_type": "stream",
          "text": [
            "CPU times: user 590 ms, sys: 26.1 ms, total: 616 ms\n",
            "Wall time: 459 ms\n"
          ],
          "name": "stdout"
        },
        {
          "output_type": "execute_result",
          "data": {
            "text/plain": [
              "RandomForestRegressor(bootstrap=True, ccp_alpha=0.0, criterion='mse',\n",
              "                      max_depth=None, max_features='auto', max_leaf_nodes=None,\n",
              "                      max_samples=1000, min_impurity_decrease=0.0,\n",
              "                      min_impurity_split=None, min_samples_leaf=1,\n",
              "                      min_samples_split=2, min_weight_fraction_leaf=0.0,\n",
              "                      n_estimators=100, n_jobs=-1, oob_score=False,\n",
              "                      random_state=42, verbose=0, warm_start=False)"
            ]
          },
          "metadata": {
            "tags": []
          },
          "execution_count": 126
        }
      ]
    },
    {
      "cell_type": "code",
      "metadata": {
        "colab": {
          "base_uri": "https://localhost:8080/"
        },
        "id": "UaVjeRem2tjS",
        "outputId": "70fc5956-f6ab-4c71-b3b4-b226bdbc59b7"
      },
      "source": [
        "%%time\r\n",
        "\r\n",
        "# Model with ideal hyperparameter tuning\r\n",
        "\r\n",
        "ideal_model_prcp = RandomForestRegressor(n_estimators=40,\r\n",
        "                                   min_samples_leaf=1,\r\n",
        "                                   min_samples_split=14,\r\n",
        "                                   max_features=0.5,\r\n",
        "                                   n_jobs=-1,\r\n",
        "                                   max_samples=None,\r\n",
        "                                   random_state=42)\r\n",
        "\r\n",
        "# Fit the model\r\n",
        "ideal_model_prcp.fit(X_train, y_train)"
      ],
      "execution_count": 127,
      "outputs": [
        {
          "output_type": "stream",
          "text": [
            "CPU times: user 290 ms, sys: 9.61 ms, total: 300 ms\n",
            "Wall time: 221 ms\n"
          ],
          "name": "stdout"
        }
      ]
    },
    {
      "cell_type": "code",
      "metadata": {
        "colab": {
          "base_uri": "https://localhost:8080/"
        },
        "id": "8W04rNSx21cR",
        "outputId": "9247ab67-5b70-4795-e6ac-d9cacc7582fe"
      },
      "source": [
        "# Score for idea_model (trained on all the data)\r\n",
        "show_score(ideal_model_prcp)"
      ],
      "execution_count": 128,
      "outputs": [
        {
          "output_type": "execute_result",
          "data": {
            "text/plain": [
              "{'Training MAE': 1.5067924088221325,\n",
              " 'Training RMSLE': 0.5536845198610987,\n",
              " 'Training R^2-Score': 0.6397049322476365,\n",
              " 'Valid MAE': 2.013819619078128,\n",
              " 'Valid RMSLE': 0.7766399169082656,\n",
              " 'Valid R^2-Score': 0.12418349850181598}"
            ]
          },
          "metadata": {
            "tags": []
          },
          "execution_count": 128
        }
      ]
    },
    {
      "cell_type": "markdown",
      "metadata": {
        "id": "Rf3F02Up3B66"
      },
      "source": [
        "### Make Prediction on test data"
      ]
    },
    {
      "cell_type": "code",
      "metadata": {
        "id": "-skpy0tt28MU"
      },
      "source": [
        "test_preds_prcp = ideal_model_prcp.predict(X_valid)"
      ],
      "execution_count": 129,
      "outputs": []
    },
    {
      "cell_type": "code",
      "metadata": {
        "colab": {
          "base_uri": "https://localhost:8080/"
        },
        "id": "06ucVE723LYy",
        "outputId": "f2646985-323d-487c-85ec-bd07193571d7"
      },
      "source": [
        "test_preds_prcp"
      ],
      "execution_count": 130,
      "outputs": [
        {
          "output_type": "execute_result",
          "data": {
            "text/plain": [
              "array([6.52831128e+00, 6.07845984e+00, 6.35717620e+00, 3.84202209e+00,\n",
              "       5.83633336e+00, 4.86851070e+00, 5.53877699e+00, 4.63175490e+00,\n",
              "       4.34009866e+00, 2.88231845e+00, 4.02221901e+00, 3.20784918e+00,\n",
              "       3.60017746e+00, 4.31277343e+00, 2.66117102e+00, 2.13165154e+00,\n",
              "       1.86667316e+00, 3.55369513e+00, 2.06237481e+00, 3.86841835e+00,\n",
              "       3.51329681e+00, 4.02395212e+00, 6.13136841e+00, 6.03349092e+00,\n",
              "       5.32293359e+00, 3.26594535e+00, 5.02759811e+00, 2.80451189e+00,\n",
              "       2.45934906e+00, 2.53613095e+00, 2.85111308e+00, 5.79214716e+00,\n",
              "       3.81856363e+00, 6.24206355e+00, 5.45098331e+00, 6.15800355e+00,\n",
              "       6.15800355e+00, 4.67005489e+00, 3.46644664e+00, 2.97891662e+00,\n",
              "       4.65804280e+00, 4.53330523e+00, 4.27173517e+00, 4.27173517e+00,\n",
              "       4.27173517e+00, 3.95211568e+00, 3.69491294e+00, 2.84061930e+00,\n",
              "       4.27489154e+00, 4.43126276e+00, 3.63217859e+00, 4.69800910e+00,\n",
              "       2.23934785e+00, 1.84182556e+00, 3.71935067e+00, 2.95771015e+00,\n",
              "       3.37420227e+00, 5.17706323e+00, 6.12593274e+00, 5.68750637e+00,\n",
              "       2.97661052e+00, 3.79118499e+00, 3.71746851e+00, 4.43910018e+00,\n",
              "       3.70502304e+00, 4.25023594e+00, 5.70872681e+00, 1.76255918e+00,\n",
              "       1.78983191e+00, 3.58530049e+00, 3.94965684e+00, 1.24460737e+00,\n",
              "       2.48955357e+00, 4.63609789e+00, 3.84791898e+00, 1.63330370e+00,\n",
              "       4.60306762e+00, 2.46304994e+00, 2.54478524e+00, 4.44326387e+00,\n",
              "       3.63344846e+00, 2.05403375e+00, 3.12988774e+00, 2.11307091e+00,\n",
              "       2.29448208e+00, 2.77029588e+00, 3.00476499e+00, 3.12210190e+00,\n",
              "       5.31899183e+00, 7.98323557e+00, 2.65805145e+00, 2.53495210e+00,\n",
              "       2.95266424e+00, 3.84412078e+00, 5.32152475e+00, 3.28511620e+00,\n",
              "       2.09603466e+00, 5.24159768e+00, 2.96413104e+00, 3.23695247e+00,\n",
              "       1.55833493e+00, 1.44930368e+00, 1.05977134e+00, 2.46394765e-01,\n",
              "       3.82106935e-01, 3.67028846e-01, 4.16113054e-01, 4.21045266e-01,\n",
              "       1.33256036e-01, 3.42635516e-01, 4.63677542e-02, 2.32813516e-01,\n",
              "       3.76155839e-02, 6.55756297e-02, 1.04783963e-01, 6.54956167e+00,\n",
              "       1.59273687e+01, 1.62427922e+01, 1.38471205e+01, 1.75900453e+00,\n",
              "       1.28914080e+00, 8.73230119e-01, 5.79230374e-01, 2.09778981e-01,\n",
              "       3.25415886e-01, 2.88742226e-01, 2.14334409e-01, 6.84882550e-02,\n",
              "       1.80725462e-01, 4.25769751e-01, 6.72340686e-02, 3.29431851e-01,\n",
              "       2.84408222e-01, 2.43298103e-01, 2.43147367e-01, 4.20384199e-02,\n",
              "       4.17830043e-01, 2.46976381e-01, 4.95582267e-02, 1.45650274e-02,\n",
              "       1.35874633e-02, 1.66781226e-02, 7.15505072e-02, 1.04117154e-02,\n",
              "       7.03227696e-02, 1.06777688e-02, 2.24732323e-01, 3.55978261e-03,\n",
              "       3.55978261e-03, 2.11167106e-01, 1.26184871e-02, 1.50437007e-02,\n",
              "       9.03675629e-03, 1.41028265e-01, 2.68404365e-02, 1.14496059e-02,\n",
              "       2.68404365e-02, 3.57765308e-02, 2.12071256e-02, 1.63737923e-02,\n",
              "       1.30012653e-02, 2.17028568e-02, 5.03334766e-02, 3.56697291e-02,\n",
              "       6.88909524e-02, 6.09626307e-02, 1.85683622e-02, 2.29307151e-02,\n",
              "       1.12356394e-02, 1.72116516e-02, 2.15420087e-02, 2.33529062e-02,\n",
              "       3.38845961e-02, 9.96670902e-03, 4.71308296e-02, 6.44554268e-03,\n",
              "       5.23261198e-02, 3.84605883e-03, 2.27475729e-02, 3.87228261e-03,\n",
              "       6.43180642e-03, 7.10681124e-03, 8.51044050e-03, 3.17602273e-03])"
            ]
          },
          "metadata": {
            "tags": []
          },
          "execution_count": 130
        }
      ]
    },
    {
      "cell_type": "code",
      "metadata": {
        "colab": {
          "base_uri": "https://localhost:8080/",
          "height": 391
        },
        "id": "Lco2Zwty3NnP",
        "outputId": "baebf9d8-3758-48ca-f18a-df1334d4ead2"
      },
      "source": [
        "\r\n",
        "plt.figure(figsize=(12,6))\r\n",
        "plt.scatter(y_valid, test_preds_prcp)"
      ],
      "execution_count": 131,
      "outputs": [
        {
          "output_type": "execute_result",
          "data": {
            "text/plain": [
              "<matplotlib.collections.PathCollection at 0x7f07d06ccc18>"
            ]
          },
          "metadata": {
            "tags": []
          },
          "execution_count": 131
        },
        {
          "output_type": "display_data",
          "data": {
            "image/png": "[encoded data removed]",
            "text/plain": [
              "<Figure size 864x432 with 1 Axes>"
            ]
          },
          "metadata": {
            "tags": [],
            "needs_background": "light"
          }
        }
      ]
    },
    {
      "cell_type": "code",
      "metadata": {
        "colab": {
          "base_uri": "https://localhost:8080/",
          "height": 393
        },
        "id": "6jUYsLQ-3Rfc",
        "outputId": "49ea7a3e-5836-4579-fda6-899688fff95e"
      },
      "source": [
        "#Make a line\r\n",
        "plt.figure(figsize=(12,6))\r\n",
        "plt.scatter(y_valid, test_preds_prcp)\r\n",
        "plt.plot(y_valid, y_valid, 'r')"
      ],
      "execution_count": 132,
      "outputs": [
        {
          "output_type": "execute_result",
          "data": {
            "text/plain": [
              "[<matplotlib.lines.Line2D at 0x7f07d071f1d0>]"
            ]
          },
          "metadata": {
            "tags": []
          },
          "execution_count": 132
        },
        {
          "output_type": "display_data",
          "data": {
            "image/png": "[encoded data removed]",
            "text/plain": [
              "<Figure size 864x432 with 1 Axes>"
            ]
          },
          "metadata": {
            "tags": [],
            "needs_background": "light"
          }
        }
      ]
    },
    {
      "cell_type": "markdown",
      "metadata": {
        "id": "UxkDsvRw3iCD"
      },
      "source": [
        "# **Custom Data Predictions**\r\n",
        "\r\n",
        "* We will predict a new precipitation depending upon A new year \r\n",
        "\r\n",
        "\r\n",
        "\r\n",
        "> Put Date,Month, Year, TMAX, TMIN, and HUMIDITY below\r\n",
        "\r\n"
      ]
    },
    {
      "cell_type": "code",
      "metadata": {
        "colab": {
          "base_uri": "https://localhost:8080/"
        },
        "id": "opTN3Iin3VcK",
        "outputId": "6dcb1e47-c1ee-45d3-ad19-5ca51269ff7a"
      },
      "source": [
        "# Here 2020 is the year, 12 is the month and 11 is the day of the date\r\n",
        "New_year_to_predict_prcp = [[11,12,2020,31.25,22.81,53.44]]\r\n",
        "Custom_prcp_preds = ideal_model_prcp.predict(New_year_to_predict_prcp)\r\n",
        "print(f' Predicted precipitation is:  {Custom_prcp_preds[0]:.2f} ')"
      ],
      "execution_count": 133,
      "outputs": [
        {
          "output_type": "stream",
          "text": [
            " Predicted precipitation is:  0.03 \n"
          ],
          "name": "stdout"
        }
      ]
    },
    {
      "cell_type": "code",
      "metadata": {
        "id": "X0djk5ZK4BWm"
      },
      "source": [
        ""
      ],
      "execution_count": 133,
      "outputs": []
    }
  ]
}